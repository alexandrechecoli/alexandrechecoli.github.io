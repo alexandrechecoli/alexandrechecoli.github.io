{
 "cells": [
  {
   "cell_type": "markdown",
   "id": "6d394a03",
   "metadata": {},
   "source": [
    "# Aula 3 - Conceitos básicos Python II  - ED e Funções\n",
    "\n",
    "\n",
    "## 3.1 Estruturas de dados imbutidas\n",
    "\n",
    "As estruturas de dados em python são simples porém eficazes. As estruturas de dados mais usadas são **Tuplas**,**lists**, **dict**\n",
    "### 3.1.1Tuplas\n",
    "Uma Tupla é uma sequência **imutável**, de tamanho fixo, de objetos Python. A forma mais fácil para se criar uma tupla é com uma sequencia separada por virgulas."
   ]
  },
  {
   "cell_type": "code",
   "execution_count": 1,
   "id": "15685d00",
   "metadata": {},
   "outputs": [
    {
     "name": "stdout",
     "output_type": "stream",
     "text": [
      "(1, 2, 4, 8, 'ok')\n"
     ]
    }
   ],
   "source": [
    "tupla = 1,2,4,8,\"ok\"\n",
    "print(tupla)"
   ]
  },
  {
   "cell_type": "markdown",
   "id": "a6366e18",
   "metadata": {},
   "source": [
    "Geralmente usamos parênteses para criar tuplas mais complicadas, como tuplas de tuplas."
   ]
  },
  {
   "cell_type": "code",
   "execution_count": 2,
   "id": "3866500f",
   "metadata": {},
   "outputs": [
    {
     "name": "stdout",
     "output_type": "stream",
     "text": [
      "Número de elementos da tupla :  3\n",
      "Número de elementos da tupla dentro da tupla :  3\n",
      "Primeiro elemento da tupla :  (10, 20, 30)\n",
      "Segundo elemento da tupla :  esta tupla tem uma tupla, uma estring e uma lista\n",
      "Terceiro elemento da tupla :  [1, 2, 3]\n"
     ]
    }
   ],
   "source": [
    "tupla_aninhada = (10,20,30),\"esta tupla tem uma tupla, uma estring e uma lista\", [1,2,3]\n",
    "\n",
    "print(\"Número de elementos da tupla : \", len(tupla_aninhada))\n",
    "print(\"Número de elementos da tupla dentro da tupla : \", len(tupla_aninhada[0]))\n",
    "print(\"Primeiro elemento da tupla : \", tupla_aninhada[0])\n",
    "print(\"Segundo elemento da tupla : \", tupla_aninhada[1])\n",
    "print(\"Terceiro elemento da tupla : \", tupla_aninhada[2])\n"
   ]
  },
  {
   "cell_type": "markdown",
   "id": "98414436",
   "metadata": {},
   "source": [
    "Podemos converteer qualquer elemento em uma tupla chamando o metodo **tuple()**."
   ]
  },
  {
   "cell_type": "code",
   "execution_count": 3,
   "id": "d0bbaeef",
   "metadata": {},
   "outputs": [
    {
     "name": "stdout",
     "output_type": "stream",
     "text": [
      "Esta é uma lista :  ['Serei', 'Convertida', 'Em', 'Uma', 'Tupla']\n",
      "Agora é uma tupla :  ('Serei', 'Convertida', 'Em', 'Uma', 'Tupla')\n"
     ]
    }
   ],
   "source": [
    "lista = [\"Serei\",\"Convertida\",\"Em\",\"Uma\",\"Tupla\"]\n",
    "print(\"Esta é uma lista : \",lista)\n",
    "\n",
    "tupla_de_lista = tuple(lista)\n",
    "print(\"Agora é uma tupla : \", tupla_de_lista)"
   ]
  },
  {
   "cell_type": "markdown",
   "id": "ecc604fc",
   "metadata": {},
   "source": [
    "Como a tupla é imutável, não podemos substituir os elementos dela:"
   ]
  },
  {
   "cell_type": "code",
   "execution_count": 4,
   "id": "2e3b6c08",
   "metadata": {},
   "outputs": [
    {
     "ename": "TypeError",
     "evalue": "'tuple' object does not support item assignment",
     "output_type": "error",
     "traceback": [
      "\u001b[1;31m---------------------------------------------------------------------------\u001b[0m",
      "\u001b[1;31mTypeError\u001b[0m                                 Traceback (most recent call last)",
      "Input \u001b[1;32mIn [4]\u001b[0m, in \u001b[0;36m<cell line: 2>\u001b[1;34m()\u001b[0m\n\u001b[0;32m      1\u001b[0m tupla_aninhada \u001b[38;5;241m=\u001b[39m (\u001b[38;5;241m10\u001b[39m,\u001b[38;5;241m20\u001b[39m,\u001b[38;5;241m30\u001b[39m),\u001b[38;5;124m\"\u001b[39m\u001b[38;5;124mesta tupla tem uma tupla, uma estring e uma lista\u001b[39m\u001b[38;5;124m\"\u001b[39m, [\u001b[38;5;241m1\u001b[39m,\u001b[38;5;241m2\u001b[39m,\u001b[38;5;241m3\u001b[39m]\n\u001b[1;32m----> 2\u001b[0m tupla_aninhada[\u001b[38;5;241m0\u001b[39m] \u001b[38;5;241m=\u001b[39m \u001b[38;5;124m\"\u001b[39m\u001b[38;5;124mAlternado o primeiro elemento\u001b[39m\u001b[38;5;124m\"\u001b[39m\n",
      "\u001b[1;31mTypeError\u001b[0m: 'tuple' object does not support item assignment"
     ]
    }
   ],
   "source": [
    "tupla_aninhada = (10,20,30),\"esta tupla tem uma tupla, uma estring e uma lista\", [1,2,3]\n",
    "tupla_aninhada[0] = \"Alternado o primeiro elemento\""
   ]
  },
  {
   "cell_type": "markdown",
   "id": "7626823a",
   "metadata": {},
   "source": [
    "Porém, se o elemento em si for mutável, podemos altera-lo *in place*. Por exemplo uma lista, podemos inserir ou remover elementos de uma lista dentro de uma tupla, porém não podemos subtituir a lista por outro Objeto:"
   ]
  },
  {
   "cell_type": "code",
   "execution_count": null,
   "id": "81867e50",
   "metadata": {},
   "outputs": [],
   "source": [
    "print(\"Tupla antes de inserir um elemento na lista\",tupla_aninhada)\n",
    "\n",
    "tupla_aninhada[2].append(4)\n",
    "print(\"Tupla após inserir um elemento na lista\",tupla_aninhada)"
   ]
  },
  {
   "cell_type": "markdown",
   "id": "77f2b6f8",
   "metadata": {},
   "source": [
    "#### Desempacotando tuplas\n",
    "\n",
    "Uma das vantagens de se usar tuplas é o seu desempacotamento, ou seja, a atribuição dos elementos das tuplas em variáveis."
   ]
  },
  {
   "cell_type": "code",
   "execution_count": null,
   "id": "8a1d45bc",
   "metadata": {},
   "outputs": [],
   "source": [
    "tupla_desempacotada = (10,20,30,40,50)\n",
    "a, b, c, d, e = tupla_desempacotada\n",
    "print(\"Os elementos da tupla foram atribuidos às variaveis :\", a,b,c,d,e)"
   ]
  },
  {
   "cell_type": "markdown",
   "id": "19d90342",
   "metadata": {},
   "source": [
    "Ainda, podemos necessitar somente dos valores iniciais da tupla, de forma que todo o resto deve ser desempacotado em uma variável. Para isso podemos usamos um nome de variável com um asterisco*. Todo o resto que não for atribuido às variáveis será"
   ]
  },
  {
   "cell_type": "code",
   "execution_count": null,
   "id": "959aa7c1",
   "metadata": {},
   "outputs": [],
   "source": [
    "tupla_desempacotada = (10,20,30,40,50)\n",
    "a, b, *resto = tupla_desempacotada\n",
    "print(\"O resto possui então : \", resto)"
   ]
  },
  {
   "cell_type": "markdown",
   "id": "3e54e7b8",
   "metadata": {},
   "source": [
    "#### Iterando pelos elementos\n",
    "\n",
    "Podemos iterar os elementos de uma lista usando a sintaxe **in** ou ainda pelos proprios indices:"
   ]
  },
  {
   "cell_type": "code",
   "execution_count": null,
   "id": "3b146dfe",
   "metadata": {},
   "outputs": [],
   "source": [
    "tupla1 = (0,1,2,3,4,5)\n",
    "for e in tupla1:\n",
    "    print(e)\n",
    " \n",
    "for i in range(0, len(tupla1)):\n",
    "    print(tupla1[i])"
   ]
  },
  {
   "cell_type": "markdown",
   "id": "c9ba5e2f",
   "metadata": {},
   "source": [
    "### 3.1.2 Listas\n",
    "\n",
    "Em oposição às tuplas, as listas têm tamanhos variáveis e seu conteúdo pode ser modificado in-place. Podemos defini-las usando colchetes [ ] ou com a função **list()**."
   ]
  },
  {
   "cell_type": "code",
   "execution_count": null,
   "id": "f879ac00",
   "metadata": {},
   "outputs": [],
   "source": [
    "lista1 = [1,2,3,5,4]\n",
    "lista2 = list((1,2,3,5,4))"
   ]
  },
  {
   "cell_type": "markdown",
   "id": "12924226",
   "metadata": {},
   "source": [
    "Podemos inserir elementos à uma lista de duas formas distintas:\n",
    "* append(): insere o novo elemento no fim da lista\n",
    "* insert(): insere um novo elemento em uma determinada posição. O indice de inserção deve estar entre 0 e o tamanho da lista"
   ]
  },
  {
   "cell_type": "code",
   "execution_count": null,
   "id": "c002d7f5",
   "metadata": {},
   "outputs": [],
   "source": [
    "lista1.append(5)\n",
    "print(lista1)\n",
    "\n",
    "lista2.insert(3, \"novo elemento na posição 3\")\n",
    "print(lista2)"
   ]
  },
  {
   "cell_type": "markdown",
   "id": "36257fc6",
   "metadata": {},
   "source": [
    "Para remover elementos podemos uar dois métodos:\n",
    "* remove( ): Remove um elemento pelo seu valor\n",
    "* pop( ): remove um elemento com base em seu índice"
   ]
  },
  {
   "cell_type": "code",
   "execution_count": null,
   "id": "519abcb0",
   "metadata": {},
   "outputs": [],
   "source": [
    "lista1 = [1,2,3,5,4]\n",
    "print(\"Lista antes da remoção : \", lista1)\n",
    "\n",
    "lista1.remove(3)\n",
    "print(\"Lista após a remoção da elemento '3' : \", lista1)\n",
    "\n",
    "lista1.pop(0)\n",
    "print(\"Lista após a remoção do elemento de indice 0 : \", lista1)"
   ]
  },
  {
   "cell_type": "markdown",
   "id": "395446df",
   "metadata": {},
   "source": [
    "Usando remove, podemos tentar remover um elemento que não existe, o que origina um erro:"
   ]
  },
  {
   "cell_type": "code",
   "execution_count": null,
   "id": "0a0a28c7",
   "metadata": {},
   "outputs": [],
   "source": [
    "lista1 = [1,2,3,5,4]\n",
    "lista1.remove(\"elemento não existe\")"
   ]
  },
  {
   "cell_type": "markdown",
   "id": "2b31fb74",
   "metadata": {},
   "source": [
    "Para tratar isso, podemos primeiro verificar se o elemento existe na lista, e se existit executamos a remoção do mesmo:"
   ]
  },
  {
   "cell_type": "code",
   "execution_count": null,
   "id": "5940b252",
   "metadata": {},
   "outputs": [],
   "source": [
    "lista1 = [1,2,3,5,4]\n",
    "\n",
    "# Verificamos se o elemento está na lista\n",
    "if \"elemento não existe\" in lista1:\n",
    "    lista1.remove(\"elemento não existe\")\n",
    "    print(\"Elemento removido com sucesso!\")\n",
    "else:\n",
    "    print(\"Elemento não está contido na lista\")"
   ]
  },
  {
   "cell_type": "markdown",
   "id": "8f1bbf5c",
   "metadata": {},
   "source": [
    "#### Operações com listas\n",
    "\n",
    "Como em tuplas, somar duas listas com + as concatena:\n"
   ]
  },
  {
   "cell_type": "code",
   "execution_count": null,
   "id": "6ca242ff",
   "metadata": {},
   "outputs": [],
   "source": [
    "lista1 = [1,2,3,5,4]\n",
    "lista2 = [True, False, (1,2,3)]\n",
    "\n",
    "lista_concatenada = lista1 + lista2\n",
    "\n",
    "print(\"A soma das listas é :\", lista_concatenada)"
   ]
  },
  {
   "cell_type": "markdown",
   "id": "cabc2dc6",
   "metadata": {},
   "source": [
    "A multiplicação por um escalar *n* simplesmente repete a lista *n* vezes."
   ]
  },
  {
   "cell_type": "code",
   "execution_count": null,
   "id": "5e757c16",
   "metadata": {},
   "outputs": [],
   "source": [
    "lista1 = [1,2,3]\n",
    "print(lista1*2)"
   ]
  },
  {
   "cell_type": "markdown",
   "id": "04d0735b",
   "metadata": {},
   "source": [
    "#### Ordenação\n",
    "\n",
    "Uma lista pode ser ordenada in-place (sem criar um novo objeto), com o método **sort()**."
   ]
  },
  {
   "cell_type": "code",
   "execution_count": null,
   "id": "cc33b096",
   "metadata": {},
   "outputs": [],
   "source": [
    "lista1 = [1,2,3,5,4,-1,8,100,5,0.5,-5,0.55]\n",
    "print(\"Lista sem ordenação : \", lista1)\n",
    "\n",
    "lista1.sort()\n",
    "print(\"Lista ordenada : \", lista1)"
   ]
  },
  {
   "cell_type": "markdown",
   "id": "dad1a7cb",
   "metadata": {},
   "source": [
    "Podemos ordenar de forma decrescente adicionando um argumento à função:"
   ]
  },
  {
   "cell_type": "code",
   "execution_count": null,
   "id": "3cf09b74",
   "metadata": {},
   "outputs": [],
   "source": [
    "lista1 = [1,2,3,5,4,-1,8,100,5,0.5,-5,0.55]\n",
    "print(\"Lista sem ordenação : \", lista1)\n",
    "\n",
    "lista1.sort(reverse =  True)\n",
    "print(\"Lista ordenada : \", lista1)"
   ]
  },
  {
   "cell_type": "markdown",
   "id": "ace81745",
   "metadata": {},
   "source": [
    "#### Fatiamento\n",
    "\n",
    "Podemos selecionar seções da maioria dos tipos de sequência usando a notação de fatias (slices), que em seu formato básico é constituida de start:stop passado ao operador [ ]. Os elementos do fatiamento NÃO INCLUEM o indice stop:"
   ]
  },
  {
   "cell_type": "code",
   "execution_count": null,
   "id": "5c3fb088",
   "metadata": {},
   "outputs": [],
   "source": [
    "lista1 = [0,1,2,3,4,5]\n",
    "print(lista1[0:2]) # O elemento de indice 2 NÃO foi impresso"
   ]
  },
  {
   "cell_type": "markdown",
   "id": "c61a37cb",
   "metadata": {},
   "source": [
    "Se start não é especificado o valor default é 0, se stop não é definido o valor default é o último elemento da lista:"
   ]
  },
  {
   "cell_type": "code",
   "execution_count": null,
   "id": "00f23a94",
   "metadata": {},
   "outputs": [],
   "source": [
    "lista1 = [0,1,2,3,4,5]\n",
    "print(lista1[:2])\n",
    "print(lista1[3:])"
   ]
  },
  {
   "cell_type": "markdown",
   "id": "a865a9e7",
   "metadata": {},
   "source": [
    "#### Iterando pelos elementos\n",
    "\n",
    "Podemos iterar os elementos de uma lista usando a sintaxe **in** ou ainda pelos proprios indices:"
   ]
  },
  {
   "cell_type": "code",
   "execution_count": null,
   "id": "b689ba01",
   "metadata": {},
   "outputs": [],
   "source": [
    "lista1 = [0,1,2,3,4,5]\n",
    "for e in lista1:\n",
    "    print(e)\n",
    "    \n",
    "for i in range(0, len(lista1)):\n",
    "    print(lista1[i])"
   ]
  },
  {
   "cell_type": "markdown",
   "id": "cafdced1",
   "metadata": {},
   "source": [
    "### 3.1.3 Dict\n",
    "\n",
    "**dict** provavelmente é a estrutura de dados embutida mais importante de Python. Um nome mais comum para ela é *hash map*. Um dict (dicionário) consiste de pares *chave-valor* de tamanho flexível, em que *chave* e *valor* são objetos Python. Uma abordagem para se criar um dicionário é usar chaves { } e dois pontos (:) para separar chaves e valores. Diferentes pares chave:valor são separados por virgula (,). Dicionários são estruturas **mutáveis**."
   ]
  },
  {
   "cell_type": "code",
   "execution_count": null,
   "id": "b8be37e1",
   "metadata": {},
   "outputs": [],
   "source": [
    "dic1 = {\"chave1\":2, \"chave2\":3, \"chave3\":4, \"ch4\":[1,2,3,4]}\n",
    "print(dic1)"
   ]
  },
  {
   "cell_type": "markdown",
   "id": "4f511363",
   "metadata": {},
   "source": [
    "Note que os as chaves e valores não precisam ser do mesmo tipo. Para inserir um novo par chave:valor é utilizada a mesma sintaxe para acessar os elementos de uma lista."
   ]
  },
  {
   "cell_type": "code",
   "execution_count": null,
   "id": "8e7cca32",
   "metadata": {},
   "outputs": [],
   "source": [
    "dic1[\"Nova chave\"] = \"Novo valor\"\n",
    "print(dic1)"
   ]
  },
  {
   "cell_type": "markdown",
   "id": "3375b510",
   "metadata": {},
   "source": [
    "Podemos ainda criar dicionários com a palavra reservada **dict()**:"
   ]
  },
  {
   "cell_type": "code",
   "execution_count": null,
   "id": "08de9b59",
   "metadata": {},
   "outputs": [],
   "source": [
    "novo_dic = dict()"
   ]
  },
  {
   "cell_type": "markdown",
   "id": "7225060e",
   "metadata": {},
   "source": [
    "Uma das grandes vantagens dos dicionários é que podemos recuperar os valores pelas suas chaves, com a mesma notação das listas e tuplas, porém no lugar do índice usamos a chave:"
   ]
  },
  {
   "cell_type": "code",
   "execution_count": null,
   "id": "00d0ace4",
   "metadata": {},
   "outputs": [],
   "source": [
    "print(dic1[\"chave1\"])\n",
    "print(dic1[\"chave2\"])"
   ]
  },
  {
   "cell_type": "markdown",
   "id": "26905c05",
   "metadata": {},
   "source": [
    "Ainda, podemos acessar as propriedades dos elementos aninhados dentro das chaves. Por exemplo, inserindo um novo elemento na lista armazenada com a chave \"lista\":"
   ]
  },
  {
   "cell_type": "code",
   "execution_count": null,
   "id": "9e8b9448",
   "metadata": {},
   "outputs": [],
   "source": [
    "dic1 = {\"chave1\":2, \"chave2\":3, \"chave3\":4, \"lista\":[1,2,3,4]}\n",
    "dic1[\"lista\"].append(10)\n",
    "print(dic1)"
   ]
  },
  {
   "cell_type": "markdown",
   "id": "4bcbec0a",
   "metadata": {},
   "source": [
    "Se tertarmos acessar uma chave que não existe, um erro será emitido:"
   ]
  },
  {
   "cell_type": "code",
   "execution_count": null,
   "id": "1eeaed6b",
   "metadata": {},
   "outputs": [],
   "source": [
    "dic1[\"chave_inexistente\"]"
   ]
  },
  {
   "cell_type": "markdown",
   "id": "2de6235a",
   "metadata": {},
   "source": [
    "Assim, podemos primeiro verificar se a chave existe e, em caso positivo, realizamos a operação no valor."
   ]
  },
  {
   "cell_type": "code",
   "execution_count": null,
   "id": "654fc881",
   "metadata": {},
   "outputs": [],
   "source": [
    "dic1 = {\"chave1\":2, \"chave2\":3, \"chave3\":4, \"lista\":[1,2,3,4]}\n",
    "if \"chave_inexistente\" in dic1:\n",
    "    print(dic1[\"chave_inexistente\"])\n",
    "else:\n",
    "    print(\"Chave não existe\")"
   ]
  },
  {
   "cell_type": "markdown",
   "id": "4b02c146",
   "metadata": {},
   "source": [
    "Podemos apagar uma chave usando a palavra **del**."
   ]
  },
  {
   "cell_type": "code",
   "execution_count": null,
   "id": "d74d8235",
   "metadata": {},
   "outputs": [],
   "source": [
    "dic1 = {\"chave1\":2, \"chave2\":3, \"chave3\":4, \"lista\":[1,2,3,4]}\n",
    "print(\"Antes da remoção : \", dic1)\n",
    "del dic1[\"chave1\"]\n",
    "print(\"Após a remoção da chave1 : \", dic1)"
   ]
  },
  {
   "cell_type": "markdown",
   "id": "1f3e3936",
   "metadata": {},
   "source": [
    "Os métodos **keys()** e **values()** oferecem iteradores para as chaves e para os valores do dicionário, respectivamente. Embora os pares chave:valor não estejam em uma ordem particular, essas funções devolvem as chaves e os valores na mesma ordem."
   ]
  },
  {
   "cell_type": "code",
   "execution_count": null,
   "id": "7cdcda2c",
   "metadata": {},
   "outputs": [],
   "source": [
    "dic1 = {\"chave1\":2, \"chave2\":3, \"chave3\":4, \"lista\":[1,2,3,4]}\n",
    "\n",
    "for chave in dic1.keys():\n",
    "    print(chave)\n",
    "    \n",
    "for valor in dic1.values():\n",
    "    print(valor)"
   ]
  },
  {
   "cell_type": "code",
   "execution_count": null,
   "id": "50e7b287",
   "metadata": {},
   "outputs": [],
   "source": [
    "dic1 = {\"chave1\":2, \"chave2\":3, \"chave3\":4, \"lista\":[1,2,3,4]}\n",
    "\n",
    "# Podemos ainda capturar os iteradores transformando-os em listas:\n",
    "lista_de_chaves = list(dic1.keys())\n",
    "print(lista_de_chaves)\n",
    "print(lista_de_chaves[0])"
   ]
  },
  {
   "cell_type": "markdown",
   "id": "06ab568f",
   "metadata": {},
   "source": [
    "#### Criando dicionários a partir de sequências\n",
    "\n",
    "É comum ocasionalemnte acabar com duas sequências cujos elementos você queira parear em um dicionário. Para isso usamos a função **zip** em um dicionário:"
   ]
  },
  {
   "cell_type": "code",
   "execution_count": null,
   "id": "46519f99",
   "metadata": {},
   "outputs": [],
   "source": [
    "lista_de_chaves  = [\"chave1\",\"chave2\", \"chave3\"]\n",
    "lista_de_valores = [2,3,4]\n",
    "\n",
    "novo_dicionario = dict(zip(lista_de_chaves,lista_de_valores))\n",
    "print(novo_dicionario)"
   ]
  },
  {
   "cell_type": "markdown",
   "id": "7abf222b",
   "metadata": {},
   "source": [
    "#### Tipos de chaves válidas para dicionários\n",
    "Enquanto os valores de um dicionário podem ser qualquer objeto Python, as chaves devem ser int, float, string ou tuplas. Se uma tupla for usada como chave, os objetos da tupla devem ser imutáveis."
   ]
  },
  {
   "cell_type": "markdown",
   "id": "b7fe047b",
   "metadata": {},
   "source": [
    "### 3.1.4 List e dict comprehension (abrangência)\n",
    "\n",
    "#### List comprehension\n",
    "List *comprehension* (abrangências de lista) são um dos recursos mais amados da linguagem Python. Elas permitem que você componha uma nova lista de modo conciso, filtrando os elementos de uma coleção, transformando os elementos ao passar pelo filtro, com uma expressão concisa. As list comprehension assumem o seguinte formato básico:\n",
    "\n",
    "`result = [expr for val in collection if condition]`\n",
    "\n",
    "Isso é equivalente ao laço a seguir:\n",
    "\n",
    "```python\n",
    "result = []\n",
    "for val in collection:\n",
    "    if condition:\n",
    "        result.append(expr)\n",
    "```\n",
    "Por exemplo, dad uma lista de strings, poderiamos filtrar, eliminado aquelas de tamanho 2 ou menores, e também converter as strings para letras maiúsculas assim:"
   ]
  },
  {
   "cell_type": "code",
   "execution_count": null,
   "id": "9b22b1fc",
   "metadata": {},
   "outputs": [],
   "source": [
    "strings    = ['a', 'as','bat','car','dove','python']\n",
    "nova_lista = [x.upper() for x in strings if len(x) > 2]\n",
    "print(nova_lista)"
   ]
  },
  {
   "cell_type": "markdown",
   "id": "e27ebe00",
   "metadata": {},
   "source": [
    "Ainda, podemos omitir a condição. Considere a forma usual de se criar uma lista com os inteiros de 0 a 10:"
   ]
  },
  {
   "cell_type": "code",
   "execution_count": null,
   "id": "19dd109b",
   "metadata": {},
   "outputs": [],
   "source": [
    "lista_inteiros = []\n",
    "for i in range(11):\n",
    "    lista_inteiros.append(i)\n",
    "\n",
    "print(lista_inteiros)"
   ]
  },
  {
   "cell_type": "markdown",
   "id": "6fc22ec2",
   "metadata": {},
   "source": [
    "Podemos escrever a mesma lista com as comprehensions da seguinte forma:"
   ]
  },
  {
   "cell_type": "code",
   "execution_count": null,
   "id": "018d70ae",
   "metadata": {},
   "outputs": [],
   "source": [
    "lista_inteiros = [i for i in range(11)]\n",
    "print(lista_inteiros)"
   ]
  },
  {
   "cell_type": "markdown",
   "id": "7a6abed6",
   "metadata": {},
   "source": [
    "#### Dict comprehension\n",
    "\n",
    "Assim como em listas, podemos criar dict comprehensions, com o seguinte aspecto:\n",
    "\n",
    "```python\n",
    "dict_comp = {expr-chave:expr-valor for value in collection if condition}\n",
    "```\n",
    "\n",
    "Da mesma forma, a condição pode ser omitida. Considere a criação de um dicionário em que as chaves são números inteiros de 0 a 10 e os valores são os valores das chaves ao quadrado. Da forma usual o dicionário poderia ser criado da seguinte forma:"
   ]
  },
  {
   "cell_type": "code",
   "execution_count": null,
   "id": "38401b8b",
   "metadata": {},
   "outputs": [],
   "source": [
    "dic_potencia = dict()\n",
    "for i in range(11):\n",
    "    dic_potencia[i] = i**2\n",
    "\n",
    "print(dic_potencia)"
   ]
  },
  {
   "cell_type": "markdown",
   "id": "93ee4adf",
   "metadata": {},
   "source": [
    "Com as comprehensions podemos criar o mesmo dicionário da seguinte forma:"
   ]
  },
  {
   "cell_type": "code",
   "execution_count": null,
   "id": "4ee831b5",
   "metadata": {},
   "outputs": [],
   "source": [
    "dic_potencia2 = {i:i**2 for i in range(11)}\n",
    "print(dic_potencia2)"
   ]
  },
  {
   "cell_type": "markdown",
   "id": "f8f55217",
   "metadata": {},
   "source": [
    "#### List comprehensions aninhadas\n",
    "\n",
    "Considere uma lista de listas de inteiros (podemos pensar nela como uma matriz). Queremos armazenar em uma nova lista somente os números negativos das listas. Para isso podemos usar (de forma normal) dois laços for: "
   ]
  },
  {
   "cell_type": "code",
   "execution_count": null,
   "id": "f1d47d7c",
   "metadata": {},
   "outputs": [],
   "source": [
    "matriz = [[1,2,4,7,8],\n",
    "          [-1,-10,10,-8,8],\n",
    "          [-1,-10,10,-8,8]]\n",
    "\n",
    "lista_valores_negativos = []\n",
    "for i in range(len(matriz)):\n",
    "    for j in range(len(matriz[i])):\n",
    "        if(matriz[i][j] < 0):\n",
    "            lista_valores_negativos.append(matriz[i][j])\n",
    "\n",
    "print(\"O valores negativos da lista são: \", lista_valores_negativos)\n",
    "          "
   ]
  },
  {
   "cell_type": "markdown",
   "id": "3a4088ad",
   "metadata": {},
   "source": [
    "Podemos reduzir um laço e usar uma comprehension. Fazemos a iteração para cada linha, e com esta linha, ao invés de criar um novo laço para verificar elemento a elemento (como criado acima), usamos uma conprehension e um filtro para elementos menores do que zero. Como a comprehension está dentro do laço, se não salvarmos ela seus valores são perdidos, de forma que criamos uma lista externa, e a cada nova linha verificada salvamos o resultado nesta lista externa."
   ]
  },
  {
   "cell_type": "code",
   "execution_count": null,
   "id": "2ca2daa6",
   "metadata": {},
   "outputs": [],
   "source": [
    "matriz = [[1,2,4,7,8],\n",
    "          [-1,-10,10,-8,8],\n",
    "          [-1,-10,10,-8,8]]\n",
    "\n",
    "lista_valores_negativos = []\n",
    "for linhas in matriz:\n",
    "    v_negativos_linha = [v for v in linhas if v < 0]  # esta lista é apagada no fim do laço\n",
    "    lista_valores_negativos.extend(v_negativos_linha) # por isto extendemos a lista 'lista_valores_negativos'\n",
    "\n",
    "print(lista_valores_negativos)"
   ]
  },
  {
   "cell_type": "markdown",
   "id": "72c45f12",
   "metadata": {},
   "source": [
    "Podemos usar ainda mais uma comprehension para encapsular o laço externo...o resultado final fica assim:"
   ]
  },
  {
   "cell_type": "code",
   "execution_count": null,
   "id": "5f0f798d",
   "metadata": {},
   "outputs": [],
   "source": [
    "matriz = [[1,2,4,7,8],\n",
    "          [-1,-10,10,-8,8],\n",
    "          [-1,-10,10,-8,8]]\n",
    "\n",
    "lista_valores_negativos = [valor for linhas in matriz for valor in linhas if valor < 0]\n",
    "print(lista_valores_negativos)\n",
    "\n"
   ]
  },
  {
   "cell_type": "markdown",
   "id": "d5b0d99c",
   "metadata": {},
   "source": [
    "Pode parecer complicado aninhar comprehensions (e é mesmo!), mas podemos pensar o seguinte: \n",
    "primeiro colocar o valor que queremos avaliar, em seguida colocamos todos os laços, do mais externo ao mais interno. Isso facilita muito a organização do código. No exemplo acima, da forma usual o código demandou 5 linhas (2 **for** aninhados), já com as comprehensions somente uma!"
   ]
  },
  {
   "attachments": {
    "tabela.PNG": {
     "image/png": "[encoded data removed]"
    }
   },
   "cell_type": "markdown",
   "id": "1df118cf",
   "metadata": {},
   "source": [
    "<div style=\"background-color:gray\">\n",
    "    <h1 style = \"text-align:center; color:white\"> Exercícios I</h1>\n",
    "</div>\n",
    "\n",
    "1. Crie uma lista com os elementos `[10,20,30,1,-1,50,800,500,-600,800,65,78,52]`, transforme a lista em uma tupla e imprima o número de elementos e o maior elemento da mesma.\n",
    "\n",
    "2. Considerando a tupla criada no exemplo anterior. Você deseja armazenar os 4 primeiros valores em 4 variáveis (a,b,c,d), e o resto não te serve para nada. Crie um código que implemente este desempacotamento de variáveis.\n",
    "3. Escreva um código que leia 5 valores digitados pelo usuário e salve-os em uma tupla chamanda T. Imprima o menor valor digitado.\n",
    "4. Crie uma lista com a tupla T gerada no exercicio anterior, porém com os elementos na ordem inversa.\n",
    "5. Crie as seguintes listas:\n",
    "`\n",
    "A = [[1,2,3],[4,5,6],[7,8,9]]\n",
    "`\n",
    "`\n",
    "B = [[-1,2,0],[8,5,6],[10,8,9]]\n",
    "`\n",
    "    1. Calcule A + B.\n",
    "    2. Calcule A - B.\n",
    "    3. Calcule 3 * A.\n",
    "    4. Calcule a soma da diagonal principal de A e de B e realize a soma das duas.\n",
    "    5. Troque a linha 0 pela linha 2 da matriz A.\n",
    "    6. Multiplique a linha 2 da Matriz B por 3.\n",
    "6. Crie uma lista com os primeiros 70 números da sequência de Fibonacci. Os primeiros número são `1, 1, 2, 3, 5, 8, 13, 21, 34, 55, 89, 144, 233, 377`.\n",
    "7. Calcule a soma dos 70 primeiros números da sequência de Fibonacci.\n",
    "8. Crie uma lista (usando **for** e **list comprehension**) contendo somente os números pares da sequência de Fibonacci com 70 elementos.\n",
    "9. Considere as seguintes sequências matemáticas, e para cada uma delas escreva um algoritmo que armazene os elementos em uma lista usando um laço **for** e a **list comprehension**\n",
    "    1. $\\{ n\\},n = 1, ..., 100$\n",
    "    2. $ \\bigg\\{ \\dfrac{n}{n+1} \\bigg\\}, n=1,...100 = \\bigg\\{ \\dfrac{1}{2}, \\dfrac{2}{3},\\dfrac{3}{4},... \\bigg\\} $\n",
    "    3. $ \\bigg\\{ \\dfrac{(-1)^n (n + 1)}{3^n} \\bigg\\}, n=1,...100 = \\bigg\\{-\\dfrac{2}{3}, \\dfrac{3}{9},-\\dfrac{4}{27},... \\bigg\\} $\n",
    "10. Crie um dicionário em que as chaves são os elementos da série da letra A do ex. anterior, e os valores a série da letra B.\n",
    "11. Considere um banco de dados relativo as vendas de peças em uma fábrica. A Tabela abaixo mostra o tipo de peça e as vendas:\n",
    "    \n",
    "    ![tabela.PNG](attachment:tabela.PNG)\n",
    "    \n",
    "    1. Coloque todas as informações em um dicionário.\n",
    "    2. Crie um código que peça ao usuário o nome de uma peça e mostre uma mensagem referente ao número de vendas da peça.\n",
    "    3. Se o usuário digitar um código de peça que não existe, uma mensagem deve alertar o usuário que a peça não existe.\n",
    "    4. Ainda, se a peça não existir, o programa deve perguntar ao usuário se ele gostaria de criar um novo cadastro; se a resposta for \"não\" o programa é finalizado, caso contrário ele deve pedir ao usuário para digitar o código e a quantidade vendida, inserir os dados na estrutura, e imprimir todos os códigos com as vendas.\n",
    "12. Considere uma linha de produção que registra os problemas ocorridos em uma codificação numérica, cada número se refere a um erro. Os seguintes valores ocorreram em uma semana: `[1,2,1,1,4,5,3,6,5,5,8,7,4,5,2,2,2,9,6,3,5,8,7,4,7,4,4,7,4,1,4,5,2]`. Crie um algoritmo que calcule a frequência de ocorrência de cada erro, bem como a probabilidade de ocorrência do erro (a frequência/total de erros). Uma mensagem deve ser exibida avisando o usuário do erro que mais ocorre, e a sua probabilidade de ocorrência em uma semana.\n",
    "\n",
    "13. Para cada uma das estruturas de dados abaixo, diga qual o seu tipo e acesse os elementos:\n",
    "\n",
    "    1. `ed1 = [\"A\",\"E\",\"I\",\"O\",\"U\"]`\n",
    "    2. `ed2 = [(\"A\",\"E\"),(\"I\",\"O\",\"U\"),(\"F\",1,2)]`\n",
    "    3. `ed3 = {\"A\":ed1, \"B\":ed2 , \"C\":ed3}`\n",
    "    4. `ed4 = ([1,2,3],[\"a,b,s\"], {\"C1\":[2,22,2], \"C2\":\"C3\"})`\n",
    "    5. `ed5 = [ed3, ed4]`\n",
    "\n",
    "14. Ainda considerando as ED, o que será impresso com os seguintes acessos:\n",
    "    1. `ed5[0][\"B\"][1]`\n",
    "    2. `ed4[2][\"C2\"]`\n",
    "\n",
    "\n",
    "\n"
   ]
  },
  {
   "cell_type": "markdown",
   "id": "12316f39",
   "metadata": {},
   "source": [
    "## 3.2 Funções\n",
    "\n",
    "Funções são trechos de código reutilizáveis. Se você precisa executar uma parte do código diversas vezes, ele é um bom condidato a ser escrito como uma função. A sintaxe para a função exige a palavra reservada `def`, seguida do nome da função e parênteses. Dentro dos parênteses coloca-se os argumentos e logo após dois ppontos (lembre que em Python tudo que vem após dois pontos é um bloco, e portanto deve ser *indentado*. O código abaixo cria uma função que soma dois números."
   ]
  },
  {
   "cell_type": "code",
   "execution_count": null,
   "id": "1e0be9c2",
   "metadata": {},
   "outputs": [],
   "source": [
    "def soma(a, b):\n",
    "    resultado = a + b\n",
    "    print(\"A soma é : {}\".format(resultado))"
   ]
  },
  {
   "cell_type": "markdown",
   "id": "7ebf40cb",
   "metadata": {},
   "source": [
    "A função só é executada quando a mesma é *chamada*:"
   ]
  },
  {
   "cell_type": "code",
   "execution_count": null,
   "id": "2b240e29",
   "metadata": {},
   "outputs": [],
   "source": [
    "soma(2,3)"
   ]
  },
  {
   "cell_type": "markdown",
   "id": "ff9a60f7",
   "metadata": {},
   "source": [
    "### 3.2.1 Retornando valores\n",
    "Como em todas as linguagens de programação, as funções em Python podem ou não retornar valores. Isso é realizado com a palavra *return*. O código abaixo realiza a soma de dois valores e retorna o resultado ou invés de imprimi-lo."
   ]
  },
  {
   "cell_type": "code",
   "execution_count": null,
   "id": "bacf7fac",
   "metadata": {},
   "outputs": [],
   "source": [
    "def soma2(a,b):\n",
    "    resultado =  a + b\n",
    "    return resultado\n",
    "\n",
    "# usando a função\n",
    "resul = soma2(int(input(\"Digite o primeiro valor : \")),int(input(\"Digite o segundo valor : \")))\n",
    "print(\"A soma é {}\".format(resul))"
   ]
  },
  {
   "cell_type": "markdown",
   "id": "d40a4457",
   "metadata": {},
   "source": [
    "Em todas as linguagens de programação, as funções podem retornar somente um valor. Como a estrutura de dados *tuplas* é muito usada, e também muito prática, é muito comum as funções em Python retornarem diversos valores como uma tupla, o que parece (errôneamente) que a função retorna múltiplos valores. A função abaixo recebe 2 números e calcula a soma, subtração, multiplicação e divisão de um pelo outro, retornando tudo como uma tupla com 4 valores."
   ]
  },
  {
   "cell_type": "code",
   "execution_count": null,
   "id": "f96cc0a7",
   "metadata": {},
   "outputs": [],
   "source": [
    "def calculadora(a,b):\n",
    "    soma = a + b\n",
    "    sub  =  a - b\n",
    "    mult =  a * b\n",
    "    div =  a/b\n",
    "    return soma, sub, mult, div\n",
    "\n",
    "sm,sb,mt,dv = calculadora(2.0, 3.0)\n",
    "print(sm, sb, mt, dv)"
   ]
  },
  {
   "cell_type": "markdown",
   "id": "f899dde0",
   "metadata": {},
   "source": [
    "### 3.2.2 Escopo de funções\n",
    "\n",
    "As variáveis declaradas nas funções \"morrem\" assim que a função termina. Ou seja, uma variável declarada em uma função não pode ser usada fora dela, e vice versa. O exemplo abaixo declara uma variável fora da função e tenta alterar o seu valor dentro dela."
   ]
  },
  {
   "cell_type": "code",
   "execution_count": null,
   "id": "3be30e48",
   "metadata": {},
   "outputs": [],
   "source": [
    "a = 10\n",
    "\n",
    "def usando_a():\n",
    "    a = 30\n",
    "\n",
    "usando_a()\n",
    "print(a)"
   ]
  },
  {
   "cell_type": "markdown",
   "id": "59c1d4ab",
   "metadata": {},
   "source": [
    "Para conseguirmos alterar a variável *a* dentro da função, a mesma deve ter um escopo *global*. Para isso usamos a palavra `global` na variável dentro da função que está definida fora dela."
   ]
  },
  {
   "cell_type": "code",
   "execution_count": null,
   "id": "2df19922",
   "metadata": {},
   "outputs": [],
   "source": [
    "a = 10\n",
    "\n",
    "def usando_a():\n",
    "    global a \n",
    "    a = 30\n",
    "\n",
    "usando_a()\n",
    "print(a)"
   ]
  },
  {
   "cell_type": "markdown",
   "id": "c612e318",
   "metadata": {},
   "source": [
    "### 3.2.3 Funções como objetos\n",
    "\n",
    "As funções (como tudo em Python) são objetos, o que quer  dizer que podemos atribuir funções à variáveis. Considere o código abaixo, que atribui a sunção `calculadora(a, b)` a uma variável chamada cálculo:"
   ]
  },
  {
   "cell_type": "code",
   "execution_count": null,
   "id": "484de437",
   "metadata": {},
   "outputs": [],
   "source": [
    "# Atribuindo uma função a uma variável\n",
    "calculos = calculadora\n",
    "calculos(10,20)"
   ]
  },
  {
   "cell_type": "markdown",
   "id": "5db0b6cc",
   "metadata": {},
   "source": [
    "Dessa forma, podemos então atribuir funções a listas, criando uma lista de funções. O código abaixo atribui todas as funções que criamos até agora em uma lista:"
   ]
  },
  {
   "cell_type": "code",
   "execution_count": null,
   "id": "a55538b6",
   "metadata": {},
   "outputs": [],
   "source": [
    "lista_de_funcoes = []\n",
    "lista_de_funcoes = [soma, soma2, calculadora, usando_a]\n",
    "\n",
    "# Usamos a função em uma determinada posição, passando os argumentos\n",
    "\n",
    "#Na posicao 0 está a 'soma'\n",
    "lista_de_funcoes[0](10,20)\n",
    "\n",
    "#Na posicao 0 está a 'soma'\n",
    "lista_de_funcoes[0](10,20)"
   ]
  },
  {
   "cell_type": "markdown",
   "id": "64bd6e41",
   "metadata": {},
   "source": [
    "Ainda, como as funções são objetos, podemos usar as próprias funções como argumentos de outras funções. Considere o caso em que temos uma função que calcula integrais numericamente. Sabemos que as integrais são calculadas com base em uma função especifica, porém o método numérico é o mesmo. Dessa forma podemos criar uma função que calcula as integrais e recebe um argumento referente à função que terá sua integral calculada. A função abaixo calcula a integral da função $f(x) = x^2$ pelo método dos trapézios."
   ]
  },
  {
   "cell_type": "code",
   "execution_count": null,
   "id": "2ca37e29",
   "metadata": {},
   "outputs": [],
   "source": [
    "def calcula_integral_x2(a,b,n):\n",
    "    # Calcula a integral da função x^2, de 'a' a 'b' com n intervalos\n",
    "    passo =  (b - a)/n\n",
    "    x = a\n",
    "    v_y = []\n",
    "    while x < b + passo:\n",
    "        x = x + passo\n",
    "        v_y.append(x**2)\n",
    "        \n",
    "    integral = 0\n",
    "    for i in range(0, len(v_y)-1):\n",
    "        integral =  integral + (v_y[i + 1] + v_y[i])*passo/2\n",
    "    return integral\n",
    "\n",
    "a = 1.0\n",
    "b = 3.0\n",
    "integral = (3**3/3) -  (1**3)/3\n",
    "\n",
    "print(\"A integral real é : \", integral)\n",
    "print(\"A integral aproximada com 10 retangulos é : \", calcula_integral_x2(a,b,10))\n",
    "print(\"A integral aproximada com 10 retangulos é : \", calcula_integral_x2(a,b,100))\n",
    "print(\"A integral aproximada com 10 retangulos é : \", calcula_integral_x2(a,b,1000))\n",
    "print(\"A integral aproximada com 10 retangulos é : \", calcula_integral_x2(a,b,10000))\n",
    "print(\"A integral aproximada com 10 retangulos é : \", calcula_integral_x2(a,b,100000))"
   ]
  },
  {
   "cell_type": "markdown",
   "id": "79e09822",
   "metadata": {},
   "source": [
    "Usando a função acima, só podemos calcular a integral de $f(x)=x^2$. Neste caso, podemos alterar o código para receber uma função como argumento, e esta será usada para calcular os valores do vetor v_y."
   ]
  },
  {
   "cell_type": "markdown",
   "id": "8925b3fb",
   "metadata": {},
   "source": [
    "###  <span style=\"color:red\">OBS:</span>\n",
    "A passagem de argumentos em funções de Python não funciona exatamente como outras linguagens, que possuem as possibilidades de passagem por referência e por valor. É considerada uma boa prática em Python retornar valores e fazer a reatribuição, caso seja necessário alterar algum argumento."
   ]
  },
  {
   "cell_type": "code",
   "execution_count": null,
   "id": "8a05c3ab",
   "metadata": {},
   "outputs": [],
   "source": [
    "def calcula_integral_generica(a,b,f,n):\n",
    "    # Calcula a integral da função x^2, de 'a' a 'b' com n intervalos\n",
    "    passo =  (b - a)/n\n",
    "    x = a\n",
    "    v_y = []\n",
    "    while x < b + passo:\n",
    "        x = x + passo\n",
    "        v_y.append(f(x))\n",
    "        \n",
    "    integral = 0\n",
    "    for i in range(0, len(v_y)-1):\n",
    "        integral =  integral + (v_y[i + 1] + v_y[i])*passo/2\n",
    "    return integral\n",
    "\n",
    "#definimos a função x^2\n",
    "def x2(x):\n",
    "    return x**2\n",
    "\n",
    "#definimos a função x^2\n",
    "def f(x):\n",
    "    return x**2 + 1/x\n",
    "\n",
    "print(\"A integral aproximada de x2 com 10000 retangulos é : \", calcula_integral_generica(a,b,x2,10000))\n",
    "print(\"A integral aproximada de f com 10000 retangulos é : \", calcula_integral_generica(a,b,f,10000))\n",
    "\n"
   ]
  },
  {
   "cell_type": "markdown",
   "id": "ac2e6aeb",
   "metadata": {},
   "source": [
    "<div style=\"background-color:gray\">\n",
    "    <h1 style = \"text-align:center; color:white\"> Exercícios II</h1>\n",
    "</div>\n",
    "\n",
    "1. Crie uma lista com os elementos `[10,20,30,1,-1,50,800,500,-600,800,65,78,52]`. Para cada uma das tarefas abaixo, crie uma função que receba uma lista e imprima o resultado (e aplique as funções à lista):\n",
    "        1.1. Realizar a soma dos elementos\n",
    "        1.2. Encontrar o maior elemento\n",
    "        1.3. Encontrar o menor elemento\n",
    "        1.4. Calcular a média\n",
    "\n",
    "\n",
    "2. Considerando as funções criadas acima, salve todas em uma lista chamada `lista_func`, e usando um laço `for` aplique todas as funções na lista de elementos acima.\n",
    "\n",
    "3. Crie as seguintes tarefas como funções, que recebem uma lista de listas (matriz) numérica como argumento, e retornam a matriz com os valores alterados:\n",
    "        3.1 multiplica_linha(l, p): multiplica a linha *l* pelo número *p*.\n",
    "        3.2 troca_linhas(l1,l2): troca as linhas *l1* por *l2*.\n",
    "        3.3 soma_linha_com_linha(l1,l2): altera os valores da linha 2, somando l1 (l2 = l2 + l1).\n",
    "Use a matriz abaixo para realizar os testes nas funções criadas:\n",
    "`\n",
    "A = [[1,2,3],[4,5,6],[7,8,9]]\n",
    "`\n",
    "4. Escreva uma função que calcule o fatorial de n (`fat(n)`).\n",
    "5. Crie funções (uma separada da outra) para as seguintes operações (as funções devem retornar o resultado) da operação:\n",
    "        5.1 soma(a,b): soma a e b.\n",
    "        5.2 subtracao(a,b): subtrai b de a.\n",
    "        5.3 multiplicacao(a, b): multiplica a por b.\n",
    "        5.4 divisao(a,b): divide a por b.\n",
    "        5.5 potenciacao(a,b): eleva a a potência de b\n",
    "        5.6 fat(n): calcule o fatorial de n.\n",
    "6. Crie um aplicativo que funcione como uma calculadora para o usuário: o programa mostra um 'menu' com as seguintes alternativas:\n",
    "        a. soma(a,b): soma a e b.\n",
    "        b. subtracao(a,b): subtrai b de a.\n",
    "        c. multiplicacao(a, b): multiplica a por b.\n",
    "        d. divisao(a,b): divide a por b.\n",
    "        e. potenciacao(a,b): eleva a a potência de b\n",
    "        f. fat(n): calcule o fatorial de n.\n",
    "    E o usuário deve digitar uma letra. Dependendo da letra que o usuário digitar, uma das funções criadas é chamada (note que para cada função os argumentos devem também ser coletados pelo programa)\n",
    "7. Incremente a calculadora criada no exercício anterior, oferecendo ao usuário a possibilidade de refazer as contas ou sair do programa ao final de um cálculo. DICA: Use um laço `while` para controlar se o programa deve parar ou não, e mais um input do usuário ao final das cálculos que defina se ele vai sair ou não.     \n",
    "\n"
   ]
  }
 ],
 "metadata": {
  "kernelspec": {
   "display_name": "Python 3 (ipykernel)",
   "language": "python",
   "name": "python3"
  },
  "language_info": {
   "codemirror_mode": {
    "name": "ipython",
    "version": 3
   },
   "file_extension": ".py",
   "mimetype": "text/x-python",
   "name": "python",
   "nbconvert_exporter": "python",
   "pygments_lexer": "ipython3",
   "version": "3.10.4"
  }
 },
 "nbformat": 4,
 "nbformat_minor": 5
}
