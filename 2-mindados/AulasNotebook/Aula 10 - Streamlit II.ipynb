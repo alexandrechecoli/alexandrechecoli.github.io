{
 "cells": [
  {
   "cell_type": "markdown",
   "id": "19c954fb",
   "metadata": {},
   "source": [
    "# Aula 10 -  Streamlit II\n",
    "\n",
    "## 10.1 Session state\n",
    "Toda vez que um aplicativo é atualizado, todo o conteúdo das variáveis criadas são zerados. Um aplicativo é atualizado sempre que há uma alteração nos seus elementos: um botão é clicado, um radio button selecionado, etc. Para manter variáveis persistentes entre uma atualização e outra devemos usar a *Session state*.\n",
    "\n",
    "Session state pode ser pensado como um dicionário que mantém as variávieis que não devem ser apagadas. Acessamos esse dicionário por `st.session_state`. Considere o código abaixo, que imprime esse dicionário:"
   ]
  },
  {
   "cell_type": "code",
   "execution_count": null,
   "id": "1fcc4237",
   "metadata": {},
   "outputs": [],
   "source": [
    "import streamlit as st\n",
    "\n",
    "st.session_state"
   ]
  },
  {
   "cell_type": "markdown",
   "id": "3b2da4bc",
   "metadata": {},
   "source": [
    "Note que nada é impresso na tela, pois o dicionário está vazio. Podemos inserir elementos da mesma forma como fazemos com os dicionário:"
   ]
  },
  {
   "cell_type": "code",
   "execution_count": null,
   "id": "50298cb8",
   "metadata": {},
   "outputs": [],
   "source": [
    "import streamlit as st\n",
    "\n",
    "st.session_state[\"v1\"] = 1\n",
    "st.session_state[\"l1\"] = [1,2,3,4]\n",
    "st.session_state[\"s1\"] = \"Sou uma string\"\n",
    "st.session_state"
   ]
  },
  {
   "cell_type": "markdown",
   "id": "d35866f3",
   "metadata": {},
   "source": [
    "Dessa forma conseguimos manter a persistencia de dados na aplicação. Considere o código abaixo, que mantém um contador de quantas vezes um botão foi pressionado."
   ]
  },
  {
   "cell_type": "code",
   "execution_count": null,
   "id": "a6ea909a",
   "metadata": {},
   "outputs": [],
   "source": [
    "import streamlit as st\n",
    "\n",
    "\n",
    "if \"n\" not in st.session_state: # Verificando se a chave já não está inserida\n",
    "    st.session_state[\"n\"] = 0\n",
    "\n",
    "'''\n",
    "# Aplicativo pressione o botão\n",
    "'''\n",
    "btn_press = st.button(\"Contador\")\n",
    "if btn_press:\n",
    "    st.write(\"O botão já foi pressionado \", st.session_state[\"n\"], \" vezes até o momento.\")\n",
    "    st.session_state[\"n\"] = st.session_state[\"n\"] + 1"
   ]
  },
  {
   "cell_type": "markdown",
   "id": "58efc6f8",
   "metadata": {},
   "source": [
    "Também podemos adicionar *widgets* ao Session state, para isso precisamos passar uma *key* ao widget na sua criação. Essa key é o acesso do Session state. Considere o código abaixo que armazena o estado de um radio button no session state:"
   ]
  },
  {
   "cell_type": "markdown",
   "id": "27ceede6",
   "metadata": {},
   "source": [
    "## 10.2 Exemplos\n",
    "Os aplicativos abaixo mostram alguns exemplos:\n",
    "\n",
    "### 10.2.1 Leitura de dados\n",
    "O aplicativo abaixo lê um conjunto de dados, mostra as colunas como um groupbox, e de acordo com a coluna seleciona, agrupa os valores do dataframe, mostrando em uma tabela e em um gráfico:"
   ]
  },
  {
   "cell_type": "code",
   "execution_count": null,
   "id": "2aa851a7",
   "metadata": {},
   "outputs": [],
   "source": [
    "from requests import session\n",
    "import streamlit as st\n",
    "import pandas as pd\n",
    "\n",
    "'''\n",
    "# Aplicativo de visualização\n",
    "Selecione um arquivo para começar a visualização. Note que o arquivo pode ser re-selecionado\n",
    "diversas vezes.\n",
    "'''\n",
    "\n",
    "uploaded_file = st.file_uploader(\"Escolha um arquivo :\", key = \"file\")\n",
    "if uploaded_file is not None:\n",
    "    st.session_state[\"dt\"] = pd.read_csv(st.session_state[\"file\"])\n",
    "\n",
    "if \"dt\" in st.session_state:\n",
    "    st.session_state[\"dt\"]\n",
    "\n",
    "'''\n",
    "Agora, mostramos todas as colunas como um combobox\n",
    "'''\n",
    "\n",
    "if \"dt\" in st.session_state:\n",
    "    rdb_disc = st.radio(\n",
    "        \"Qual a sua disciplina favorita na faculdade?\",\n",
    "         [c for c in st.session_state[\"dt\"].columns],\n",
    "         key = \"col\")\n",
    "\n",
    "'''\n",
    "Agora, criamos um novo dataframe, aplicando o `groupby` na coluna selecionada.\n",
    "'''\n",
    "\n",
    "if \"dt\" in st.session_state:\n",
    "    st.session_state[\"dt_grouped\"] = st.session_state[\"dt\"].groupby(st.session_state[\"col\"]).sum()\n",
    "    st.session_state[\"dt_grouped\"]\n",
    "\n",
    "'''\n",
    "Finalmente, criamos um gráfico com os valores agrupados no dataframe\n",
    "'''\n",
    "\n",
    "if \"dt\" in st.session_state:\n",
    "    st.line_chart(st.session_state[\"dt_grouped\"])"
   ]
  },
  {
   "cell_type": "markdown",
   "id": "bedc5eb8",
   "metadata": {},
   "source": [
    "<div style=\"background-color:gray\">\n",
    "    <h1 style = \"text-align:center; color:white\"> Exercícios</h1>\n",
    "</div>\n",
    "\n",
    "1. Crie um aplicativo que leia um conjunto de dados (apropriado para classificação, como o banco de Iris),e estime um classificador, mostrando a imagem da árvore gerada. Crie também, usando widgets, possibilidades para alterar os parâmetros da geração da árvore (como profundidade máxima, tipo de 'split', etc), de tal forma que toda vez que um parâmetro for alterado, a árvore deve ser criada novamente, bem como a imagem plotada. Além disso, adicione a possibilidade do usuário selecionar um conjunto de dados para realizar a classificação, use a árvore para classificar os dados e mostrar o resultado novamente.\n",
    "\n",
    "2. Crie um aplicativo que leia um banco de dados preparado para a extração de regras de decisão (você pode decidir o formato do arquivo, ou ainda deixar o usuário definir). O aplicativo deve extrair regras de assiciação dos dados e informá-las ao usuário. Além disso, devem existir opções de input do usuário para os parâmetros de suporte e confiança mínimos. De forma que sempre que o usuário alterar esses parâmetros, as regras são novamente extraídas."
   ]
  },
  {
   "cell_type": "markdown",
   "id": "bedb4e49",
   "metadata": {},
   "source": [
    "## 10.3 Deploy de aplicativos\n",
    "\n",
    "Após a criação dos aplicativos, podemos disponibilizá-los para que outros usuários os usem de forma remota. Para isso é necessário uma conta no *github* e outra em alguma plataforma/servidor, como o próprio streamlit cloud (https://streamlit.io/cloud) (ou heroku).\n",
    "\n",
    "Como o código será executado em uma máquina online, precisamos informar quais pacotes python o nosso aplicativo precisa. Fazemos isso criando um arquivo .txt na mesma pasta em que o arquivo principal está contido, com uma lista de pacotes e suas versões. Podemos ver a versão do pacote com o comando \n",
    "\n",
    "`pip -list`\n",
    "\n",
    "Um exemplo de arquivo com o pacote pandas fica da seguinte forma (o arquivo **deve** ter o nome *requirements.txt*):\n",
    "\n",
    "![alt text](img/requirements.PNG)\n",
    "\n",
    "### 10.3.1 Git e github\n",
    "\n",
    "*Git* é um sistema de controle de versões de código, usado para atualização, sincronização e trabalho em equipe de um mesmo arquivo. Em sua forma básica, podemos usar o *git* individualmente para salvar nossos códigos em um repositório an web.\n",
    "\n",
    "#### Cadastro no github\n",
    "Um desses repósitorios é o *github* (https://github.com/), sendo que o primeiro passo é criar um usuário no site. Com um usuário criado, podemos fazer o upload de nossos códigos para um *repositorio*. Para isso, precisamos também de um programa que faça isso instalado no nosso computador.\n",
    "\n",
    "#### *Git for windows*\n",
    "Baixar o programa git for windows em https://gitforwindows.org/.\n",
    "\n",
    "#### Criando um repósitório online\n",
    "Para fazermos o upload de nossos códigos no github, primeiro precisamos criar um repósitório no mesmo. Ao acessar o site, clicar no botão *new* no canto esquerdo da tela\n",
    "\n",
    "![alt text](img/github.PNG)\n",
    "\n",
    "Em seguida precisamos fornecer um nome para o repósitorio, e clicar no botão *Create repository*.\n",
    "\n",
    "![alt text](img/streamlit_app.PNG)\n",
    "\n",
    "Com isso o repósitorio já está criado, e um caminho de acesso é fornecido. Esse caminho será usado para fazermos o upload de nossos arquivos no repositório.\n",
    "\n",
    "![alt text](img/caminho.PNG)\n",
    "\n",
    "#### Criando um repositório localmente\n",
    "\n",
    "Agora precisamos criar um repósitorio local na pasta que contém o nosso aplicativo, usando o programa que *Git for windows*. Para isso, procure nos aplicativos do computador *Git bash*. Como é a primeira vez que usamos o aplicativo, é necessário configurar o usuário e e-mail (só na primeira vez de uso). Para isso digite os seguintes comandos no bash:\n",
    "\n",
    "`git config --global user.mail \"<seu_@email.com>\"`\n",
    "\n",
    "`git config --global user.name \"seu nome de usuário\"\"`\n",
    "\n",
    "Agora, precisamos criar o repositório localmente, na pasta em que está o nosso aplicativo.\n",
    "Com o prompt de comando aberto, mova-o para a pasta em que está o aplicativo com o comando:\n",
    "\n",
    "`cd \"<caminho_para_a_pasta>\"`\n",
    "\n",
    "Em seguida, iniciamos um repositório git com o comando:\n",
    "\n",
    "`git init`\n",
    "\n",
    "Com o repositório aberto adicionamos todos os documentos com os seguintes comandos:\n",
    "\n",
    "`git add .`\n",
    "\n",
    "`git commit -m \"alguma mensagem\"`\n",
    "\n",
    "Finalmente, podemos inserir o caminho do nosso repósitório na web, que armazenará os arquivos após o upload, com o comando:\n",
    "\n",
    "`git remote add origin \"caminho_mostrado_na_criação_do_repositorio_github\"`\n",
    "\n",
    "E fazer o upload para o repósitório web:\n",
    "\n",
    "`git push origin master`\n",
    "\n",
    "Se tudo der certo, acessando o repósitório veremos que os arquivos já estão disponíveis.\n",
    "\n",
    "#### Importando o aplicativo em um servidor\n",
    "\n",
    "Agora, com todos os arquivos no Github podemos criar uma conta no Streamlit cloud, que disponibilizará a aplicação (https://streamlit.io/cloud).\n",
    "\n",
    "Após criar uma conta, clique em `new app`.\n",
    "\n",
    "![alt text](img/new_app.PNG)\n",
    "\n",
    "Com isso, será requisitado que uma integração com a conta do Github seja feita. Logo em seguida poderemos selecionar qual repositório e qual aplicativo queremos fazer o deploy. Se tudo der certo, o aplicativo já estará disponível para todos, basta compartilhar o link."
   ]
  }
 ],
 "metadata": {
  "kernelspec": {
   "display_name": "Python 3 (ipykernel)",
   "language": "python",
   "name": "python3"
  },
  "language_info": {
   "codemirror_mode": {
    "name": "ipython",
    "version": 3
   },
   "file_extension": ".py",
   "mimetype": "text/x-python",
   "name": "python",
   "nbconvert_exporter": "python",
   "pygments_lexer": "ipython3",
   "version": "3.10.4"
  }
 },
 "nbformat": 4,
 "nbformat_minor": 5
}
