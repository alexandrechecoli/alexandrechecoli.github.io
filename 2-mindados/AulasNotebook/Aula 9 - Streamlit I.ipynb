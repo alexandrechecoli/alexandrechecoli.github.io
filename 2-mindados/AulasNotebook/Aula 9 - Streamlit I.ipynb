{
 "cells": [
  {
   "cell_type": "markdown",
   "id": "81bb3f1b",
   "metadata": {},
   "source": [
    "# Aula 9 - Streamlit I\n",
    "\n",
    "![](img/streamlit.png)\n",
    "\n",
    "Streamlit é um framework em python (pacote) para criar aplicativos interativos (https://streamlit.io/)."
   ]
  },
  {
   "cell_type": "markdown",
   "id": "d904fb88",
   "metadata": {},
   "source": [
    "## 9.1 - Pacote\n",
    "\n",
    "O biblioteca que usaremos para criar os aplicativos é o *Streamlit* (https://docs.streamlit.io/)\n",
    "\n",
    "`>> pip install streamlit`\n",
    "\n",
    "O streamlit é um aplicativo que usamos para executar arquivos font .py, de forma que *não usamos Streamlit junto com o Notebook*. Todos os códigos aqui devem ser transferidos para um arquivo .py. Para executar os aquivos usaremos o comando:\n",
    "\n",
    "`python -m streamlit run <caminho_do_arquivo>`\n",
    "\n",
    "Com isso, o Streamlit cria um aplicativo e mostra no explorador. Quando esse comando é executado, o terminal fica \"travado\" na aplicação Streamlit. Para fechar, não feche a aplicação, mas digite CTRL + C no terminal, que ele será interrompido. Após isso a aplicação pode ser fechada. Usaremos a convenção de importação do Streamlit como:\n",
    "\n",
    "`import streamlit as st`\n",
    "\n",
    "## 9.2 Textos\n",
    "Podemos escrever textos nas aplicações usando a função `st.text()`, com o argumento sendo uma string que desejamos escrever. O Streamlit escreve os textos obedecendo a sintaxe de Markdown (a mesma usada nos Notebooks!). Considere o código abaixo: (lembre de copiar e colar o código em um arquivo .py, e executar o stremlit como descrito na seção acima, nada acontece executando diretamente no Notebook).\n"
   ]
  },
  {
   "cell_type": "code",
   "execution_count": null,
   "id": "19da3ac7",
   "metadata": {},
   "outputs": [],
   "source": [
    "import streamlit as st\n",
    "\n",
    "st.write(\"\"\"\n",
    "# Primeira aplicação criada!\n",
    "### Notem que o texto é em linguagem markdown\n",
    "Vamos escrever uma fórmula latex : $f(x) = x^2$.\n",
    "\"\"\")"
   ]
  },
  {
   "cell_type": "markdown",
   "id": "7add6ada",
   "metadata": {},
   "source": [
    "Por conveniência, sempre que o streamlit encontra uma string no código, ele interpreta e a incapsula dentro da função `st.write()`, de forma que o código acima é equivalente a:"
   ]
  },
  {
   "cell_type": "code",
   "execution_count": null,
   "id": "b18aefb9",
   "metadata": {},
   "outputs": [],
   "source": [
    "import streamlit as st\n",
    "\n",
    "\"\"\"\n",
    "# Não precisa estar em um write\n",
    "### Qualquer string é interpretada na função\n",
    "write.\n",
    "\"\"\""
   ]
  },
  {
   "cell_type": "markdown",
   "id": "f90285e5",
   "metadata": {},
   "source": [
    "A função `st.text()` é um \"canivete suiço\", como o próprio site menciona. Qualquer coisa que seja passada é formatada e impressa de alguma forma. Considere a criação e impressão de um dataframe qualquer:"
   ]
  },
  {
   "cell_type": "code",
   "execution_count": null,
   "id": "d6befa02",
   "metadata": {},
   "outputs": [],
   "source": [
    "import pandas as pd\n",
    "import streamlit as st\n",
    "\n",
    "\"\"\"\n",
    "# Não precisa estar em um write\n",
    "### Podemos imprimir um dataframe.\n",
    "\"\"\"\n",
    "dt = pd.DataFrame({\n",
    "    'coluna 1': [1, 2, 3, 4],\n",
    "    'coluna 2': [10, 20, 30, 40]\n",
    "    })\n",
    "dt"
   ]
  },
  {
   "cell_type": "markdown",
   "id": "aa50f936",
   "metadata": {},
   "source": [
    "Podemos também usar a função própria para impressão de dataframes (ou estruturas como dataframes) do streamlit `st.dataframe()`"
   ]
  },
  {
   "cell_type": "code",
   "execution_count": null,
   "id": "d5f52ae0",
   "metadata": {},
   "outputs": [],
   "source": [
    "import streamlit as st\n",
    "import numpy as np\n",
    "\n",
    "dataframe = np.random.randn(10, 20)\n",
    "st.dataframe(dataframe)"
   ]
  },
  {
   "cell_type": "markdown",
   "id": "a90e4cbf",
   "metadata": {},
   "source": [
    "## 9.3 Gráficos e mapas\n",
    "O streamlit suport gráficos do Matplotlib, Altair, deck e mais.\n",
    "\n",
    "### 9.3.1 Gráfico de linhas\n",
    "Para plotar um gráfico de linhas, basta usar a função `st.line_chart()`. No código abaixo criamos um dataframe com uma coluna e valores aleatórios da normal padrão, plotando em um gráfico de linhas interativo:"
   ]
  },
  {
   "cell_type": "code",
   "execution_count": null,
   "id": "1641cb5a",
   "metadata": {},
   "outputs": [],
   "source": [
    "import streamlit as st\n",
    "import numpy as np\n",
    "import pandas as pd\n",
    "\n",
    "dt = pd.DataFrame(\n",
    "     np.random.randn(20),\n",
    "     columns=['a'])\n",
    "\n",
    "st.line_chart(dt)"
   ]
  },
  {
   "cell_type": "markdown",
   "id": "aff952c3",
   "metadata": {},
   "source": [
    "Ao passarmos um dataframe com várias colunas, cada uma será uma série do gráfico de linhas. O código abaixo cria um dataframe com 3 colunas."
   ]
  },
  {
   "cell_type": "code",
   "execution_count": null,
   "id": "5a22fd3d",
   "metadata": {},
   "outputs": [],
   "source": [
    "import streamlit as st\n",
    "import numpy as np\n",
    "import pandas as pd\n",
    "\n",
    "dt = pd.DataFrame(\n",
    "     np.random.randn(20,2),\n",
    "     columns=['Coluna1', 'Coluna2'])\n",
    "\n",
    "st.line_chart(dt)"
   ]
  },
  {
   "cell_type": "markdown",
   "id": "6ee76607",
   "metadata": {},
   "source": [
    "### 9.3.2 Mapas\n",
    "Plotar pontos em um mapa é extremamente fácil no Streamlit, basta criar um dataframe com as latitudes e longitudes dos pontos, e chamar a função `st.map()`. O código abaixo marca a UFPR centro em um mapa interativo:"
   ]
  },
  {
   "cell_type": "code",
   "execution_count": null,
   "id": "b2ac8be3",
   "metadata": {},
   "outputs": [],
   "source": [
    "import streamlit as st\n",
    "import numpy as np\n",
    "import pandas as pd\n",
    "\n",
    "map_data = pd.DataFrame( [[-25.427024374829, -49.26159413862929]],\n",
    "                         columns=['lat', 'lon'])\n",
    "\n",
    "st.map(map_data)"
   ]
  },
  {
   "cell_type": "markdown",
   "id": "e55af65d",
   "metadata": {},
   "source": [
    "### 9.3.3 Gráfico do matplotlib\n",
    "Podemos plotar qualquer gráfico do matplotlib usando a função `st.pyplot()`:"
   ]
  },
  {
   "cell_type": "code",
   "execution_count": null,
   "id": "17dcedab",
   "metadata": {},
   "outputs": [],
   "source": [
    "import streamlit as st\n",
    "import numpy as np\n",
    "import matplotlib.pyplot as plt\n",
    "\n",
    "\n",
    "fig, ax = plt.subplots(1,1)\n",
    "ax.plot([x for x in np.random.randint(5,10,20)])\n",
    "\n",
    "st.pyplot(fig)"
   ]
  },
  {
   "cell_type": "markdown",
   "id": "795dec73",
   "metadata": {},
   "source": [
    "## 9.4 Widgets\n",
    "*Widgets* são todos os componentes de uma interface gráfica, que possibilitam interação com o usuário: botões, *sliders*, caixas de input, etc. Com o streamlit também é extremamente intuitivo criar e receber o valor de widgets. Em streamlit os *widgets* são tratados como variáveis. A lista com todos os widgets pode ser consultada na documentação, ao lado esquerdo->Streamlit library-> API Reference-> Input widgets. Alguns são mostrados abaixo:\n",
    "### 9.4.1 Slider\n",
    "O *slider* é o componente que quando arrastado, gera um número entre um determinado intervalo. Toda vez que o slider é alterado, a página é atualizada."
   ]
  },
  {
   "cell_type": "code",
   "execution_count": null,
   "id": "9e843d3c",
   "metadata": {},
   "outputs": [],
   "source": [
    "import streamlit as st\n",
    "x = st.slider('x')  # Esse é o slider\n",
    "\n",
    "'''\n",
    "# Alterando o valor com um slider\n",
    "'''\n",
    "st.write(\"O valor do slider é de \", x)\n",
    "st.write(\"Aplicando a função $x^2$ têmos :\", x**2)"
   ]
  },
  {
   "cell_type": "markdown",
   "id": "cdab3f99",
   "metadata": {},
   "source": [
    "### 9.4.2 Botão\n",
    "O botão recebe um argumento obrigatório com o seu nome. Verificamos o status do botão como `True` ou `False`, se ele foi pressionado ou não. Considere o código abaixo:"
   ]
  },
  {
   "cell_type": "code",
   "execution_count": null,
   "id": "ccb5bf42",
   "metadata": {},
   "outputs": [],
   "source": [
    "import streamlit as st\n",
    "btn_ativar = st.button(\"Ativar\")\n",
    "\n",
    "if btn_ativar == True:\n",
    "    st.write(\"Botão pressionado!\")"
   ]
  },
  {
   "cell_type": "markdown",
   "id": "4033ac39",
   "metadata": {},
   "source": [
    "### 9.4.3 File uploader\n",
    "Esse componente permite que o usuário escolha um arquivo e carregue-o no aplicativo."
   ]
  },
  {
   "cell_type": "code",
   "execution_count": null,
   "id": "4d5c59bd",
   "metadata": {},
   "outputs": [],
   "source": [
    "import streamlit as st\n",
    "uploaded_file = st.file_uploader(\"Choose a file\")"
   ]
  },
  {
   "cell_type": "markdown",
   "id": "77c04be8",
   "metadata": {},
   "source": [
    "Com o arquivo carregado, podemos usá-lo normalmente (lendo um .csv no pandas, por exemplo):"
   ]
  },
  {
   "cell_type": "code",
   "execution_count": null,
   "id": "8bb85b8b",
   "metadata": {},
   "outputs": [],
   "source": [
    "import streamlit as st\n",
    "import pandas as pd\n",
    "\n",
    "uploaded_file = st.file_uploader(\"Carregue um arquivo...\")\n",
    "if uploaded_file is not None:\n",
    "    dt = pd.read_csv(uploaded_file)\n",
    "    dt"
   ]
  },
  {
   "cell_type": "markdown",
   "id": "2bcf7cbf",
   "metadata": {},
   "source": [
    "### 9.4.4 Radiobutton\n",
    "O radiobutton dispõe possibilidades de escolha que são únicas. Seu valor é igual ao nome do botão selecionado:"
   ]
  },
  {
   "cell_type": "code",
   "execution_count": null,
   "id": "c5857505",
   "metadata": {},
   "outputs": [],
   "source": [
    "import streamlit as st\n",
    "rdb_disc = st.radio(\n",
    "     \"Qual a sua disciplina favorita na faculdade?\",\n",
    "     ('PO I', 'Qualidade', 'Cálculo', 'Nenhuma'))\n",
    "\n",
    "if rdb_disc == 'PO I':\n",
    "     st.write('Muito bom!')\n",
    "elif rdb_disc == 'Qualidade':\n",
    "    st.write('Bem aplicado')\n",
    "elif rdb_disc == 'Cálculo':\n",
    "    st.write('Difícil mas gratificante!')\n",
    "else:\n",
    "     st.write(\"Está no seu direito!\")"
   ]
  },
  {
   "cell_type": "markdown",
   "id": "60ede8d6",
   "metadata": {},
   "source": [
    "### 9.4.5 Input de texto\n",
    "Simplesmente recebe o input de texto do usuário."
   ]
  },
  {
   "cell_type": "code",
   "execution_count": null,
   "id": "f7ab5570",
   "metadata": {},
   "outputs": [],
   "source": [
    "import streamlit as st\n",
    "\n",
    "diario = st.text_input('Diário')\n",
    "st.write('Atualmente seu diário contém a informação :')\n",
    "st.write(diario)"
   ]
  },
  {
   "cell_type": "markdown",
   "id": "f2e69410",
   "metadata": {},
   "source": [
    "<div style=\"background-color:gray\">\n",
    "    <h1 style = \"text-align:center; color:white\"> Exercícios</h1>\n",
    "</div>\n",
    "\n",
    "1. Crie um aplicativo que receba dois valores do usuário, um valore de latitude e um de longitude. Em seguida, quando um botão for pressionado o ponto digitado pelo usuário é mostrado em um mapa.\n",
    "2. Crie um aplicativo em que o usuário pode adicionar um texto. Quando um botão for clicado, uma tabela deve ser ser criada com a frequência de cada palavra do texto. A palavra com a maior frequência deve ser informada ao usuário, bem como um gráfico de barras com as frequências por palavras criado.\n",
    "3. Crie uma aplicação que leia um arquivo de dados do usuário, em seguida plote um gráfico (de linhas ou colunas), para cada coluna do conjunto de dados carregado.\n",
    "4. Busque na documentação do streamlit 4 componentes dentre *Input widgets* e *Media elements*, e crie uma aplicação própria usando esses elementos."
   ]
  }
 ],
 "metadata": {
  "kernelspec": {
   "display_name": "Python 3 (ipykernel)",
   "language": "python",
   "name": "python3"
  },
  "language_info": {
   "codemirror_mode": {
    "name": "ipython",
    "version": 3
   },
   "file_extension": ".py",
   "mimetype": "text/x-python",
   "name": "python",
   "nbconvert_exporter": "python",
   "pygments_lexer": "ipython3",
   "version": "3.12.4"
  }
 },
 "nbformat": 4,
 "nbformat_minor": 5
}
