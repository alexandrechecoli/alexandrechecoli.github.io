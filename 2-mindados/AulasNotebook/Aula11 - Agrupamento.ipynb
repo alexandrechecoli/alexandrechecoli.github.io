{
 "cells": [
  {
   "cell_type": "markdown",
   "id": "f8248da1",
   "metadata": {},
   "source": [
    "# Aula 11 - Agrupamento\n",
    "Para utilizar os algoritmos de agrupamento usamos o módulo de clustering do pacote scikit learn.\n",
    "(https://scikit-learn.org/stable/modules/clustering.html). Neste exemplo faremos o agrupamento usando o algoritmo *k-means*.\n",
    "\n",
    "## 11.1 Gerando dados\n",
    "\n",
    "Inicialmente vamos trabalhar com dados criados artificialmente, para que possamos enxergar o que está acontecendo. Geramos 3 conjuntos de pontos no plano euclidiano, sendo que cada conjunto possui caracteristicas parecidas. Abaixo os pontos são gerados, e cada conjunto é plotado com um *scatterplot* com cores distintas."
   ]
  },
  {
   "cell_type": "code",
   "execution_count": 139,
   "id": "8ee68502",
   "metadata": {},
   "outputs": [
    {
     "data": {
      "text/plain": [
       "<matplotlib.collections.PathCollection at 0x27ea0ba1660>"
      ]
     },
     "execution_count": 139,
     "metadata": {},
     "output_type": "execute_result"
    },
    {
     "data": {
      "image/png": "[encoded data removed]",
      "text/plain": [
       "<Figure size 432x288 with 1 Axes>"
      ]
     },
     "metadata": {
      "needs_background": "light"
     },
     "output_type": "display_data"
    }
   ],
   "source": [
    "import pandas as pd\n",
    "import numpy as np\n",
    "import matplotlib.pyplot as plt\n",
    "\n",
    "# Gerando dados aleatórios para testar o algoritmo\n",
    "l_x1 = np.random.rand(100) + 10\n",
    "l_y1 = np.random.rand(100) + 10\n",
    "\n",
    "l_x2 = np.random.rand(100) + 13\n",
    "l_y2 = np.random.rand(100) + 13\n",
    "\n",
    "l_x3 = np.random.rand(100) + 13\n",
    "l_y3 = np.random.rand(100) + 10\n",
    "\n",
    "fig, ax = plt.subplots(1,1)\n",
    "ax.scatter(l_x1, l_y1, 5 ,color  = \"red\")\n",
    "ax.scatter(l_x2, l_y2, 5 ,color  = \"blue\")\n",
    "ax.scatter(l_x3, l_y3, 5 ,color  = \"black\")"
   ]
  },
  {
   "cell_type": "markdown",
   "id": "d7fd990e",
   "metadata": {},
   "source": [
    "Vemos que de fato os dados são bem 'separáveis' em 3 conjuntos distintos. Abaixo vamos salvar o conjunto criado em um único array (em um caso real, não saberíamos à qual grupo cada ponto pertence, nem mesmo o número de grupos totais)."
   ]
  },
  {
   "cell_type": "code",
   "execution_count": 140,
   "id": "1e9d2133",
   "metadata": {},
   "outputs": [],
   "source": [
    "# Salvando os dados em uma única lista de np array com duas dimensões, e transformando tudo em um array\n",
    "X = []\n",
    "for i in range(0, len(l_x1)):\n",
    "    X.append( np.array((l_x1[i],l_y1[i]))  )\n",
    "    X.append( np.array((l_x2[i],l_y2[i]))  )\n",
    "    X.append( np.array((l_x3[i],l_y3[i]))  )\n",
    "\n",
    "X = np.array(X)"
   ]
  },
  {
   "cell_type": "markdown",
   "id": "870d46db",
   "metadata": {},
   "source": [
    "## 11.2 Calculando os grupos\n",
    "Usamos o `KMeans` para calcular os aos quais os dados pertencem. Para isso precisamos passar o número de grupos que queremos utilizar (no caso abaixo 3). O retorno é um array com o mesmo tamanho do conjunto de dados de entrada, em que cada elemento contém um número referente ao cluster que o dado pertence."
   ]
  },
  {
   "cell_type": "code",
   "execution_count": 141,
   "id": "e2f097f0",
   "metadata": {},
   "outputs": [
    {
     "data": {
      "text/plain": [
       "array([1, 0, 2, 1, 0, 2, 1, 0, 2, 1, 0, 2, 1, 0, 2, 1, 0, 2, 1, 0, 2, 1,\n",
       "       0, 2, 1, 0, 2, 1, 0, 2, 1, 0, 2, 1, 0, 2, 1, 0, 2, 1, 0, 2, 1, 0,\n",
       "       2, 1, 0, 2, 1, 0, 2, 1, 0, 2, 1, 0, 2, 1, 0, 2, 1, 0, 2, 1, 0, 2,\n",
       "       1, 0, 2, 1, 0, 2, 1, 0, 2, 1, 0, 2, 1, 0, 2, 1, 0, 2, 1, 0, 2, 1,\n",
       "       0, 2, 1, 0, 2, 1, 0, 2, 1, 0, 2, 1, 0, 2, 1, 0, 2, 1, 0, 2, 1, 0,\n",
       "       2, 1, 0, 2, 1, 0, 2, 1, 0, 2, 1, 0, 2, 1, 0, 2, 1, 0, 2, 1, 0, 2,\n",
       "       1, 0, 2, 1, 0, 2, 1, 0, 2, 1, 0, 2, 1, 0, 2, 1, 0, 2, 1, 0, 2, 1,\n",
       "       0, 2, 1, 0, 2, 1, 0, 2, 1, 0, 2, 1, 0, 2, 1, 0, 2, 1, 0, 2, 1, 0,\n",
       "       2, 1, 0, 2, 1, 0, 2, 1, 0, 2, 1, 0, 2, 1, 0, 2, 1, 0, 2, 1, 0, 2,\n",
       "       1, 0, 2, 1, 0, 2, 1, 0, 2, 1, 0, 2, 1, 0, 2, 1, 0, 2, 1, 0, 2, 1,\n",
       "       0, 2, 1, 0, 2, 1, 0, 2, 1, 0, 2, 1, 0, 2, 1, 0, 2, 1, 0, 2, 1, 0,\n",
       "       2, 1, 0, 2, 1, 0, 2, 1, 0, 2, 1, 0, 2, 1, 0, 2, 1, 0, 2, 1, 0, 2,\n",
       "       1, 0, 2, 1, 0, 2, 1, 0, 2, 1, 0, 2, 1, 0, 2, 1, 0, 2, 1, 0, 2, 1,\n",
       "       0, 2, 1, 0, 2, 1, 0, 2, 1, 0, 2, 1, 0, 2])"
      ]
     },
     "execution_count": 141,
     "metadata": {},
     "output_type": "execute_result"
    }
   ],
   "source": [
    "# Usando o algoritmo para ajustar os dados usando 3 clusters\n",
    "from sklearn.cluster import KMeans as km\n",
    "kmeans = km(n_clusters = 3, random_state = 0).fit(X)\n",
    "\n",
    "# O retorno é um array com o numero do cluster que a amostra foi associada\n",
    "kmeans.labels_"
   ]
  },
  {
   "cell_type": "markdown",
   "id": "b53fb209",
   "metadata": {},
   "source": [
    "Agora podemos separar os dados, cada um em seu cluster. Usando a indexação boolena no vetor X para\n",
    "coletar todos os valores em que labels == 1, 2, .... Em seguida plotamos os dados em um gráfico (scatterplot) novamente, e conseguimos retornar ao mesmo gráfico que fizemos após a geração dos dados. O que mostra que todos os dados ficaram de fato em seus respectivos grupos.\n",
    "\n",
    "Ainda, usamos o método `cluster_centers`, que contém um array bidimensional (neste caso) com os centróides dos grupos para plotá-los também."
   ]
  },
  {
   "cell_type": "code",
   "execution_count": 145,
   "id": "475b7664",
   "metadata": {},
   "outputs": [
    {
     "data": {
      "text/plain": [
       "array([[13.47318416, 13.47692526],\n",
       "       [10.43945521, 10.49243407],\n",
       "       [13.46658493, 10.54601324]])"
      ]
     },
     "execution_count": 145,
     "metadata": {},
     "output_type": "execute_result"
    },
    {
     "data": {
      "image/png": "[encoded data removed]",
      "text/plain": [
       "<Figure size 432x288 with 1 Axes>"
      ]
     },
     "metadata": {
      "needs_background": "light"
     },
     "output_type": "display_data"
    }
   ],
   "source": [
    "\n",
    "cond = kmeans.labels_ == 0 \n",
    "C1 = X[cond]\n",
    "\n",
    "cond2 = kmeans.labels_ == 1 \n",
    "C2 = X[cond2]\n",
    "\n",
    "cond3 = kmeans.labels_ == 2 \n",
    "C3 = X[cond3]\n",
    "\n",
    "'Plotando os dados no plano, cada um com uma cor'\n",
    "fig, ax = plt.subplots(1,1)\n",
    "plt.scatter(C1[:,0], C1[:,1],5, color = \"red\") # Todas as linhas da coluna 0,  # Todas as linhas da coluna 1\n",
    "plt.scatter(C2[:,0], C2[:,1],5, color = \"blue\") # Todas as linhas da coluna 0,  # Todas as linhas da coluna 1\n",
    "plt.scatter(C3[:,0], C3[:,1],5, color = \"black\") # Todas as linhas da coluna 0,  # Todas as linhas da coluna 1\n",
    "\n",
    "\n",
    "plt.scatter(kmeans.cluster_centers_[:, 0], kmeans.cluster_centers_[:, 1],40, c = 'black', label = 'Centroids')\n",
    "plt.legend() \n",
    "kmeans.cluster_centers_"
   ]
  },
  {
   "cell_type": "markdown",
   "id": "801ebaab",
   "metadata": {},
   "source": [
    "## 11.3 Definindo o número de grupos (*clusters*)\n",
    "Mas como determinar o número de clusters? No exemplo acima definimos 3, pois já sabíamos de antemão que esse era um bom número, dado que o conjunto foi gerado com 3 grupos. Em problemas reais, no entanto, não teremos nenhuma informações a respeito desse número.\n",
    "\n",
    "Podemos usar uma abordagem visual chamada **gráfico de cotovelo (elbow plot)**. Para isso, usamos uma medida de desempenho do agrupamento chamada WCSS(Within-Cluster Sum of Square), ou soma dos quadrados intra-grupos. Esse medida calcula a soma da distancia de todos os pontos ao centróide de seus grupos. A idéia é que a medida que o número de grupos aumenta, essa distância deve ser reduzida. Porém a partir de um determinado número a redução passa a ser insignificante, de forma que esse é o ponto em que aumentar o número de grupos não influencia mais no desempenho do agrupamento. \n",
    "\n",
    "\n",
    "O atributo `.inertia_` fornece o WCCS. Com isso podemos calcular os grupos para diversos valores de *k*, salvando os valores de WCCS em uma lista, em seguida plotamos os valores e obtemos o gráfico de cotovelo."
   ]
  },
  {
   "cell_type": "code",
   "execution_count": 133,
   "id": "33fe7980",
   "metadata": {},
   "outputs": [
    {
     "data": {
      "text/plain": [
       "[<matplotlib.lines.Line2D at 0x27ea090f460>]"
      ]
     },
     "execution_count": 133,
     "metadata": {},
     "output_type": "execute_result"
    },
    {
     "data": {
      "image/png": "[encoded data removed]",
      "text/plain": [
       "<Figure size 432x288 with 1 Axes>"
      ]
     },
     "metadata": {
      "needs_background": "light"
     },
     "output_type": "display_data"
    }
   ],
   "source": [
    "\n",
    "l_inertia = []\n",
    "for k in range(1,10):\n",
    "    kmeans = km(n_clusters = k, random_state = 0).fit(X)\n",
    "    l_inertia.append(kmeans.inertia_)\n",
    "l_inertia\n",
    "\n",
    "# Agora plotamos os valores de inertia e vemos como o gráfico de cotovelo fica:\n",
    "fi, ax = plt.subplots(1,1)\n",
    "ax.plot(l_inertia)"
   ]
  },
  {
   "cell_type": "markdown",
   "id": "87f0111d",
   "metadata": {},
   "source": [
    "Pela análise do gráfico percebemos que o cotovelo está localizado no segundo grupo (como começa em zero, no terceiro), o que condiz com o esperado."
   ]
  },
  {
   "cell_type": "markdown",
   "id": "aaca8e32",
   "metadata": {},
   "source": [
    "## 11.4 Prevendo novos valores\n",
    "Com o modelo estimado, podemos prever em quais grupos novos conjuntos de dados seriam atribuidos, usando a função `predict`. O exemplo abaixo demonstra:"
   ]
  },
  {
   "cell_type": "code",
   "execution_count": 151,
   "id": "78b1da70",
   "metadata": {},
   "outputs": [
    {
     "name": "stdout",
     "output_type": "stream",
     "text": [
      "O grupo do novo dado é :  1\n"
     ]
    }
   ],
   "source": [
    "# Estimando à qual cluster o ponto [10.3, 13.1] seria atribuido\n",
    "novo_dado = [[10.3, 13.1]]\n",
    "grupo_novo_dado = kmeans.predict(novo_dado)\n",
    "print(\"O grupo do novo dado é : \",grupo_novo_dado[0])"
   ]
  },
  {
   "cell_type": "markdown",
   "id": "1b4e28a2",
   "metadata": {},
   "source": [
    "<div style=\"background-color:gray\">\n",
    "    <h1 style = \"text-align:center; color:white\"> Exercícios</h1>\n",
    "</div>\n",
    "\n",
    "1. Considere o conjunto de dados 'clientes_shoppin.csv'. Este conjunto contém os dados de diversos clientes de um Shoppping center, com os dados de renda anual e coeficiente de compra (dentre outros). O coeficiente de compra é um número entre 0 e 100 valorando o quanto o cliente compra no Shopping. O shopping deseja fazer uma segmentação dos clientes para criar uma campanha de marketing mais efetiva. Implemente a segmentação usando o algoritmo k-means, com base nos dois atributos mencionados acima.\n",
    "    1. Encontre o número ideal de grupos\n",
    "    2. Plote o gráfico de cotovelo\n",
    "    3. Plote os dados dos clientes após a segmentação com cores diferentes\n",
    "2. Considere o conjunto de dados MateriaisConstrucao.xlsx, que mantém um registro da quantidade de itens que foram comprados em uma loja de materiais de construção. Será que existem grupos de *padrões de compra* que podem ser identificados? Aplique o agrupamento para descobrir. Use a ferramenta de PCA (*principal component analysis*) para reduzir a dimensionalidade dos dados e plotar os pontos em um gráfico 2D (https://scikit-learn.org/stable/modules/generated/sklearn.decomposition.PCA.html, um exemplo em https://acervolima.com/implementando-pca-em-python-com-scikit-learn/).\n",
    "3. (**Se tivermos visto Streamlit**) Crie um aplicativo que leia um banco de dados, e permita que o usuário selecione 2 atributos (numéricos). Com esses atributos, faça o que se pede:\n",
    "    1. Mantenha um slide para o usuário selecionar o número de grupos.\n",
    "    2. Quando o slide é alterado, o algoritmo k-means é calculado considerando esse número.\n",
    "    3. Um gráfico com os elementos de cada grupo é mostrado, sendo que cada grupo deve possuir uma cor diferente.\n",
    "    \n",
    "4. **(EXTRA)**. O agrupamento pode ser utilizado para melhorar a acurácia de um classificador/regressor. Imagine que o shopping deseja criar um regressor para estimar o coeficiente de compra de novos clientes com base nos atributos *genero*, *idade* e *renda anual*.\n",
    "    Podemos primeiro encontrar os grupos com caracteristicas parecidas usando um algoritmo de agrupamento. Em seguida, criamos um classificador diferente para cada um desses grupos, de forma que a chance de se obter uma classificação correta aumenta."
   ]
  }
 ],
 "metadata": {
  "kernelspec": {
   "display_name": "Python 3 (ipykernel)",
   "language": "python",
   "name": "python3"
  },
  "language_info": {
   "codemirror_mode": {
    "name": "ipython",
    "version": 3
   },
   "file_extension": ".py",
   "mimetype": "text/x-python",
   "name": "python",
   "nbconvert_exporter": "python",
   "pygments_lexer": "ipython3",
   "version": "3.10.4"
  }
 },
 "nbformat": 4,
 "nbformat_minor": 5
}
