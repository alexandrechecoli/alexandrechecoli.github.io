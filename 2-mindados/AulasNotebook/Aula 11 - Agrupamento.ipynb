{
 "cells": [
  {
   "cell_type": "markdown",
   "id": "f8248da1",
   "metadata": {},
   "source": [
    "# Aula 11 - Agrupamento\n",
    "Para utilizar os algoritmos de agrupamento usamos o módulo de clustering do pacote scikit learn.\n",
    "(https://scikit-learn.org/stable/modules/clustering.html). Neste exemplo faremos o agrupamento usando o algoritmo *k-means*.\n",
    "\n",
    "## 11.1 Gerando dados\n",
    "\n",
    "Inicialmente vamos trabalhar com dados criados artificialmente, para que possamos enxergar o que está acontecendo. Geramos 3 conjuntos de pontos no plano euclidiano, sendo que cada conjunto possui caracteristicas parecidas. Abaixo os pontos são gerados, e cada conjunto é plotado com um *scatterplot* com cores distintas."
   ]
  },
  {
   "cell_type": "code",
   "execution_count": 2,
   "id": "8ee68502",
   "metadata": {},
   "outputs": [
    {
     "data": {
      "image/png": "[encoded data removed]",
      "text/plain": [
       "<Figure size 432x288 with 1 Axes>"
      ]
     },
     "metadata": {
      "needs_background": "light"
     },
     "output_type": "display_data"
    }
   ],
   "source": [
    "import pandas as pd\n",
    "import numpy as np\n",
    "import matplotlib.pyplot as plt\n",
    "\n",
    "# Gerando dados aleatórios para testar o algoritmo\n",
    "l_x1 = np.random.rand(100) + 10\n",
    "l_y1 = np.random.rand(100) + 10\n",
    "\n",
    "l_x2 = np.random.rand(100) + 13\n",
    "l_y2 = np.random.rand(100) + 13\n",
    "\n",
    "l_x3 = np.random.rand(100) + 13\n",
    "l_y3 = np.random.rand(100) + 10\n",
    "\n",
    "fig, ax = plt.subplots(1,1)\n",
    "ax.scatter(l_x1, l_y1, 5 ,color  = \"red\")\n",
    "ax.scatter(l_x2, l_y2, 5 ,color  = \"blue\")\n",
    "ax.scatter(l_x3, l_y3, 5 ,color  = \"green\")\n",
    "plt.savefig(\"cluster.pdf\")\n",
    "plt.show()"
   ]
  },
  {
   "cell_type": "markdown",
   "id": "d7fd990e",
   "metadata": {},
   "source": [
    "Vemos que de fato os dados são bem 'separáveis' em 3 conjuntos distintos. Abaixo vamos salvar o conjunto criado em um único array (em um caso real, não saberíamos à qual grupo cada ponto pertence, nem mesmo o número de grupos totais)."
   ]
  },
  {
   "cell_type": "code",
   "execution_count": 4,
   "id": "1e9d2133",
   "metadata": {},
   "outputs": [],
   "source": [
    "# Salvando os dados em uma única lista de np array com duas dimensões, e transformando tudo em um array\n",
    "X = []\n",
    "for i in range(0, len(l_x1)):\n",
    "    X.append( np.array((l_x1[i],l_y1[i]))  )\n",
    "    X.append( np.array((l_x2[i],l_y2[i]))  )\n",
    "    X.append( np.array((l_x3[i],l_y3[i]))  )\n",
    "\n",
    "X = np.array(X)"
   ]
  },
  {
   "cell_type": "markdown",
   "id": "870d46db",
   "metadata": {},
   "source": [
    "## 11.2 Calculando os grupos\n",
    "Usamos o `KMeans` para calcular os grupos aos quais os dados pertencem. Para isso precisamos passar o número de grupos que queremos utilizar (no caso abaixo 3). O retorno é um array com o mesmo tamanho do conjunto de dados de entrada, em que cada elemento contém um número referente ao cluster que o dado pertence."
   ]
  },
  {
   "cell_type": "code",
   "execution_count": 5,
   "id": "e2f097f0",
   "metadata": {},
   "outputs": [
    {
     "data": {
      "text/plain": [
       "array([1, 0, 2, 1, 0, 2, 1, 0, 2, 1, 0, 2, 1, 0, 2, 1, 0, 2, 1, 0, 2, 1,\n",
       "       0, 2, 1, 0, 2, 1, 0, 2, 1, 0, 2, 1, 0, 2, 1, 0, 2, 1, 0, 2, 1, 0,\n",
       "       2, 1, 0, 2, 1, 0, 2, 1, 0, 2, 1, 0, 2, 1, 0, 2, 1, 0, 2, 1, 0, 2,\n",
       "       1, 0, 2, 1, 0, 2, 1, 0, 2, 1, 0, 2, 1, 0, 2, 1, 0, 2, 1, 0, 2, 1,\n",
       "       0, 2, 1, 0, 2, 1, 0, 2, 1, 0, 2, 1, 0, 2, 1, 0, 2, 1, 0, 2, 1, 0,\n",
       "       2, 1, 0, 2, 1, 0, 2, 1, 0, 2, 1, 0, 2, 1, 0, 2, 1, 0, 2, 1, 0, 2,\n",
       "       1, 0, 2, 1, 0, 2, 1, 0, 2, 1, 0, 2, 1, 0, 2, 1, 0, 2, 1, 0, 2, 1,\n",
       "       0, 2, 1, 0, 2, 1, 0, 2, 1, 0, 2, 1, 0, 2, 1, 0, 2, 1, 0, 2, 1, 0,\n",
       "       2, 1, 0, 2, 1, 0, 2, 1, 0, 2, 1, 0, 2, 1, 0, 2, 1, 0, 2, 1, 0, 2,\n",
       "       1, 0, 2, 1, 0, 2, 1, 0, 2, 1, 0, 2, 1, 0, 2, 1, 0, 2, 1, 0, 2, 1,\n",
       "       0, 2, 1, 0, 2, 1, 0, 2, 1, 0, 2, 1, 0, 2, 1, 0, 2, 1, 0, 2, 1, 0,\n",
       "       2, 1, 0, 2, 1, 0, 2, 1, 0, 2, 1, 0, 2, 1, 0, 2, 1, 0, 2, 1, 0, 2,\n",
       "       1, 0, 2, 1, 0, 2, 1, 0, 2, 1, 0, 2, 1, 0, 2, 1, 0, 2, 1, 0, 2, 1,\n",
       "       0, 2, 1, 0, 2, 1, 0, 2, 1, 0, 2, 1, 0, 2])"
      ]
     },
     "execution_count": 5,
     "metadata": {},
     "output_type": "execute_result"
    }
   ],
   "source": [
    "# Usando o algoritmo para ajustar os dados usando 3 clusters\n",
    "from sklearn.cluster import KMeans as km\n",
    "kmeans = km(n_clusters = 3, random_state = 0).fit(X)\n",
    "\n",
    "# O retorno é um array com o numero do cluster a que a amostra foi associada\n",
    "kmeans.labels_"
   ]
  },
  {
   "cell_type": "markdown",
   "id": "b53fb209",
   "metadata": {},
   "source": [
    "Agora podemos separar os dados, cada um em seu cluster. Usando a indexação boolena no vetor X para\n",
    "coletar todos os valores em que labels == 1, 2, .... Em seguida plotamos os dados em um gráfico (scatterplot) novamente, e conseguimos retornar ao mesmo gráfico que fizemos após a geração dos dados. O que mostra que todos os dados ficaram de fato em seus respectivos grupos.\n",
    "\n",
    "Ainda, usamos o método `cluster_centers`, que contém um array bidimensional (neste caso) com os centróides dos grupos para plotá-los também."
   ]
  },
  {
   "cell_type": "code",
   "execution_count": 6,
   "id": "475b7664",
   "metadata": {},
   "outputs": [
    {
     "data": {
      "text/plain": [
       "array([[13.52598415, 13.45670901],\n",
       "       [10.53473357, 10.45399725],\n",
       "       [13.51595468, 10.49950257]])"
      ]
     },
     "execution_count": 6,
     "metadata": {},
     "output_type": "execute_result"
    },
    {
     "data": {
      "image/png": "[encoded data removed]",
      "text/plain": [
       "<Figure size 432x288 with 1 Axes>"
      ]
     },
     "metadata": {
      "needs_background": "light"
     },
     "output_type": "display_data"
    }
   ],
   "source": [
    "\n",
    "cond = kmeans.labels_ == 0 \n",
    "C1 = X[cond]\n",
    "\n",
    "cond2 = kmeans.labels_ == 1 \n",
    "C2 = X[cond2]\n",
    "\n",
    "cond3 = kmeans.labels_ == 2 \n",
    "C3 = X[cond3]\n",
    "\n",
    "'Plotando os dados no plano, cada um com uma cor'\n",
    "fig, ax = plt.subplots(1,1)\n",
    "plt.scatter(C1[:,0], C1[:,1],5, color = \"red\") # Todas as linhas da coluna 0,  # Todas as linhas da coluna 1\n",
    "plt.scatter(C2[:,0], C2[:,1],5, color = \"blue\") # Todas as linhas da coluna 0,  # Todas as linhas da coluna 1\n",
    "plt.scatter(C3[:,0], C3[:,1],5, color = \"black\") # Todas as linhas da coluna 0,  # Todas as linhas da coluna 1\n",
    "\n",
    "plt.scatter(kmeans.cluster_centers_[:, 0], kmeans.cluster_centers_[:, 1],40, c = 'black', label = 'Centroids')\n",
    "plt.legend() \n",
    "kmeans.cluster_centers_"
   ]
  },
  {
   "cell_type": "markdown",
   "id": "801ebaab",
   "metadata": {},
   "source": [
    "## 11.3 Definindo o número de grupos (*clusters*)\n",
    "Mas como determinar o número de clusters? No exemplo acima definimos 3, pois já sabíamos de antemão que esse era um bom número, dado que o conjunto foi gerado com 3 grupos. Em problemas reais, no entanto, não teremos nenhuma informações a respeito desse número.\n",
    "\n",
    "Podemos usar uma abordagem visual chamada **gráfico de cotovelo (elbow plot)**. Para isso, usamos uma medida de desempenho do agrupamento chamada WCSS(Within-Cluster Sum of Square), ou soma dos quadrados intra-grupos. Esse medida calcula a soma da distancia de todos os pontos ao centróide de seus grupos. A idéia é que a medida que o número de grupos aumenta, essa distância deve ser reduzida. Porém a partir de um determinado número a redução passa a ser insignificante, de forma que esse é o ponto em que aumentar o número de grupos não influencia mais no desempenho do agrupamento. \n",
    "\n",
    "\n",
    "O atributo `.inertia_` fornece o WCCS. Com isso podemos calcular os grupos para diversos valores de *k*, salvando os valores de WCCS em uma lista, em seguida plotamos os valores e obtemos o gráfico de cotovelo."
   ]
  },
  {
   "cell_type": "code",
   "execution_count": 7,
   "id": "33fe7980",
   "metadata": {},
   "outputs": [
    {
     "data": {
      "image/png": "[encoded data removed]",
      "text/plain": [
       "<Figure size 720x432 with 1 Axes>"
      ]
     },
     "metadata": {
      "needs_background": "light"
     },
     "output_type": "display_data"
    }
   ],
   "source": [
    "l_inertia = []\n",
    "for k in range(1,10):\n",
    "    kmeans = km(n_clusters = k, random_state = 0).fit(X)\n",
    "    l_inertia.append(kmeans.inertia_)\n",
    "l_inertia\n",
    "\n",
    "# Agora plotamos os valores de inertia e vemos como o gráfico de cotovelo fica:\n",
    "fig, ax = plt.subplots(1,1)\n",
    "fig.set_size_inches(10,6)\n",
    "ax.plot(l_inertia, marker = \"o\", color = \"orange\")\n",
    "plt.show()"
   ]
  },
  {
   "cell_type": "markdown",
   "id": "87f0111d",
   "metadata": {},
   "source": [
    "Pela análise do gráfico percebemos que o cotovelo está localizado no segundo grupo (como começa em zero, no terceiro), o que condiz com o esperado."
   ]
  },
  {
   "cell_type": "markdown",
   "id": "aaca8e32",
   "metadata": {},
   "source": [
    "## 11.4 Prevendo novos valores\n",
    "Com o modelo estimado, podemos prever em quais grupos novos conjuntos de dados seriam atribuidos, usando a função `predict`. O exemplo abaixo demonstra:"
   ]
  },
  {
   "cell_type": "code",
   "execution_count": 151,
   "id": "78b1da70",
   "metadata": {},
   "outputs": [
    {
     "name": "stdout",
     "output_type": "stream",
     "text": [
      "O grupo do novo dado é :  1\n"
     ]
    }
   ],
   "source": [
    "# Estimando à qual cluster o ponto [10.3, 13.1] seria atribuido\n",
    "novo_dado = [[10.3, 13.1]]\n",
    "grupo_novo_dado = kmeans.predict(novo_dado)\n",
    "print(\"O grupo do novo dado é : \",grupo_novo_dado[0])"
   ]
  },
  {
   "cell_type": "markdown",
   "id": "a9ba5882",
   "metadata": {},
   "source": [
    "## 11.5 Cuidados"
   ]
  },
  {
   "cell_type": "markdown",
   "id": "0ee42601",
   "metadata": {},
   "source": [
    "### 11.5.1 Tratando dados não numéricos (categóricos/ordinais)\n",
    "O método k-means só funciona com dados numéricos, de forma que se existem atributos categóricos se faz necessário realizar uma transformações nos dados. Considere o DataFrame abaixo, com a coluna C2 e C3 do tipo categórico."
   ]
  },
  {
   "cell_type": "code",
   "execution_count": 15,
   "id": "4f522fc4",
   "metadata": {},
   "outputs": [
    {
     "data": {
      "text/html": [
       "<div>\n",
       "<style scoped>\n",
       "    .dataframe tbody tr th:only-of-type {\n",
       "        vertical-align: middle;\n",
       "    }\n",
       "\n",
       "    .dataframe tbody tr th {\n",
       "        vertical-align: top;\n",
       "    }\n",
       "\n",
       "    .dataframe thead th {\n",
       "        text-align: right;\n",
       "    }\n",
       "</style>\n",
       "<table border=\"1\" class=\"dataframe\">\n",
       "  <thead>\n",
       "    <tr style=\"text-align: right;\">\n",
       "      <th></th>\n",
       "      <th>C1</th>\n",
       "      <th>C2</th>\n",
       "      <th>C3</th>\n",
       "      <th>C4</th>\n",
       "    </tr>\n",
       "  </thead>\n",
       "  <tbody>\n",
       "    <tr>\n",
       "      <th>0</th>\n",
       "      <td>0.4</td>\n",
       "      <td>Tipo1</td>\n",
       "      <td>SP</td>\n",
       "      <td>10</td>\n",
       "    </tr>\n",
       "    <tr>\n",
       "      <th>1</th>\n",
       "      <td>0.5</td>\n",
       "      <td>Tipo2</td>\n",
       "      <td>SP</td>\n",
       "      <td>20</td>\n",
       "    </tr>\n",
       "    <tr>\n",
       "      <th>2</th>\n",
       "      <td>0.8</td>\n",
       "      <td>Tipo3</td>\n",
       "      <td>SC</td>\n",
       "      <td>20</td>\n",
       "    </tr>\n",
       "    <tr>\n",
       "      <th>3</th>\n",
       "      <td>0.9</td>\n",
       "      <td>Tipo4</td>\n",
       "      <td>MG</td>\n",
       "      <td>30</td>\n",
       "    </tr>\n",
       "  </tbody>\n",
       "</table>\n",
       "</div>"
      ],
      "text/plain": [
       "    C1     C2  C3  C4\n",
       "0  0.4  Tipo1  SP  10\n",
       "1  0.5  Tipo2  SP  20\n",
       "2  0.8  Tipo3  SC  20\n",
       "3  0.9  Tipo4  MG  30"
      ]
     },
     "execution_count": 15,
     "metadata": {},
     "output_type": "execute_result"
    }
   ],
   "source": [
    "C1 = [.4,.5,.8,.9] #Float\n",
    "C2 = [\"Tipo1\",\"Tipo2\",\"Tipo3\",\"Tipo4\"]\n",
    "C3 = [\"SP\",\"SP\",\"SC\",\"MG\"]\n",
    "C4 = [10,20,20,30]\n",
    "dic = {\"C1\": C1,\n",
    "       \"C2\": C2,\n",
    "       \"C3\": C3,\n",
    "       \"C4\": C4,}\n",
    "df = pd.DataFrame(dic)\n",
    "df"
   ]
  },
  {
   "cell_type": "markdown",
   "id": "b84c8a7f",
   "metadata": {},
   "source": [
    "Usando o método dos dataframes `get_dummies()` é possível fazer a transformação automática de valores categóricos para um array binário. Podemos passar como argumento uma determinada coluna:"
   ]
  },
  {
   "cell_type": "code",
   "execution_count": 25,
   "id": "620f23db",
   "metadata": {},
   "outputs": [
    {
     "data": {
      "text/html": [
       "<div>\n",
       "<style scoped>\n",
       "    .dataframe tbody tr th:only-of-type {\n",
       "        vertical-align: middle;\n",
       "    }\n",
       "\n",
       "    .dataframe tbody tr th {\n",
       "        vertical-align: top;\n",
       "    }\n",
       "\n",
       "    .dataframe thead th {\n",
       "        text-align: right;\n",
       "    }\n",
       "</style>\n",
       "<table border=\"1\" class=\"dataframe\">\n",
       "  <thead>\n",
       "    <tr style=\"text-align: right;\">\n",
       "      <th></th>\n",
       "      <th>Tipo1</th>\n",
       "      <th>Tipo2</th>\n",
       "      <th>Tipo3</th>\n",
       "      <th>Tipo4</th>\n",
       "    </tr>\n",
       "  </thead>\n",
       "  <tbody>\n",
       "    <tr>\n",
       "      <th>0</th>\n",
       "      <td>1</td>\n",
       "      <td>0</td>\n",
       "      <td>0</td>\n",
       "      <td>0</td>\n",
       "    </tr>\n",
       "    <tr>\n",
       "      <th>1</th>\n",
       "      <td>0</td>\n",
       "      <td>1</td>\n",
       "      <td>0</td>\n",
       "      <td>0</td>\n",
       "    </tr>\n",
       "    <tr>\n",
       "      <th>2</th>\n",
       "      <td>0</td>\n",
       "      <td>0</td>\n",
       "      <td>1</td>\n",
       "      <td>0</td>\n",
       "    </tr>\n",
       "    <tr>\n",
       "      <th>3</th>\n",
       "      <td>0</td>\n",
       "      <td>0</td>\n",
       "      <td>0</td>\n",
       "      <td>1</td>\n",
       "    </tr>\n",
       "  </tbody>\n",
       "</table>\n",
       "</div>"
      ],
      "text/plain": [
       "   Tipo1  Tipo2  Tipo3  Tipo4\n",
       "0      1      0      0      0\n",
       "1      0      1      0      0\n",
       "2      0      0      1      0\n",
       "3      0      0      0      1"
      ]
     },
     "execution_count": 25,
     "metadata": {},
     "output_type": "execute_result"
    }
   ],
   "source": [
    "pd.get_dummies(df[\"C2\"])"
   ]
  },
  {
   "cell_type": "markdown",
   "id": "477b583d",
   "metadata": {},
   "source": [
    "Podemos também passar o dataframe inteiro, de forma que as conversões serão feitas automáticamente:"
   ]
  },
  {
   "cell_type": "code",
   "execution_count": 26,
   "id": "67d4ab03",
   "metadata": {},
   "outputs": [
    {
     "data": {
      "text/html": [
       "<div>\n",
       "<style scoped>\n",
       "    .dataframe tbody tr th:only-of-type {\n",
       "        vertical-align: middle;\n",
       "    }\n",
       "\n",
       "    .dataframe tbody tr th {\n",
       "        vertical-align: top;\n",
       "    }\n",
       "\n",
       "    .dataframe thead th {\n",
       "        text-align: right;\n",
       "    }\n",
       "</style>\n",
       "<table border=\"1\" class=\"dataframe\">\n",
       "  <thead>\n",
       "    <tr style=\"text-align: right;\">\n",
       "      <th></th>\n",
       "      <th>C1</th>\n",
       "      <th>C4</th>\n",
       "      <th>C2_Tipo1</th>\n",
       "      <th>C2_Tipo2</th>\n",
       "      <th>C2_Tipo3</th>\n",
       "      <th>C2_Tipo4</th>\n",
       "      <th>C3_MG</th>\n",
       "      <th>C3_SC</th>\n",
       "      <th>C3_SP</th>\n",
       "    </tr>\n",
       "  </thead>\n",
       "  <tbody>\n",
       "    <tr>\n",
       "      <th>0</th>\n",
       "      <td>0.4</td>\n",
       "      <td>10</td>\n",
       "      <td>1</td>\n",
       "      <td>0</td>\n",
       "      <td>0</td>\n",
       "      <td>0</td>\n",
       "      <td>0</td>\n",
       "      <td>0</td>\n",
       "      <td>1</td>\n",
       "    </tr>\n",
       "    <tr>\n",
       "      <th>1</th>\n",
       "      <td>0.5</td>\n",
       "      <td>20</td>\n",
       "      <td>0</td>\n",
       "      <td>1</td>\n",
       "      <td>0</td>\n",
       "      <td>0</td>\n",
       "      <td>0</td>\n",
       "      <td>0</td>\n",
       "      <td>1</td>\n",
       "    </tr>\n",
       "    <tr>\n",
       "      <th>2</th>\n",
       "      <td>0.8</td>\n",
       "      <td>20</td>\n",
       "      <td>0</td>\n",
       "      <td>0</td>\n",
       "      <td>1</td>\n",
       "      <td>0</td>\n",
       "      <td>0</td>\n",
       "      <td>1</td>\n",
       "      <td>0</td>\n",
       "    </tr>\n",
       "    <tr>\n",
       "      <th>3</th>\n",
       "      <td>0.9</td>\n",
       "      <td>30</td>\n",
       "      <td>0</td>\n",
       "      <td>0</td>\n",
       "      <td>0</td>\n",
       "      <td>1</td>\n",
       "      <td>1</td>\n",
       "      <td>0</td>\n",
       "      <td>0</td>\n",
       "    </tr>\n",
       "  </tbody>\n",
       "</table>\n",
       "</div>"
      ],
      "text/plain": [
       "    C1  C4  C2_Tipo1  C2_Tipo2  C2_Tipo3  C2_Tipo4  C3_MG  C3_SC  C3_SP\n",
       "0  0.4  10         1         0         0         0      0      0      1\n",
       "1  0.5  20         0         1         0         0      0      0      1\n",
       "2  0.8  20         0         0         1         0      0      1      0\n",
       "3  0.9  30         0         0         0         1      1      0      0"
      ]
     },
     "execution_count": 26,
     "metadata": {},
     "output_type": "execute_result"
    }
   ],
   "source": [
    "pd.get_dummies(df)"
   ]
  },
  {
   "cell_type": "markdown",
   "id": "6c1dde2e",
   "metadata": {},
   "source": [
    "### 11.5.2 A influência da escala\n",
    "Sempre ao realizarmos uma análise ade agrupamento precisamos estar atentos às escalas dos atributos. Se elas são de magnitudes muito diferentes, então um atibuto pode dominar os outros, dado que a distância entre os pontos é realizada pela norma L2. Considere o exemplo abaixo:"
   ]
  },
  {
   "cell_type": "code",
   "execution_count": 34,
   "id": "31b757f7",
   "metadata": {},
   "outputs": [
    {
     "name": "stdout",
     "output_type": "stream",
     "text": [
      "5000.03609986968\n"
     ]
    }
   ],
   "source": [
    "import math as mt\n",
    "\n",
    "idade1,renda1 = 15,10000\n",
    "idade2,renda2 = 20,15000\n",
    "\n",
    "dist = mt.sqrt((idade1 - idade2)**2 + (renda1 - renda2)**2 )\n",
    "print(dist)"
   ]
  },
  {
   "cell_type": "markdown",
   "id": "de56de43",
   "metadata": {},
   "source": [
    "Alterando muito uma das variáveis (idade), não afeta quase nada nas distâncias, de forma que é como se a variável idade não fosse usada no agrupamento, ou ainda, estamos dando muito mais importância à variável renda. Isso acontece pela **diferença de escalas**."
   ]
  },
  {
   "cell_type": "code",
   "execution_count": 35,
   "id": "990c7777",
   "metadata": {},
   "outputs": [
    {
     "name": "stdout",
     "output_type": "stream",
     "text": [
      "5000.980003959224\n"
     ]
    }
   ],
   "source": [
    "import math as mt\n",
    "\n",
    "idade1,renda1 = 100,10000\n",
    "idade2,renda2 = 1,15000\n",
    "\n",
    "dist = mt.sqrt((idade1 - idade2)**2 + (renda1 - renda2)**2 )\n",
    "print(dist)"
   ]
  },
  {
   "cell_type": "markdown",
   "id": "69e8652d",
   "metadata": {},
   "source": [
    "Podemos resolver esse problema padronizando os dados das colunas. Existem diversas formas de padronização, uma delas consiste em simplesmente dividir os dados de uma coluna pelo maior valor da mesma coluna. Dessa forma todos ficam padronizados em uma escala que varia de 0 a 1. Considere como a padronização altera a distância calculada no exemplo anterior."
   ]
  },
  {
   "cell_type": "code",
   "execution_count": 38,
   "id": "294dcbfb",
   "metadata": {},
   "outputs": [
    {
     "name": "stdout",
     "output_type": "stream",
     "text": [
      "Dados 1 normalizados :  0.75 1.0\n",
      "Dados 2 normalizados :  1.0 1.5\n",
      "Distancia normalizada :  0.5590169943749475\n"
     ]
    }
   ],
   "source": [
    "import math as mt\n",
    "\n",
    "idade1,renda1 = 15,10000\n",
    "idade2,renda2 = 20,15000\n",
    "\n",
    "maior_idade = 20\n",
    "maior_renda = 10000\n",
    "\n",
    "# Normalizando os dados\n",
    "idade1_norm,renda1_norm = idade1/maior_idade, renda1/maior_renda\n",
    "idade2_norm,renda2_norm = idade2/maior_idade, renda2/maior_renda\n",
    "\n",
    "print(\"Dados 1 normalizados : \", idade1_norm, renda1_norm)\n",
    "print(\"Dados 2 normalizados : \", idade2_norm, renda2_norm)\n",
    "\n",
    "dist = mt.sqrt((idade1_norm - idade2_norm)**2 + (renda1_norm - renda2_norm)**2 )\n",
    "print(\"Distancia normalizada : \",dist)"
   ]
  },
  {
   "cell_type": "markdown",
   "id": "8287713d",
   "metadata": {},
   "source": [
    "Alterando a idade, notamos que a distância também é alterada proporcionalmente."
   ]
  },
  {
   "cell_type": "code",
   "execution_count": 44,
   "id": "436b65d0",
   "metadata": {},
   "outputs": [
    {
     "name": "stdout",
     "output_type": "stream",
     "text": [
      "Dados 1 normalizados :  0.75 1.0\n",
      "Dados 2 normalizados :  0.05 1.5\n",
      "Distância normalizada :  0.8602325267042626\n"
     ]
    }
   ],
   "source": [
    "import math as mt\n",
    "\n",
    "idade1,renda1 = 15,10000\n",
    "idade2,renda2 = 1,15000\n",
    "\n",
    "maior_idade = 20\n",
    "maior_renda = 10000\n",
    "\n",
    "# Normalizando os dados\n",
    "idade1_pad,renda1_pad = idade1/maior_idade, renda1/maior_renda\n",
    "idade2_pad,renda2_pad = idade2/maior_idade, renda2/maior_renda\n",
    "\n",
    "print(\"Dados 1 normalizados : \", idade1_pad, renda1_pad)\n",
    "print(\"Dados 2 normalizados : \", idade2_pad, renda2_pad)\n",
    "\n",
    "dist = mt.sqrt((idade1_pad - idade2_pad)**2 + (renda1_pad - renda2_pad)**2 )\n",
    "print(\"Distância normalizada : \",dist)"
   ]
  },
  {
   "cell_type": "markdown",
   "id": "f2286d0b",
   "metadata": {},
   "source": [
    "Podemos padronizar os dados do dataframe dividindo todos os valores de uma coluna pelo maior valor da mesma coluna. Usando o dataframe criado acima, com as variáveis extras, temos:"
   ]
  },
  {
   "cell_type": "code",
   "execution_count": 47,
   "id": "5e778824",
   "metadata": {},
   "outputs": [
    {
     "data": {
      "text/html": [
       "<div>\n",
       "<style scoped>\n",
       "    .dataframe tbody tr th:only-of-type {\n",
       "        vertical-align: middle;\n",
       "    }\n",
       "\n",
       "    .dataframe tbody tr th {\n",
       "        vertical-align: top;\n",
       "    }\n",
       "\n",
       "    .dataframe thead th {\n",
       "        text-align: right;\n",
       "    }\n",
       "</style>\n",
       "<table border=\"1\" class=\"dataframe\">\n",
       "  <thead>\n",
       "    <tr style=\"text-align: right;\">\n",
       "      <th></th>\n",
       "      <th>C1</th>\n",
       "      <th>C4</th>\n",
       "      <th>C2_Tipo1</th>\n",
       "      <th>C2_Tipo2</th>\n",
       "      <th>C2_Tipo3</th>\n",
       "      <th>C2_Tipo4</th>\n",
       "      <th>C3_MG</th>\n",
       "      <th>C3_SC</th>\n",
       "      <th>C3_SP</th>\n",
       "    </tr>\n",
       "  </thead>\n",
       "  <tbody>\n",
       "    <tr>\n",
       "      <th>0</th>\n",
       "      <td>0.444444</td>\n",
       "      <td>0.333333</td>\n",
       "      <td>1.0</td>\n",
       "      <td>0.0</td>\n",
       "      <td>0.0</td>\n",
       "      <td>0.0</td>\n",
       "      <td>0.0</td>\n",
       "      <td>0.0</td>\n",
       "      <td>1.0</td>\n",
       "    </tr>\n",
       "    <tr>\n",
       "      <th>1</th>\n",
       "      <td>0.555556</td>\n",
       "      <td>0.666667</td>\n",
       "      <td>0.0</td>\n",
       "      <td>1.0</td>\n",
       "      <td>0.0</td>\n",
       "      <td>0.0</td>\n",
       "      <td>0.0</td>\n",
       "      <td>0.0</td>\n",
       "      <td>1.0</td>\n",
       "    </tr>\n",
       "    <tr>\n",
       "      <th>2</th>\n",
       "      <td>0.888889</td>\n",
       "      <td>0.666667</td>\n",
       "      <td>0.0</td>\n",
       "      <td>0.0</td>\n",
       "      <td>1.0</td>\n",
       "      <td>0.0</td>\n",
       "      <td>0.0</td>\n",
       "      <td>1.0</td>\n",
       "      <td>0.0</td>\n",
       "    </tr>\n",
       "    <tr>\n",
       "      <th>3</th>\n",
       "      <td>1.000000</td>\n",
       "      <td>1.000000</td>\n",
       "      <td>0.0</td>\n",
       "      <td>0.0</td>\n",
       "      <td>0.0</td>\n",
       "      <td>1.0</td>\n",
       "      <td>1.0</td>\n",
       "      <td>0.0</td>\n",
       "      <td>0.0</td>\n",
       "    </tr>\n",
       "  </tbody>\n",
       "</table>\n",
       "</div>"
      ],
      "text/plain": [
       "         C1        C4  C2_Tipo1  C2_Tipo2  C2_Tipo3  C2_Tipo4  C3_MG  C3_SC  \\\n",
       "0  0.444444  0.333333       1.0       0.0       0.0       0.0    0.0    0.0   \n",
       "1  0.555556  0.666667       0.0       1.0       0.0       0.0    0.0    0.0   \n",
       "2  0.888889  0.666667       0.0       0.0       1.0       0.0    0.0    1.0   \n",
       "3  1.000000  1.000000       0.0       0.0       0.0       1.0    1.0    0.0   \n",
       "\n",
       "   C3_SP  \n",
       "0    1.0  \n",
       "1    1.0  \n",
       "2    0.0  \n",
       "3    0.0  "
      ]
     },
     "execution_count": 47,
     "metadata": {},
     "output_type": "execute_result"
    }
   ],
   "source": [
    "df_var_extras = pd.get_dummies(df)\n",
    "\n",
    "# Iterando em cada coluna e substituindo seus valores por eles mesmo divididos pelo máximo da coluna\n",
    "for col in df_var_extras.columns:\n",
    "    df_var_extras[col] = df_var_extras[col]/df_var_extras[col].max()\n",
    "\n",
    "df_var_extras"
   ]
  },
  {
   "cell_type": "markdown",
   "id": "01594ec8",
   "metadata": {},
   "source": [
    "### 11.5.3 Redução da dimensionalidade (PCA *principal component analysis*)\n",
    "A técnica de PCA têm por objetivo reduzir a dimensionalidade dos dados, de forma que a maior variabilidade ainda possa ser explicada. O PCA *altera os atributos* criando combinações lineares dos antigos, que os representem. Ou seja, não existe uma interpretação do que os números significam (antes da análise todos os atributos poderiam ser monetários, após o PCA as novas variáveis criadas não possuem tipo algum)."
   ]
  },
  {
   "cell_type": "code",
   "execution_count": 108,
   "id": "99a2c76b",
   "metadata": {},
   "outputs": [
    {
     "data": {
      "image/png": "[encoded data removed]",
      "text/plain": [
       "<Figure size 720x432 with 1 Axes>"
      ]
     },
     "metadata": {
      "needs_background": "light"
     },
     "output_type": "display_data"
    }
   ],
   "source": [
    "# Usando o conjunto de dados Iris\n",
    "df_iris = pd.read_csv(r\"G:\\Meu Drive\\Arquivos\\UFPR\\Disciplinas\\2 - Intro  Mineração de Dados\\Python\\Datasets\\iris.csv\", sep = \";\")\n",
    "\n",
    "# Padronizando os dados\n",
    "df_iris.iloc[:,0:df_iris.shape[1] - 1] = df_iris.iloc[:,0:df_iris.shape[1] - 1] / df_iris.iloc[:,0:df_iris.shape[1] - 1].max()\n",
    "df_iris\n",
    "\n",
    "# Separando os dados em X (feature) e Y(alvos)\n",
    "X = df_iris.iloc[:,:df_iris.shape[1] - 1]\n",
    "Y = df_iris.iloc[:,df_iris.shape[1] - 1:]\n",
    "\n",
    "from sklearn.decomposition import PCA\n",
    "pca = PCA(n_components = 2)\n",
    "componentes_principais = pca.fit_transform(X)\n",
    "#print(componentes_principais)\n",
    "x1 = componentes_principais[:,0:1]\n",
    "x2 = componentes_principais[:,1:2]\n",
    "\n",
    "#Plotando os dados em um scatter_plot, com as cores de acordo com os labels:\n",
    "cond_setosa     = df_iris[\"target\"] == 'Iris-setosa'\n",
    "cond_versicolor = df_iris[\"target\"] == 'Iris-versicolor'\n",
    "cond_virginica  = df_iris[\"target\"] == 'Iris-virginica'\n",
    "\n",
    "fig, ax = plt.subplots(1,1)\n",
    "ax.scatter(x1[cond_setosa],x2[cond_setosa],color = \"blue\")\n",
    "ax.scatter(x1[cond_versicolor],x2[cond_versicolor],color = \"red\")\n",
    "ax.scatter(x1[cond_virginica],x2[cond_virginica],color = \"green\")\n",
    "fig.set_size_inches(10,6)\n",
    "plt.show()\n",
    "#df_princiapal          = pd.DataFrame(data = principalComponents\n",
    "#             , columns = ['principal component 1', 'principal component 2'])"
   ]
  },
  {
   "cell_type": "markdown",
   "id": "1b4e28a2",
   "metadata": {},
   "source": [
    "<div style=\"background-color:gray\">\n",
    "    <h1 style = \"text-align:center; color:white\"> Exercícios</h1>\n",
    "</div>\n",
    "\n",
    "1. Considere o conjunto de dados `clientes_shopping.csv`. Este conjunto contém os dados de diversos clientes de um Shoppping center, com os dados de renda anual e coeficiente de compra (dentre outros). O coeficiente de compra é um número entre 0 e 100 valorando o quanto o cliente compra no Shopping. O shopping deseja fazer uma segmentação dos clientes para criar uma campanha de marketing mais efetiva. Implemente a segmentação usando o algoritmo k-means, com base nos dois atributos mencionados acima.\n",
    "    1. Encontre o número ideal de grupos\n",
    "    2. Plote o gráfico de cotovelo\n",
    "    3. Plote os dados dos clientes após a segmentação com cores diferentes\n",
    "2. Considere o conjunto de dados `MateriaisConstrucao.xlsx`, que mantém um registro da quantidade de itens que foram comprados em uma loja de materiais de construção. Será que existem grupos de *padrões de compra* que podem ser identificados? Aplique o agrupamento para descobrir. Use a ferramenta de PCA (*principal component analysis*) para reduzir a dimensionalidade dos dados e plotar os pontos em um gráfico 2D.\n",
    "3. (**Se tivermos visto Streamlit**) Crie um aplicativo que leia um banco de dados, e permita que o usuário selecione 2 atributos (numéricos). Com esses atributos, faça o que se pede:\n",
    "    1. Mantenha um slide para o usuário selecionar o número de grupos.\n",
    "    2. Quando o slide é alterado, o algoritmo k-means é calculado considerando esse número.\n",
    "    3. Um gráfico com os elementos de cada grupo é mostrado, sendo que cada grupo deve possuir uma cor diferente.\n",
    "    \n",
    "4. **(EXTRA)**. O agrupamento pode ser utilizado para melhorar a acurácia de um classificador/regressor. Imagine que o shopping deseja criar um regressor para estimar o coeficiente de compra de novos clientes com base nos atributos *genero*, *idade* e *renda anual*.\n",
    "    Podemos primeiro encontrar os grupos com caracteristicas parecidas usando um algoritmo de agrupamento. Em seguida, criamos um classificador diferente para cada um desses grupos, de forma que a chance de se obter uma classificação correta aumenta."
   ]
  },
  {
   "cell_type": "markdown",
   "id": "77cbcdd6",
   "metadata": {},
   "source": [
    "# Plotagem em 3D"
   ]
  },
  {
   "cell_type": "code",
   "execution_count": 5,
   "id": "7091763b",
   "metadata": {},
   "outputs": [
    {
     "data": {
      "image/png": "[encoded data removed]",
      "text/plain": [
       "<Figure size 432x288 with 1 Axes>"
      ]
     },
     "metadata": {
      "needs_background": "light"
     },
     "output_type": "display_data"
    }
   ],
   "source": [
    "import matplotlib.pyplot as plt\n",
    "import numpy as np\n",
    "\n",
    "# Fixing random state for reproducibility\n",
    "np.random.seed(19680801)\n",
    "\n",
    "\n",
    "def randrange(n, vmin, vmax):\n",
    "    \"\"\"\n",
    "    Helper function to make an array of random numbers having shape (n, )\n",
    "    with each number distributed Uniform(vmin, vmax).\n",
    "    \"\"\"\n",
    "    return (vmax - vmin)*np.random.rand(n) + vmin\n",
    "\n",
    "fig = plt.figure()\n",
    "ax = fig.add_subplot(projection='3d')\n",
    "\n",
    "n = 100\n",
    "\n",
    "# For each set of style and range settings, plot n random points in the box\n",
    "# defined by x in [23, 32], y in [0, 100], z in [zlow, zhigh].\n",
    "for m, zlow, zhigh in [('o', -50, -25), ('^', -30, -5)]:\n",
    "    xs = randrange(n, 23, 32)\n",
    "    ys = randrange(n, 0, 100)\n",
    "    zs = randrange(n, zlow, zhigh)\n",
    "    ax.scatter(xs, ys, zs, marker=m)\n",
    "\n",
    "ax.set_xlabel('X Label')\n",
    "ax.set_ylabel('Y Label')\n",
    "ax.set_zlabel('Z Label')\n",
    "fig.savefig(\"cluster3d.pdf\")\n",
    "plt.show()"
   ]
  },
  {
   "cell_type": "code",
   "execution_count": 13,
   "id": "f8fb1185",
   "metadata": {},
   "outputs": [
    {
     "data": {
      "image/png": "[encoded data removed]",
      "text/plain": [
       "<Figure size 432x288 with 1 Axes>"
      ]
     },
     "metadata": {
      "needs_background": "light"
     },
     "output_type": "display_data"
    }
   ],
   "source": [
    "import matplotlib.pyplot as plt\n",
    "import numpy as np\n",
    "\n",
    "# Fixing random state for reproducibility\n",
    "np.random.seed(19680801)\n",
    "\n",
    "\n",
    "def randrange(n, vmin, vmax):\n",
    "    \"\"\"\n",
    "    Helper function to make an array of random numbers having shape (n, )\n",
    "    with each number distributed Uniform(vmin, vmax).\n",
    "    \"\"\"\n",
    "    return (vmax - vmin)*np.random.rand(n) + vmin\n",
    "\n",
    "fig = plt.figure()\n",
    "ax = fig.add_subplot(projection='3d')\n",
    "\n",
    "n = 100\n",
    "\n",
    "# For each set of style and range settings, plot n random points in the box\n",
    "# defined by x in [23, 32], y in [0, 100], z in [zlow, zhigh].\n",
    "l_x1 = np.random.rand(100) + 10\n",
    "l_y1 = np.random.rand(100) + 10\n",
    "l_z1 = [10 for i in range(100)]\n",
    "\n",
    "l_x2 = np.random.rand(100) + 13\n",
    "l_y2 = np.random.rand(100) + 13\n",
    "l_z2 = [10 for i in range(100)]\n",
    "\n",
    "l_x3 = np.random.rand(100) + 13\n",
    "l_y3 = np.random.rand(100) + 10\n",
    "l_z3 = [10 for i in range(100)]\n",
    "\n",
    "ax.scatter(l_x1, l_y1, l_z1, color = \"red\")\n",
    "ax.scatter(l_x2, l_y2, l_z2, color = \"green\")\n",
    "ax.scatter(l_x3, l_y3, l_z3, color = \"blue\")\n",
    "\n",
    "ax.set_xlabel('X Label')\n",
    "ax.set_ylabel('Y Label')\n",
    "ax.set_zlabel('Z Label')\n",
    "fig.savefig(\"cluster3d2.pdf\")\n",
    "plt.show()"
   ]
  },
  {
   "cell_type": "code",
   "execution_count": null,
   "id": "f0b162af",
   "metadata": {},
   "outputs": [],
   "source": []
  }
 ],
 "metadata": {
  "kernelspec": {
   "display_name": "Python 3 (ipykernel)",
   "language": "python",
   "name": "python3"
  },
  "language_info": {
   "codemirror_mode": {
    "name": "ipython",
    "version": 3
   },
   "file_extension": ".py",
   "mimetype": "text/x-python",
   "name": "python",
   "nbconvert_exporter": "python",
   "pygments_lexer": "ipython3",
   "version": "3.12.4"
  }
 },
 "nbformat": 4,
 "nbformat_minor": 5
}
