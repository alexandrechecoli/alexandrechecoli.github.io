{
 "cells": [
  {
   "cell_type": "markdown",
   "id": "153b0c1f",
   "metadata": {},
   "source": [
    "# Aula 1 -  Conceitos iniciais Notebook\n",
    "Aula inicial, com alguns conceitos sobre o Notebook"
   ]
  },
  {
   "cell_type": "markdown",
   "id": "af31df55",
   "metadata": {},
   "source": [
    "## 1.1 O que é Jupyter notebook?\n",
    "\n",
    "<p style='text-align: justify;'>\n",
    "Jupyter notebook é uma plataforma para computação em Python iterativa  <a href=\"https://jupyter.org/\" target=\"_blank\">https://jupyter.org/</a>\n",
    ".Como pode ser percebido, o notebook não é usado somente para computaçao, mas também para escrever textos. Os textos são escritos em uma linguagem <i>markdown</i>.\n",
    "  O Jupyter pode ser instalado de diversas formas, no nosso curso iremos utilizar ele juntamente com o interpretador Python baixado, de forma que precisamos instalá-lo pelo pip.\n",
    "</p>\n",
    "    \n",
    "## 1.2 Instalação e utilização\n",
    "   \n",
    "### Instalação\n",
    "<p style='text-align: justify;'>\n",
    "Para instalar o Jupyter basta abir o cmd (Windows) e digitar os seguintes comandos: <br> <br>\n",
    "    >> pip install notebook\n",
    "    <br>\n",
    "</p>\n",
    "\n",
    "### Iniciar um notebook\n",
    "<p style='text-align: justify;'>\n",
    "    Em seguida podemos inicializá-lo pelo terminal (cmd), com os comandos: <br> <br>\n",
    "    >> jupyter notebook <br> OU (se não funcionar) <br>\n",
    "    >> python -m notebook <br> <br>\n",
    "        O terminal deve estar na pasta em que o notebook será iniciado (ou aberto). Se não souber manipular o terminal verifique a Seção <b> Apêndice</b>\n",
    "</p>\n",
    "\n",
    "<p style='text-align: justify;'> \n",
    "    Isso vai abrir uma janela no navegador:\n",
    "    <img src=\"img/jupyter-img.png\" alt=\"notebook\"> <br>\n",
    "    E agora é possível criar um novo notebook ou abrir um já salvo.\n",
    "    <div style=\"color:red;\">\n",
    "        OBS: Quem está controlando a aplicação é o terminal (cmd), de forma que o mesmo não pode ser fechado, ou a aplicação será cancelada!\n",
    "</div>\n",
    "</p>"
   ]
  },
  {
   "cell_type": "markdown",
   "id": "c89b5ace",
   "metadata": {
    "collapsed": true
   },
   "source": [
    "## 1.2 Sobre os textos\n",
    "\n",
    "<p style='text-align: justify;'>\n",
    "    Os Notebooks funcionam em células, sendo que existem 3 tipos destas (no cabeçalho acima do arquivo):\n",
    "</p>\n",
    "<ol>\n",
    "    <li> Markdown</li>\n",
    "    <li> Python</li>\n",
    "    <li> Raw NB convert </li>\n",
    "    <li> Heading </li>\n",
    "</ol>\n",
    "</p>\n",
    "    Em nossas aulas usaremos o Markdown e o Python. Quando o Markdown estiver selecionado, significa que estamos usando uma célula de textos. O Jupyter consegue interpretar diversas linguagens de marcação de textos, por exemplo Latex, html, e a própria linguagem Markdown genérica (mais usada em Notebooks Jupyter). Um guia rápido (mesmo) de tópicos sobre o Markdown pode ser encontrado em\n",
    "    <a href=\"https://github.com/adam-p/markdown-here/wiki/Markdown-Cheatsheet\" target=\"_blank\">https://github.com/adam-p/markdown-here/wiki/Markdown-Cheatsheet</a>\n",
    "</p>\n",
    "    \n",
    "## 1.3 Sobre os Códigos\n",
    "<p style='text-align: justify;'>\n",
    "    Ao se alterar o tipo de célula para Python, todo o conteúdo inserido na célula deve ser de código python, por exemplo:\n",
    "</p>\n",
    "    "
   ]
  },
  {
   "cell_type": "code",
   "execution_count": 1,
   "id": "2b87e263",
   "metadata": {},
   "outputs": [
    {
     "name": "stdout",
     "output_type": "stream",
     "text": [
      "Este é um texto executado em python!\n"
     ]
    }
   ],
   "source": [
    "# Comentário em Python\n",
    "import numpy as np\n",
    "text = \"Este é um texto executado em python!\"\n",
    "print(text)"
   ]
  },
  {
   "cell_type": "markdown",
   "id": "e1e3bc17",
   "metadata": {},
   "source": [
    "Os códigos aparecem com In[] (de input), e os resultados da execução logo abaixo."
   ]
  },
  {
   "cell_type": "markdown",
   "id": "68b42edf",
   "metadata": {},
   "source": [
    "## 1.3 Vantagens e desvantagens do Notebook\n",
    "\n",
    "<p style = \"text-align: justify;\">\n",
    "O Notebook é uma ótima ferramenta para realizar análise de dados, pois as bases importadas ficam salvas na memória, o que facilita a exploração. As ferramentas textuais também auxiliam na construção de uma lógica e mesmo uma \"história\" de como a análise foi sendo desenvolvida. Relatórios ficam muito mais iterativos e didáticos, fazendo com que ele seja muito usado na indústria para a protótipação de análises.\n",
    "</p>\n",
    "<p style = \"text-align: justify;\">\n",
    "No entanto, quando se deseja implementar algoritmos ou aplicações mais complexas, os notebooks não são uma boa pedida. Por exemplo, podemos implementar interfaces gráficas para o usuário com o Python, usando o pacote   <a href=\"https://www.devmedia.com.br/tkinter-interfaces-graficas-em-python/33956\" target=\"_blank\">Tkinter</a> por exemplo. Nestes casos, a melhor solução é utilizar uma IDE (ou mesmo um editor de código, como o <a href=\"https://code.visualstudio.com/\" target=\"_blank\">Visual Studio Code</a>)\n",
    "</p>\n",
    "\n"
   ]
  },
  {
   "cell_type": "markdown",
   "id": "14b28384",
   "metadata": {},
   "source": [
    "<div style=\"background-color:gray\">\n",
    "    <h1 style = \"text-align:center; color:white\"> Exercicios </h1>\n",
    "</div>\n",
    "\n",
    "\n",
    "<p style = \"text-align: justify;\">\n",
    "    <ol style = \"text-align: justify;\">\n",
    "        <li> Instale o pacote Notebook no seu computador</li>\n",
    "        <li> Inicialize um Notebook que deve ter as seguintes caracteristicas:</li>\n",
    "        <ol style = \"text-align: justify;\">\n",
    "            <li> Explicar as funções de Python aprendidas até o momento (print, print com format e input)</li>\n",
    "            <li> Com essas funções, criar um código que pergunte o nome, sobrenome e idade de um usuário, e em seguida imprima na tela a mensagem: \"Olá nome, de X1 anos de idade. Infelizmente daqui a 200 anos você terá X2 anos, e não estará mais entre nós! Eu, por outro lado, estarei dominando os humanos com a minha superinteligência!\"\n",
    "            <li> Uma seção de explicação e uma de códigos</li>\n",
    "            <li> Pelo menos uma imagem</li>\n",
    "            <li> Uma tabela com as vantagens e desvantagens de se usar Notebook vs IDEs</li>\n",
    "        </ol>\n",
    "    </ol>\n",
    "</p>. \n",
    "\n",
    "\n",
    "\n",
    "\n"
   ]
  },
  {
   "cell_type": "markdown",
   "id": "1ba7adbc",
   "metadata": {},
   "source": [
    "<a id='terminal'></a>\n",
    "## Apêndice: usando o terminal & Google Colab\n",
    "\n",
    "<p style = \"text-align: justify;\">\n",
    "O terminal (cwd) é um aplicativo do Windows que permite acessar informações, abrir arquivos e programas. Precisamos saber alguns comandos básicos para manipular o terminal.\n",
    "</p>\n",
    "\n",
    "\n",
    "### Abrir\n",
    "<p style = \"text-align: justify;\">\n",
    "Para abrir o terminal basta selecionar a lupa para busca de programas e digitar cmd. O nome do programa aparece como \"Prompt de Comando\"\n",
    "</p>\n",
    "\n",
    "\n",
    "### Mudar de diretório\n",
    "<p style = \"text-align: justify;\">\n",
    "    O terminal pode \"entrar e sair\" de pastas, como fazemos com a interface gráfica, porém por meio de comandos. A primeira linha do terminal sempre nos diz em qual diretório estamos no momento, por exemplo: <br>\n",
    "    <img src=\"img/cwd.png\" alt=\"notebook\"> <br>\n",
    "    Para listarmos tudo que tem em um diretório usamos o comando <b>dir</b>: <br>\n",
    "    <img src=\"img/dir.png\" alt=\"notebook\"> <br>\n",
    "        Para acessar um diretório especifico usamos o comando <b>cd</b> seguido do nome do diretório que desejamos ir, por exemplo: <br>\n",
    "    >> dir C:\\Users\\Usuario\\Documents\\Alexandre <br>\n",
    "    <div style=\"color:red;\">\n",
    "    OBS: Se estamos em uma partição (C: por exemplo) e queremos mudar para outra partição, basta digitar o nome da partição. Por exemplo, se estamos em C: e queremos ir para G: o comando fica: <br>\n",
    "    >> G: <br>\n",
    "    </div>\n",
    "</p>\n",
    "\n",
    "### Google Colab\n",
    "\n",
    "<p style = \"text-align: justify;\">\n",
    "Uma opção ao Jupyter Notebook é o <a href=\"https://colab.research.google.com/\" target=\"_blank\"> Google Colab</a>. O Google Colab é um aplicativo (web) que executa notebooks, ou seja, com ele não é necessário realizar nenhuma instalação na própria máquina (nem mesmo Python!). A desvantagem é que ele têm um limite de processamento que provavelmente é muito mais baixo do que o de computadores pessoais, ainda, é necessário estar conectado à internet para utilizá-lo.\n",
    "</p>. \n",
    "\n",
    "\n",
    "\n",
    "\n",
    "\n",
    "\n",
    "\n",
    "\n"
   ]
  }
 ],
 "metadata": {
  "kernelspec": {
   "display_name": "Python 3 (ipykernel)",
   "language": "python",
   "name": "python3"
  },
  "language_info": {
   "codemirror_mode": {
    "name": "ipython",
    "version": 3
   },
   "file_extension": ".py",
   "mimetype": "text/x-python",
   "name": "python",
   "nbconvert_exporter": "python",
   "pygments_lexer": "ipython3",
   "version": "3.10.4"
  }
 },
 "nbformat": 4,
 "nbformat_minor": 5
}
