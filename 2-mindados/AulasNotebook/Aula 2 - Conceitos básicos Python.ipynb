{
 "cells": [
  {
   "cell_type": "markdown",
   "id": "2192d0cb",
   "metadata": {},
   "source": [
    "# Aula 2 - Conceitos básicos Python"
   ]
  },
  {
   "cell_type": "markdown",
   "id": "1877a303",
   "metadata": {},
   "source": [
    "## 2.1 Variáveis\n",
    "\n",
    "Python é uma linguagem de programação dinâmica, o que signica que não é necessário definir o tipo das variáveis, basta fazer a atribuição que o interpretador faz a inferencia: Abaixo 3 declarações de variáveis, uma string, um numero real (double) e uma lista, todos são declarados da mesma forma."
   ]
  },
  {
   "cell_type": "code",
   "execution_count": null,
   "id": "e1869d3a",
   "metadata": {},
   "outputs": [],
   "source": [
    "v1 = \"Sou uma string\"\n",
    "v2 = 10.8\n",
    "v3 = [1,2,3]"
   ]
  },
  {
   "cell_type": "code",
   "execution_count": null,
   "id": "eaed77fa",
   "metadata": {},
   "outputs": [],
   "source": [
    "print(v3)"
   ]
  },
  {
   "cell_type": "markdown",
   "id": "c7583806",
   "metadata": {},
   "source": [
    "## 2.2 Objetos\n",
    "\n",
    "Tudo em Python são objetos! Todo número, string, estrutura de dados, função, classe, módulo e assim por diante, existe no interpretador Python em sua própria \"caixa\", que é referenciada como um objeto Python. Os objetos possuem atributos e métodos internos que podem ser usadas. Para acessar, usamos o 'ponto' e o nome dos atributo ou método."
   ]
  },
  {
   "cell_type": "code",
   "execution_count": null,
   "id": "b3f8dd36",
   "metadata": {},
   "outputs": [],
   "source": [
    "# Função da string que conta quantas vezes a letra aparece\n",
    "print(v1.count('s'))\n"
   ]
  },
  {
   "cell_type": "markdown",
   "id": "20579a1f",
   "metadata": {},
   "source": [
    "Quando fazemos uma atribuição a uma variável em Python, estamos criando referência ao objeto do lado direito do sinal de igualdade, ou seja, criamos uma cópia do objeto."
   ]
  },
  {
   "cell_type": "code",
   "execution_count": null,
   "id": "1f043e0b",
   "metadata": {},
   "outputs": [],
   "source": [
    "print(v3)\n",
    "v4 = v3\n",
    "v4.append(4)\n",
    "\n",
    "# Alterando V4 altera v3\n",
    "print(v3)"
   ]
  },
  {
   "cell_type": "markdown",
   "id": "c3105c7a",
   "metadata": {},
   "source": [
    "## 2.3 Referências dinâmicas, tipos fortes\n",
    "\n",
    "Referências a objetos não possuem nenhum tipo associado à elas."
   ]
  },
  {
   "cell_type": "code",
   "execution_count": null,
   "id": "95c3936b",
   "metadata": {},
   "outputs": [],
   "source": [
    "v3 = \"Eu era uma lista, agora sou uma string!\"\n",
    "print(v3)\n",
    "\n",
    "# A informação sobre o tipo é armazenada no próprio objeto\n",
    "print(type(v3))"
   ]
  },
  {
   "cell_type": "markdown",
   "id": "c7025217",
   "metadata": {},
   "source": [
    "Porém Python ainda é uma linguagem tipada (conversões automáticas não ocorrerão)"
   ]
  },
  {
   "cell_type": "code",
   "execution_count": null,
   "id": "3f51117f",
   "metadata": {},
   "outputs": [],
   "source": [
    "a1 = 5\n",
    "a2 = '5'\n",
    "print(a1 + a2)\n",
    "\n",
    "# Ele não faz a conversão automática de string para inteiro"
   ]
  },
  {
   "cell_type": "markdown",
   "id": "d00c690a",
   "metadata": {},
   "source": [
    "## 2.4 Operadores binários e comparações\n",
    "\n",
    "A maior parte das operações matemáticas binárias está de acordo com o esperado:"
   ]
  },
  {
   "cell_type": "code",
   "execution_count": null,
   "id": "a8a5b1e8",
   "metadata": {},
   "outputs": [],
   "source": [
    "5 - 7"
   ]
  },
  {
   "cell_type": "code",
   "execution_count": null,
   "id": "e7f50f3c",
   "metadata": {},
   "outputs": [],
   "source": [
    "12 + 21.5"
   ]
  },
  {
   "cell_type": "code",
   "execution_count": null,
   "id": "3d121230",
   "metadata": {},
   "outputs": [],
   "source": [
    "5 <= 2"
   ]
  },
  {
   "cell_type": "markdown",
   "id": "01406b95",
   "metadata": {},
   "source": [
    "A tabela abaixo exemplifica os operadores em Python:\n",
    "\n",
    "| Operador | Descrição | \n",
    "|:------:|:--------:|\n",
    "| a + b  | Soma a e b    | \n",
    "| a - b  | Subtrai b de a     |\n",
    "| a * b  | Multiplica a por b     |\n",
    "| a / b  | Divide a por b      |\n",
    "| a // b  | Faz a divisão pelo piso de a por b, descartando qualquer resto fracionário   |\n",
    "| a ** b  | Eleva a a potencia de b     |\n",
    "| a & b| True se tanto a quanto b forem True; se forem inteiros é a operação bit a bit     |\n",
    "| a | b| True se ou a b for True     |\n",
    "| a ^ b  |  Or exclusivo, true se a ou b forem verdadeiros, porém não os dois    |\n",
    "| a == b  | True se a for igual a b     |\n",
    "| a != b  | True se a for diferente de b     |\n",
    "| a < b, a <=b  | True se a for menor (menor ou igual) a b     |\n",
    "| a > b, a >= b  | True se a for maior (maior ou igual) a b     |\n",
    "| a is b  | True se a e b referenciam o mesmo objeto     |\n",
    "| a is not b  | True se a b referenciam objetos diferentes     |\n",
    "\n"
   ]
  },
  {
   "cell_type": "markdown",
   "id": "e7aa6995",
   "metadata": {},
   "source": [
    "## 2.5 Objetos mutáveis e imutáveis\n",
    "\n",
    "A maioria dos objetos em Python é mutável, ou seja, pode ter seus valores alterados."
   ]
  },
  {
   "cell_type": "code",
   "execution_count": null,
   "id": "db827097",
   "metadata": {},
   "outputs": [],
   "source": [
    "L1 = [\"Elemento 1\", 2, 10]\n",
    "print(L1)\n",
    "L1[1] = \"Era um inteiro e agora virou uma string\"\n",
    "print(L1)"
   ]
  },
  {
   "cell_type": "markdown",
   "id": "ec5d969b",
   "metadata": {},
   "source": [
    "Outros objetos, como strings e tuplas são imutáveis."
   ]
  },
  {
   "cell_type": "code",
   "execution_count": null,
   "id": "76c6f160",
   "metadata": {},
   "outputs": [],
   "source": [
    "s1 = \"String\"\n",
    "print(s1[2])\n",
    "s1[2] = \"i\""
   ]
  },
  {
   "cell_type": "markdown",
   "id": "6d218295",
   "metadata": {},
   "source": [
    "## 2.6 Tipos escalares\n",
    "\n",
    "### Tipos numéricos\n",
    "\n",
    "Os principais tipos para tratar números em Python são int e float (inteiro e real)"
   ]
  },
  {
   "cell_type": "code",
   "execution_count": null,
   "id": "7efdbc7e",
   "metadata": {},
   "outputs": [],
   "source": [
    "i1 = 8    # int\n",
    "f1 = 10e3 # float em formato cientifico\n",
    "f3 = 10.3 # float\n",
    "\n",
    "print(f1)"
   ]
  },
  {
   "cell_type": "markdown",
   "id": "454d0199",
   "metadata": {},
   "source": [
    "### Strings\n",
    "\n",
    "Muitas pessoas utilizam Python devido as suas funcionalidades para o processamento de strings. String podem ser escritas com aspas 'simples' ou aspas \"duplas\""
   ]
  },
  {
   "cell_type": "code",
   "execution_count": null,
   "id": "ccbaf533",
   "metadata": {},
   "outputs": [],
   "source": [
    "s1 = \"Uma forma de escrever uma string é esta\"\n",
    "s2 = 'Já outra forma é esta'"
   ]
  },
  {
   "cell_type": "markdown",
   "id": "420442bc",
   "metadata": {},
   "source": [
    "String que ocupam mais de uma linha podem ser escritas envoltas em aspas '''triplas'''"
   ]
  },
  {
   "cell_type": "code",
   "execution_count": null,
   "id": "3dd6185a",
   "metadata": {},
   "outputs": [],
   "source": [
    "s_gigante = '''Esta\n",
    "                é uma string\n",
    "                que ocupa 3 linhas inteiras!'''\n",
    "print(s_gigante)"
   ]
  },
  {
   "cell_type": "markdown",
   "id": "b7fbf36e",
   "metadata": {},
   "source": [
    "Podemos converter objetos em strings com a função str()"
   ]
  },
  {
   "cell_type": "code",
   "execution_count": null,
   "id": "63864211",
   "metadata": {},
   "outputs": [],
   "source": [
    "n1 = 5\n",
    "print(type(n1))\n",
    "s_n1 = str(n1)\n",
    "print(type(s_n1))"
   ]
  },
  {
   "cell_type": "markdown",
   "id": "85c6b5bb",
   "metadata": {},
   "source": [
    "As strings são sequências de caracteres, de forma que podemos trata-las como outras sequências (listas e tuplas)"
   ]
  },
  {
   "cell_type": "code",
   "execution_count": null,
   "id": "bff5b811",
   "metadata": {},
   "outputs": [],
   "source": [
    "print(s_gigante[2])\n",
    "print(s_gigante[2:50]) # imprime a string da posição 2 até a 50 (isso se chama fatiamento)\n"
   ]
  },
  {
   "cell_type": "code",
   "execution_count": null,
   "id": "4ee0d5f1",
   "metadata": {},
   "outputs": [],
   "source": [
    "Somar duas strings faz com que elas sejam concatenadas e uma nova string é gerada."
   ]
  },
  {
   "cell_type": "code",
   "execution_count": null,
   "id": "65e6a21f",
   "metadata": {},
   "outputs": [],
   "source": [
    "s1 = \"Ola, meu\"\n",
    "s2 = \" nome é Baltazar!\"\n",
    "s3 = s1 + s2\n",
    "print(s1 + s2)"
   ]
  },
  {
   "cell_type": "markdown",
   "id": "cc896d80",
   "metadata": {},
   "source": [
    "A formatação de strings é muito importante, e existem diversas formas de se fazer a formatação."
   ]
  },
  {
   "cell_type": "code",
   "execution_count": null,
   "id": "2ed16042",
   "metadata": {},
   "outputs": [],
   "source": [
    "s1 = \"Imprima o número {:e} como científico e o número {} normal\".format(10,20)\n",
    "print(s1)"
   ]
  },
  {
   "cell_type": "markdown",
   "id": "5f50757c",
   "metadata": {},
   "source": [
    "### Datas e horas\n",
    "\n",
    "O módulo embutido datetime de Python disponibiliza os tipos **datetime**, **date** e **time**. O tipo datetime combina os tipos date e time."
   ]
  },
  {
   "cell_type": "code",
   "execution_count": null,
   "id": "476a963f",
   "metadata": {},
   "outputs": [],
   "source": [
    "from datetime import datetime, date, time\n",
    "\n",
    "# Criando um objeto do tipo datetime\n",
    "dt = datetime(2011, 10, 29, 10, 25, 50)\n",
    "\n",
    "# Acessando o dia, hora e minutos\n",
    "print(\"dia : \",dt.day)\n",
    "print(\"hora : \",dt.hour)\n",
    "print(\"minuto : \",dt.minute)"
   ]
  },
  {
   "cell_type": "markdown",
   "id": "d7a5ff53",
   "metadata": {},
   "source": [
    "Podemos formatar o datetime como uma string com o método **strptime**"
   ]
  },
  {
   "cell_type": "code",
   "execution_count": null,
   "id": "78c42db4",
   "metadata": {},
   "outputs": [],
   "source": [
    "# o %d/%m/%Y dita o formato d:dia m:mes Y: ano, com barras invertidas\n",
    "print(dt.strftime(\"%d/%m/%Y\"))\n",
    "\n",
    "# Formatando com um ponto, sem o ano\n",
    "print(dt.strftime(\"%d.%m\"))"
   ]
  },
  {
   "cell_type": "markdown",
   "id": "d83f44ae",
   "metadata": {},
   "source": [
    "A tabela abaixo especifica todos as formatações de datas\n",
    "\n",
    "<table class=\"docutils align-default\">\n",
    "<colgroup>\n",
    "<col style=\"width: 15%\">\n",
    "<col style=\"width: 43%\">\n",
    "<col style=\"width: 32%\">\n",
    "<col style=\"width: 9%\">\n",
    "</colgroup>\n",
    "<thead>\n",
    "<tr class=\"row-odd\"><th class=\"head\"><p>Diretiva</p></th>\n",
    "<th class=\"head\"><p>Significado</p></th>\n",
    "<th class=\"head\"><p>Exemplo</p></th>\n",
    "<th class=\"head\"><p>Notas</p></th>\n",
    "</tr>\n",
    "</thead>\n",
    "<tbody>\n",
    "<tr class=\"row-even\"><td><p><code class=\"docutils literal notranslate\"><span class=\"pre\">%a</span></code></p></td>\n",
    "<td><p>Dias da semana como nomes abreviados da localidade.</p></td>\n",
    "<td><div class=\"line-block\">\n",
    "<div class=\"line\">Sun, Mon, …, Sat\n",
    "(en_US);</div>\n",
    "<div class=\"line\">So, Mo, …, Sa\n",
    "(de_DE)</div>\n",
    "</div>\n",
    "</td>\n",
    "<td><p>(1)</p></td>\n",
    "</tr>\n",
    "<tr class=\"row-odd\"><td><p><code class=\"docutils literal notranslate\"><span class=\"pre\">%A</span></code></p></td>\n",
    "<td><p>Dia da semana como nome completo da localidade.</p></td>\n",
    "<td><div class=\"line-block\">\n",
    "<div class=\"line\">Sunday, Monday, …,\n",
    "Saturday (en_US);</div>\n",
    "<div class=\"line\">Sonntag, Montag, …,\n",
    "Samstag (de_DE)</div>\n",
    "</div>\n",
    "</td>\n",
    "<td><p>(1)</p></td>\n",
    "</tr>\n",
    "<tr class=\"row-even\"><td><p><code class=\"docutils literal notranslate\"><span class=\"pre\">%w</span></code></p></td>\n",
    "<td><p>Dia da semana como um número decimal, onde 0 é domingo e 6 é sábado.</p></td>\n",
    "<td><p>0, 1, …, 6</p></td>\n",
    "<td></td>\n",
    "</tr>\n",
    "<tr class=\"row-odd\"><td><p><code class=\"docutils literal notranslate\"><span class=\"pre\">%d</span></code></p></td>\n",
    "<td><p>Dia do mês como um número decimal com zeros a esquerda.</p></td>\n",
    "<td><p>01, 02, …, 31</p></td>\n",
    "<td><p>(9)</p></td>\n",
    "</tr>\n",
    "<tr class=\"row-even\"><td><p><code class=\"docutils literal notranslate\"><span class=\"pre\">%b</span></code></p></td>\n",
    "<td><p>Mês como nome da localidade abreviado.</p></td>\n",
    "<td><div class=\"line-block\">\n",
    "<div class=\"line\">Jan, Feb, …, Dec\n",
    "(en_US);</div>\n",
    "<div class=\"line\">Jan, Feb, …, Dez\n",
    "(de_DE)</div>\n",
    "</div>\n",
    "</td>\n",
    "<td><p>(1)</p></td>\n",
    "</tr>\n",
    "<tr class=\"row-odd\"><td><p><code class=\"docutils literal notranslate\"><span class=\"pre\">%B</span></code></p></td>\n",
    "<td><p>Mês como nome completo da localidade.</p></td>\n",
    "<td><div class=\"line-block\">\n",
    "<div class=\"line\">January, February,\n",
    "…, December (en_US);</div>\n",
    "<div class=\"line\">janeiro, fevereiro, …, dezembro (pt_BR)</div>\n",
    "</div>\n",
    "</td>\n",
    "<td><p>(1)</p></td>\n",
    "</tr>\n",
    "<tr class=\"row-even\"><td><p><code class=\"docutils literal notranslate\"><span class=\"pre\">%m</span></code></p></td>\n",
    "<td><p>Mês como um número decimal com zeros a esquerda.</p></td>\n",
    "<td><p>01, 02, …, 12</p></td>\n",
    "<td><p>(9)</p></td>\n",
    "</tr>\n",
    "<tr class=\"row-odd\"><td><p><code class=\"docutils literal notranslate\"><span class=\"pre\">%y</span></code></p></td>\n",
    "<td><p>Ano sem século como um número decimal com zeros a esquerda.</p></td>\n",
    "<td><p>00, 01, …, 99</p></td>\n",
    "<td><p>(9)</p></td>\n",
    "</tr>\n",
    "<tr class=\"row-even\"><td><p><code class=\"docutils literal notranslate\"><span class=\"pre\">%Y</span></code></p></td>\n",
    "<td><p>Ano com século como um número decimal.</p></td>\n",
    "<td><p>0001, 0002, …, 2013,\n",
    "2014, …, 9998, 9999</p></td>\n",
    "<td><p>(2)</p></td>\n",
    "</tr>\n",
    "<tr class=\"row-odd\"><td><p><code class=\"docutils literal notranslate\"><span class=\"pre\">%H</span></code></p></td>\n",
    "<td><p>Hora (relógio de 24 horas) como um número decimal com zeros a esquerda.</p></td>\n",
    "<td><p>00, 01, …, 23</p></td>\n",
    "<td><p>(9)</p></td>\n",
    "</tr>\n",
    "<tr class=\"row-even\"><td><p><code class=\"docutils literal notranslate\"><span class=\"pre\">%I</span></code></p></td>\n",
    "<td><p>Hora (relógio de 12 horas) como um número decimal com zeros a esquerda.</p></td>\n",
    "<td><p>01, 02, …, 12</p></td>\n",
    "<td><p>(9)</p></td>\n",
    "</tr>\n",
    "<tr class=\"row-odd\"><td><p><code class=\"docutils literal notranslate\"><span class=\"pre\">%p</span></code></p></td>\n",
    "<td><p>Equivalente da localidade a AM ou PM.</p></td>\n",
    "<td><div class=\"line-block\">\n",
    "<div class=\"line\">AM, PM (en_US);</div>\n",
    "<div class=\"line\">am, pm (de_DE)</div>\n",
    "</div>\n",
    "</td>\n",
    "<td><p>(1),\n",
    "(3)</p></td>\n",
    "</tr>\n",
    "<tr class=\"row-even\"><td><p><code class=\"docutils literal notranslate\"><span class=\"pre\">%M</span></code></p></td>\n",
    "<td><p>Minutos como um número decimal, com zeros a esquerda.</p></td>\n",
    "<td><p>00, 01, …, 59</p></td>\n",
    "<td><p>(9)</p></td>\n",
    "</tr>\n",
    "<tr class=\"row-odd\"><td><p><code class=\"docutils literal notranslate\"><span class=\"pre\">%S</span></code></p></td>\n",
    "<td><p>Segundos como um número decimal, com zeros a esquerda.</p></td>\n",
    "<td><p>00, 01, …, 59</p></td>\n",
    "<td><p>(4),\n",
    "(9)</p></td>\n",
    "</tr>\n",
    "<tr class=\"row-even\"><td><p><code class=\"docutils literal notranslate\"><span class=\"pre\">%f</span></code></p></td>\n",
    "<td><p>Microsecond as a decimal\n",
    "number, zero-padded to 6\n",
    "digits.</p></td>\n",
    "<td><p>000000, 000001, …,\n",
    "999999</p></td>\n",
    "<td><p>(5)</p></td>\n",
    "</tr>\n",
    "<tr class=\"row-odd\"><td><p><code class=\"docutils literal notranslate\"><span class=\"pre\">%z</span></code></p></td>\n",
    "<td><p>Diferença UTC no formato <code class=\"docutils literal notranslate\"><span class=\"pre\">±HHMM[SS[.ffffff]]</span></code> (string vazia se o objeto é ingênuo).</p></td>\n",
    "<td><p>(vazio), +0000, -0400, +1030, +063415, -030712.345216</p></td>\n",
    "<td><p>(6)</p></td>\n",
    "</tr>\n",
    "<tr class=\"row-even\"><td><p><code class=\"docutils literal notranslate\"><span class=\"pre\">%Z</span></code></p></td>\n",
    "<td><p>Nome do fuso horário (string vazia se o objeto é ingênuo).</p></td>\n",
    "<td><p>(vazio), UTC, GMT</p></td>\n",
    "<td><p>(6)</p></td>\n",
    "</tr>\n",
    "<tr class=\"row-odd\"><td><p><code class=\"docutils literal notranslate\"><span class=\"pre\">%j</span></code></p></td>\n",
    "<td><p>Dia do ano como um número decimal, com zeros a esquerda.</p></td>\n",
    "<td><p>001, 002, …, 366</p></td>\n",
    "<td><p>(9)</p></td>\n",
    "</tr>\n",
    "<tr class=\"row-even\"><td><p><code class=\"docutils literal notranslate\"><span class=\"pre\">%U</span></code></p></td>\n",
    "<td><p>Week number of the year\n",
    "(Sunday as the first day of\n",
    "the week) as a zero-padded\n",
    "decimal number. All days in a\n",
    "new year preceding the first\n",
    "Sunday are considered to be in\n",
    "week 0.</p></td>\n",
    "<td><p>00, 01, …, 53</p></td>\n",
    "<td><p>(7),\n",
    "(9)</p></td>\n",
    "</tr>\n",
    "<tr class=\"row-odd\"><td><p><code class=\"docutils literal notranslate\"><span class=\"pre\">%W</span></code></p></td>\n",
    "<td><p>Week number of the year\n",
    "(Monday as the first day of\n",
    "the week) as a zero-padded\n",
    "decimal number. All days in a\n",
    "new year preceding the first\n",
    "Monday are considered to be in\n",
    "week 0.</p></td>\n",
    "<td><p>00, 01, …, 53</p></td>\n",
    "<td><p>(7),\n",
    "(9)</p></td>\n",
    "</tr>\n",
    "<tr class=\"row-even\"><td><p><code class=\"docutils literal notranslate\"><span class=\"pre\">%c</span></code></p></td>\n",
    "<td><p>Representação de data e hora apropriada da localidade.</p></td>\n",
    "<td><div class=\"line-block\">\n",
    "<div class=\"line\">Tue Aug 16 21:30:00\n",
    "1988 (en_US);</div>\n",
    "<div class=\"line\">Di 16 Aug 21:30:00\n",
    "1988 (de_DE)</div>\n",
    "</div>\n",
    "</td>\n",
    "<td><p>(1)</p></td>\n",
    "</tr>\n",
    "<tr class=\"row-odd\"><td><p><code class=\"docutils literal notranslate\"><span class=\"pre\">%x</span></code></p></td>\n",
    "<td><p>Representação de data apropriada de localidade.</p></td>\n",
    "<td><div class=\"line-block\">\n",
    "<div class=\"line\">08/16/88 (None);</div>\n",
    "<div class=\"line\">08/16/1988 (en_US);</div>\n",
    "<div class=\"line\">16.08.1988 (de_DE)</div>\n",
    "</div>\n",
    "</td>\n",
    "<td><p>(1)</p></td>\n",
    "</tr>\n",
    "<tr class=\"row-even\"><td><p><code class=\"docutils literal notranslate\"><span class=\"pre\">%X</span></code></p></td>\n",
    "<td><p>Representação de hora apropriada da localidade.</p></td>\n",
    "<td><div class=\"line-block\">\n",
    "<div class=\"line\">21:30:00 (en_US);</div>\n",
    "<div class=\"line\">21:30:00 (de_DE)</div>\n",
    "</div>\n",
    "</td>\n",
    "<td><p>(1)</p></td>\n",
    "</tr>\n",
    "<tr class=\"row-odd\"><td><p><code class=\"docutils literal notranslate\"><span class=\"pre\">%%</span></code></p></td>\n",
    "<td><p>Um caractere literal <code class=\"docutils literal notranslate\"><span class=\"pre\">'%'</span></code>.</p></td>\n",
    "<td><p>%</p></td>\n",
    "<td></td>\n",
    "</tr>\n",
    "</tbody>\n",
    "</table>"
   ]
  },
  {
   "cell_type": "code",
   "execution_count": null,
   "id": "df639707",
   "metadata": {},
   "outputs": [],
   "source": [
    "print(\"O dia da semana da data \", dt.strftime(\"%d/%m/%Y\"), \" é \", dt.strftime(\"%a\"))"
   ]
  },
  {
   "cell_type": "markdown",
   "id": "8a2b74f6",
   "metadata": {},
   "source": [
    "Também é possível converter uma string em um **datetime** com o método **strptime**. O primeiro argumento é a string com a data e o segundo o formato em que a data se encontra."
   ]
  },
  {
   "cell_type": "code",
   "execution_count": null,
   "id": "776903d8",
   "metadata": {},
   "outputs": [],
   "source": [
    "string_tempo1 = \"12/06/2022\"\n",
    "dt2 = datetime.strptime(string_tempo1, \"%d/%m/%Y\")\n",
    "print(dt2.day, dt2.year)\n",
    "\n",
    "string_tempo2 = \"12-06-2022\"\n",
    "dt3 = datetime.strptime(string_tempo2, \"%d-%m-%Y\")\n",
    "print(dt3.day, dt3.year)"
   ]
  },
  {
   "cell_type": "markdown",
   "id": "90dbd56a",
   "metadata": {},
   "source": [
    "Podemos realizar operações entre os objetos datetime, sempre gerando um novo objeto. Considere a subtração de duas datas gerando um objeto do tipo **timedelta** (https://www.geeksforgeeks.org/python-datetime-timedelta-function/):"
   ]
  },
  {
   "cell_type": "code",
   "execution_count": null,
   "id": "8cf0b3f0",
   "metadata": {},
   "outputs": [],
   "source": [
    "data1    = \"10/01/2022 08:20\"\n",
    "data2    = \"10/01/2022 10:00\"\n",
    "\n",
    "dt_data1 = datetime.strptime(data1,\"%d/%m/%Y %H:%M\")\n",
    "dt_data2 = datetime.strptime(data2,\"%d/%m/%Y %H:%M\")\n",
    "\n",
    "delta_dt1_dt2 = dt_data2 - dt_data1\n",
    "print(\"O tempo entre as duas datas é de : \", delta_dt1_dt2)\n",
    "print(\"Ou ... {0:.2f} horas\".format(delta_dt1_dt2.seconds/3600))\n"
   ]
  },
  {
   "cell_type": "markdown",
   "id": "6e03cdca",
   "metadata": {},
   "source": [
    "### Booleanos\n",
    "\n",
    "Os dois valores booleanos em Python são escritos como **True** e **False**. Comparações são avaliadas como **True** ou **False**. Valores booleanos são combinados com as palavras reservadas **and** e **or**"
   ]
  },
  {
   "cell_type": "code",
   "execution_count": null,
   "id": "a9af8966",
   "metadata": {},
   "outputs": [],
   "source": [
    "True and True"
   ]
  },
  {
   "cell_type": "code",
   "execution_count": null,
   "id": "115a64c4",
   "metadata": {},
   "outputs": [],
   "source": [
    "False or True"
   ]
  },
  {
   "cell_type": "markdown",
   "id": "4e76f9fd",
   "metadata": {},
   "source": [
    "### Casting de tipos\n",
    "\n",
    "Os tipos str, int e float também são funções que podem ser usadas para cast de valores (ou seja, transformar um tipo em outro). Por exemplo, quando lêmos um valor do usuário pelo método **input()** o valor é lido como uma string. Se tentarmos realizar operações numéricas um erro ocorrerá:"
   ]
  },
  {
   "cell_type": "code",
   "execution_count": null,
   "id": "7a421193",
   "metadata": {},
   "outputs": [],
   "source": [
    "s_numero = input(\"Digite um número:\")\n",
    "print(s_numero + 10)"
   ]
  },
  {
   "cell_type": "markdown",
   "id": "a8ec9dab",
   "metadata": {},
   "source": [
    "Podemos então ler o valor e fazer o **cast** para um tipo inteiro:"
   ]
  },
  {
   "cell_type": "code",
   "execution_count": null,
   "id": "c75ed81b",
   "metadata": {},
   "outputs": [],
   "source": [
    "# Transformando a string em inteiro, e só depois realizando uma operação na mesma\n",
    "s_numero = int(input(\"Digite um número:\"))\n",
    "print(s_numero + 10)"
   ]
  },
  {
   "cell_type": "markdown",
   "id": "03f0275c",
   "metadata": {},
   "source": [
    "## 2.7 Controle de fluxo (if, elif e else)\n",
    "\n",
    "A instrução **if** é um dos tipos de controle mais conhecidos. Ele verifica uma condição que, se for **True**, fará o bloco que vem a seguir ser avaliado.\n",
    "\n",
    "**OBSERVAÇÃO IMPORTANTE:** Bloco de instrução é o conjunto das instruções que estejam num mesmo nível de indentação, mesmo nível hierárquico. No Pyhton os blocos são diferenciados APENAS por dois pontos (:) e pela indentação, ou seja, pelos \"recuos\" nas linhas. Diferetemente de C++, R ou mesmo JavasCript, que os blocos são delimitados por chaves!"
   ]
  },
  {
   "cell_type": "code",
   "execution_count": null,
   "id": "2b0f2b82",
   "metadata": {},
   "outputs": [],
   "source": [
    "x = 10\n",
    "if x < 15:\n",
    "    print(\"X é maior do que 15\")"
   ]
  },
  {
   "cell_type": "markdown",
   "id": "c0f860e6",
   "metadata": {},
   "source": [
    "Podemos ainda encadear um if em seguida de outro:"
   ]
  },
  {
   "cell_type": "code",
   "execution_count": null,
   "id": "c3cc20f7",
   "metadata": {},
   "outputs": [],
   "source": [
    "x = int(input(\"Digite um número inteiro :\"))\n",
    "if  x < 10:\n",
    "    print(\"O número é < 10\")\n",
    "elif x < 20:\n",
    "    print(\"O número está entre [10,19]\")\n",
    "else:\n",
    "    print(\"O número é >= 20\")"
   ]
  },
  {
   "cell_type": "markdown",
   "id": "c9ba6127",
   "metadata": {},
   "source": [
    "**ifs** aninhados devem manter a hierarquia da indentações:"
   ]
  },
  {
   "cell_type": "code",
   "execution_count": null,
   "id": "368053fa",
   "metadata": {},
   "outputs": [],
   "source": [
    "a = 21\n",
    "b = 20\n",
    "c = True\n",
    "\n",
    "if (a + b) > 30:\n",
    "    if a > b:\n",
    "        print(\"a + b são maiores do que 30, e a > b\")\n",
    "    else:\n",
    "        print(\"a + b são maiores do que 30, e a < b\")\n",
    "else:\n",
    "    if a > b:\n",
    "        print(\"a + b são menores do que 30, e a > b\")\n",
    "    else:\n",
    "        print(\"a + b são menores do que 30, e a < b\")"
   ]
  },
  {
   "cell_type": "markdown",
   "id": "120952f1",
   "metadata": {},
   "source": [
    "## 2.8 Laços de repetição\n",
    "Os laços de repetição executam um bloco de ações até que uma condição seja satisfeita.\n",
    "### Laços for\n",
    "\n",
    "O laço **for** serve para iterar em uma coleção (como uma lista ou uma tupla)"
   ]
  },
  {
   "cell_type": "code",
   "execution_count": null,
   "id": "d1181f90",
   "metadata": {},
   "outputs": [],
   "source": [
    "lista = [1,2,\"string\",True,0.85]\n",
    "\n",
    "# Usando for para iterar sobre os elementos da lista\n",
    "for e in lista:\n",
    "    print(e)"
   ]
  },
  {
   "cell_type": "markdown",
   "id": "895a51a0",
   "metadata": {},
   "source": [
    "Podemos parar a execução de um laço for com a palavra **break**"
   ]
  },
  {
   "cell_type": "code",
   "execution_count": null,
   "id": "5c524107",
   "metadata": {},
   "outputs": [],
   "source": [
    "# Para a impressão dos elementos da lista caso algum elemento seja == 0.85\n",
    "for e in lista:\n",
    "    if e == 0.85:\n",
    "        break\n",
    "    else:\n",
    "        print(e)"
   ]
  },
  {
   "cell_type": "markdown",
   "id": "d46d8683",
   "metadata": {},
   "source": [
    "Podemos iterar a lista pelos indices. Usamos a função **range()**. Esta função cria um interador que produz uma sequência de inteiros uniformemente espaçados. Podemos passar o inicio e o fim-1 dos números gerados, ou somente o fim-1, e o range gera a partir do 0."
   ]
  },
  {
   "cell_type": "code",
   "execution_count": null,
   "id": "ef91c4ff",
   "metadata": {},
   "outputs": [],
   "source": [
    "\n",
    "for i in range(0,10):\n",
    "    print(i)"
   ]
  },
  {
   "cell_type": "code",
   "execution_count": null,
   "id": "fb618006",
   "metadata": {},
   "outputs": [],
   "source": [
    "for i in range(3,10):\n",
    "    print(i)"
   ]
  },
  {
   "cell_type": "markdown",
   "id": "6f74c999",
   "metadata": {},
   "source": [
    "Dessa forma, usamos a função **len()** que determina o tamanho de um objeto, junto a função range para iterarmos em uma lista:"
   ]
  },
  {
   "cell_type": "code",
   "execution_count": null,
   "id": "33030fd3",
   "metadata": {},
   "outputs": [],
   "source": [
    "print(\"A lista contém {} elementos, são eles: \".format(len(lista)))\n",
    "for i in range(len(lista)):\n",
    "    print(lista[i])"
   ]
  },
  {
   "cell_type": "markdown",
   "id": "9dc18ee6",
   "metadata": {},
   "source": [
    "### Laços while\n",
    "Um laço **while** especifica uma condição e um bloco de código que deverá ser executado até a condição ser avaliada como False, ou o laço seja explicitamente encerrado com o **break**."
   ]
  },
  {
   "cell_type": "code",
   "execution_count": null,
   "id": "1176397f",
   "metadata": {},
   "outputs": [],
   "source": [
    "num = 10\n",
    "while num < 30:\n",
    "    num = num + 3\n",
    "    print(num)"
   ]
  },
  {
   "cell_type": "markdown",
   "id": "dc701c45",
   "metadata": {},
   "source": [
    "O laço abaixo pede um input do usuário até que a letra \"a\" seja digitada, caso contrário o laço não para:"
   ]
  },
  {
   "cell_type": "code",
   "execution_count": null,
   "id": "fec18f43",
   "metadata": {},
   "outputs": [],
   "source": [
    "parada = \"\"\n",
    "while parada != \"a\":\n",
    "    parada = input(\"Digite a letra mágica, que eu paro de aparecer...:\")"
   ]
  },
  {
   "cell_type": "markdown",
   "id": "51f47442",
   "metadata": {},
   "source": [
    "<div style=\"background-color:gray\">\n",
    "    <h1 style = \"text-align:center; color:white\"> Exercícios </h1>\n",
    "</div>\n",
    "\n",
    "<p style = \"text-align: justify;\">\n",
    "    <ol style = \"text-align: justify;\">\n",
    "        <li> Crie uma lista com os elementos [10,20,30,1,-1,50,800,500,-600] e imprima as seguintes informações, formatadas em uma frase. DICA: Procure os métodos das listas. OBS: As operações devem ser feitas automaticamente na lista, ou seja, se uma nova lista for passada as operações devem continuar válidas.</li>\n",
    "            <ol style = \"text-align: justify;\">\n",
    "                <li> Número de elementos da lista</li>\n",
    "                <li> Maior e menor elementos da lista </li>\n",
    "                <li> Imprima a lista em ordem crescente</li>\n",
    "                <li> Imprima a lista em ordem decrescente</li>\n",
    "            </ol>\n",
    "        <li> Considerando a seguinte sentença atribuida a Sêneca: \"Se vives de acordo com as leis da natureza, nunca serás pobre; se vives de acordo com as opiniões alheias, nunca serás rico.\" Salve a sentença em uma variável e realize as seguintes operações:</li>\n",
    "              <ol style = \"text-align: justify;\">\n",
    "                <li> Receba uma palavra do usuário e imprima quantas vezes a palavra aparece na frase.</li>\n",
    "                    <li> Receba duas palavras do usuário (p1 e p2) e imprima a frase substituindo todas as vezes que p1 ocorre por p2.</li>\n",
    "            </ol>\n",
    "        <li> Escreva um código que leia duas datas de nascimento de duas pessoas fornecidas pela usuário e realize as seguintes operações:</li>\n",
    "              <ol style = \"text-align: justify;\">\n",
    "                <li> Imprima quantos anos de vida cada pessoa têm.</li>\n",
    "                <li> Imprima qual é a pessoa mais velha.</li>\n",
    "                <li> Imprima a diferença, em anos, das duas pessoas.</li>\n",
    "            </ol>\n",
    "        <li> Um mercado vende 2 tipos de maças, M1 e M2, se o cliente comprar menos de 6\n",
    "maças do tipo M1 o custo unitário/maça é de R$ 0.50, caso compre 6 ou mais o custo unitário passa\n",
    "a ser de R\\$ 0.30. A mesma coisa acontece com as maças do tipo M2, porém abaixo de 10 unidades o preço é de R\\$ 0.40 e a partir de 10 passa a ser de R\\$ 0.20. OBS: Considere que uma pessoa só possa\n",
    "comprar maças de um dos dois tipos. Escreva um algoritmo que leia o tipo de maça e a quantidade a ser comprada pelo usuário, e determine o custo total da compra</li>\n",
    "        <li> Escreva um algoritmo que realize a soma do 400 primeiros números inteiros pares (incluindo 400).</li>\n",
    "        <li> Considere a seguinte lista com as notas dos alunos do curso de Introdução à Mineração de Dados: N = [0.5,1.8,10,5.9,7.8,9.5,10,2.5,3,6.9,8,2.5,5.9,10,9.8,7]. Salve as notas em uma lista e calcule as seguintes estatísticas:</li>\n",
    "              <ol style = \"text-align: justify;\">\n",
    "                <li> Maior nota.</li>\n",
    "                <li> Menor nota.</li>\n",
    "                <li> Média da turma.</li>\n",
    "                <li> Para que a turma seja considerada 'boa', a média deve ser > 7. Imprima se a turma é 'boa' ou não.</li>\n",
    "                <li> Calcule o número de alunos que tiraram notas acima e abaixo da média (7).</li>\n",
    "            </ol>\n",
    "        <li> Escreva um algoritmo que leia números informados pelo usuário, e a cada número lido imprima a soma de todos os números digitados até momento, bem como o maior valor. O algoritmo deve parar a sua execução quando o usuário digitar um número negativo.</li>\n",
    "    </ol>\n",
    "</p>. "
   ]
  }
 ],
 "metadata": {
  "kernelspec": {
   "display_name": "Python 3 (ipykernel)",
   "language": "python",
   "name": "python3"
  },
  "language_info": {
   "codemirror_mode": {
    "name": "ipython",
    "version": 3
   },
   "file_extension": ".py",
   "mimetype": "text/x-python",
   "name": "python",
   "nbconvert_exporter": "python",
   "pygments_lexer": "ipython3",
   "version": "3.10.4"
  }
 },
 "nbformat": 4,
 "nbformat_minor": 5
}
