{
 "cells": [
  {
   "cell_type": "markdown",
   "id": "2192d0cb",
   "metadata": {},
   "source": [
    "# Aula 2 - Conceitos básicos Python\n",
    "\n",
    "![](img/python.svg)\n",
    "\n",
    "Neste capítulo veremos o básico da sintaxe de Python, para começarmos a criar a programas."
   ]
  },
  {
   "cell_type": "markdown",
   "id": "1877a303",
   "metadata": {},
   "source": [
    "## 2.1 Variáveis\n",
    "\n",
    "Python é uma linguagem de programação dinâmica, o que signica que não é necessário definir o tipo das variáveis, basta fazer a atribuição que o interpretador faz a inferencia: Abaixo 3 declarações de variáveis, uma *string*, um numero real (*double*) e uma lista (*list*), todos são declarados da mesma forma."
   ]
  },
  {
   "cell_type": "code",
   "execution_count": 1,
   "id": "e1869d3a",
   "metadata": {},
   "outputs": [],
   "source": [
    "v1 = \"Sou uma string\"\n",
    "v2 = 10.8\n",
    "v3 = [1,2,3]"
   ]
  },
  {
   "cell_type": "code",
   "execution_count": 2,
   "id": "eaed77fa",
   "metadata": {},
   "outputs": [
    {
     "name": "stdout",
     "output_type": "stream",
     "text": [
      "[1, 2, 3]\n"
     ]
    }
   ],
   "source": [
    "print(v3)"
   ]
  },
  {
   "cell_type": "markdown",
   "id": "c7583806",
   "metadata": {},
   "source": [
    "## 2.2 Objetos\n",
    "\n",
    "Tudo em Python são objetos! Todo número, string, estrutura de dados, função, classe, módulo e assim por diante, existe no interpretador Python em sua própria \"caixa\", que é referenciada como um objeto Python. Os objetos possuem atributos e métodos internos que podem ser usadas. Para acessar, usamos o 'ponto' e o nome dos atributo ou método.\n",
    "\n",
    "**OBS: Comentários em Python são escritos com o sustenido(#). Tudo escrito após essa marcação será ignorado pelo interpretador Python**"
   ]
  },
  {
   "cell_type": "code",
   "execution_count": 3,
   "id": "b3f8dd36",
   "metadata": {},
   "outputs": [
    {
     "name": "stdout",
     "output_type": "stream",
     "text": [
      "1\n"
     ]
    }
   ],
   "source": [
    "# Função da string que conta quantas vezes a letra aparece\n",
    "print(v1.count('s'))\n"
   ]
  },
  {
   "cell_type": "markdown",
   "id": "20579a1f",
   "metadata": {},
   "source": [
    "Quando fazemos uma atribuição a uma variável em Python, estamos criando referência ao objeto do lado direito do sinal de igualdade, ou seja, criamos uma cópia do objeto."
   ]
  },
  {
   "cell_type": "code",
   "execution_count": 4,
   "id": "1f043e0b",
   "metadata": {},
   "outputs": [
    {
     "name": "stdout",
     "output_type": "stream",
     "text": [
      "[1, 2, 3]\n",
      "[1, 2, 3, 4]\n"
     ]
    }
   ],
   "source": [
    "print(v3)\n",
    "v4 = v3\n",
    "v4.append(4)\n",
    "# Alterando V4 altera v3\n",
    "print(v3)"
   ]
  },
  {
   "cell_type": "markdown",
   "id": "731f8ed8-7315-40db-8e8c-81816162522f",
   "metadata": {},
   "source": [
    "<div style=\"color:red;\">\n",
    "    ATENÇÃO: Isso não ocorre com todos os tipos de dados e estruturas em Python, em caso de dúvidas é sempre bom realizar um teste.\n",
    "</div>\n",
    "\n",
    "Por exemplo, vamos ver como o \"inteiro\" se comporta no mesmo teste:"
   ]
  },
  {
   "cell_type": "code",
   "execution_count": 5,
   "id": "a53aa14f-4d60-468c-bb54-dcc78b5d3a8d",
   "metadata": {},
   "outputs": [
    {
     "name": "stdout",
     "output_type": "stream",
     "text": [
      "10\n"
     ]
    }
   ],
   "source": [
    "inteiro1 = 10\n",
    "inteiro2 = inteiro1\n",
    "inteiro2 = 20\n",
    "print(inteiro1)"
   ]
  },
  {
   "cell_type": "markdown",
   "id": "7ded7893-71ad-4ac2-ba07-d79a5415225c",
   "metadata": {},
   "source": [
    "Note que quando alteramos inteiro2 ele não alterou inteiro1, como no caso das listas. Esses dosi tipos de cópia de objetos são chamadas de cópia **deep*\" e \"*shallow*\". Uma cópia do tipo |*deep* implica que os dois objetos são semelhantes, portanto alterando um o outro também se altera. Já a cópia *shallow* (rasa) simplemente cria um novo objeto com os dados do copiado. Podemos forçar esses dois tipos de copia, usando os métodos `.copy(objeto_copiado)` para *shallow* e `.deep_copy(objeto_copiado)` para profunda, ambos presente no pacote `copy`. Para mais detalhes: https://docs.python.org/3/library/copy.html, https://stackoverflow.com/questions/5902941/python-create-new-object-with-the-same-value"
   ]
  },
  {
   "cell_type": "markdown",
   "id": "c3105c7a",
   "metadata": {},
   "source": [
    "## 2.3 Referências dinâmicas, tipos fortes\n",
    "\n",
    "Referências a objetos não possuem nenhum tipo associado à elas (podemos \"perguntar\" a um objeto `x` qual é o seu tipo básico, usando o método `type(objeto)`)."
   ]
  },
  {
   "cell_type": "code",
   "execution_count": 6,
   "id": "95c3936b",
   "metadata": {},
   "outputs": [
    {
     "name": "stdout",
     "output_type": "stream",
     "text": [
      "Eu era uma lista, agora sou uma string!\n",
      "<class 'str'>\n"
     ]
    }
   ],
   "source": [
    "v3 = \"Eu era uma lista, agora sou uma string!\"\n",
    "print(v3)\n",
    "\n",
    "# A informação sobre o tipo é armazenada no próprio objeto\n",
    "print(type(v3))"
   ]
  },
  {
   "cell_type": "markdown",
   "id": "c7025217",
   "metadata": {},
   "source": [
    "Porém Python ainda é uma linguagem tipada (conversões automáticas não ocorrerão)"
   ]
  },
  {
   "cell_type": "code",
   "execution_count": 7,
   "id": "3f51117f",
   "metadata": {},
   "outputs": [
    {
     "ename": "TypeError",
     "evalue": "unsupported operand type(s) for +: 'int' and 'str'",
     "output_type": "error",
     "traceback": [
      "\u001b[1;31m---------------------------------------------------------------------------\u001b[0m",
      "\u001b[1;31mTypeError\u001b[0m                                 Traceback (most recent call last)",
      "Cell \u001b[1;32mIn[7], line 3\u001b[0m\n\u001b[0;32m      1\u001b[0m a1 \u001b[38;5;241m=\u001b[39m \u001b[38;5;241m5\u001b[39m\n\u001b[0;32m      2\u001b[0m a2 \u001b[38;5;241m=\u001b[39m \u001b[38;5;124m'\u001b[39m\u001b[38;5;124m5\u001b[39m\u001b[38;5;124m'\u001b[39m\n\u001b[1;32m----> 3\u001b[0m \u001b[38;5;28mprint\u001b[39m(\u001b[43ma1\u001b[49m\u001b[43m \u001b[49m\u001b[38;5;241;43m+\u001b[39;49m\u001b[43m \u001b[49m\u001b[43ma2\u001b[49m)\n\u001b[0;32m      5\u001b[0m \u001b[38;5;66;03m# Ele não faz a conversão automática de string para inteiro\u001b[39;00m\n",
      "\u001b[1;31mTypeError\u001b[0m: unsupported operand type(s) for +: 'int' and 'str'"
     ]
    }
   ],
   "source": [
    "a1 = 5\n",
    "a2 = '5'\n",
    "print(a1 + a2)\n",
    "\n",
    "# Ele não faz a conversão automática de string para inteiro"
   ]
  },
  {
   "cell_type": "markdown",
   "id": "d00c690a",
   "metadata": {},
   "source": [
    "## 2.4 Operadores binários e comparações\n",
    "\n",
    "Operadores binários são aqueles que tomam dois parâmetros como argumento para serem executados, por exemplo uma conta de adição. A maioris dos operadores binários funciona como esperado:"
   ]
  },
  {
   "cell_type": "code",
   "execution_count": 8,
   "id": "a8a5b1e8",
   "metadata": {},
   "outputs": [
    {
     "data": {
      "text/plain": [
       "-2"
      ]
     },
     "execution_count": 8,
     "metadata": {},
     "output_type": "execute_result"
    }
   ],
   "source": [
    "5 - 7"
   ]
  },
  {
   "cell_type": "code",
   "execution_count": 9,
   "id": "e7f50f3c",
   "metadata": {},
   "outputs": [
    {
     "data": {
      "text/plain": [
       "33.5"
      ]
     },
     "execution_count": 9,
     "metadata": {},
     "output_type": "execute_result"
    }
   ],
   "source": [
    "12 + 21.5"
   ]
  },
  {
   "cell_type": "code",
   "execution_count": 10,
   "id": "3d121230",
   "metadata": {},
   "outputs": [
    {
     "data": {
      "text/plain": [
       "False"
      ]
     },
     "execution_count": 10,
     "metadata": {},
     "output_type": "execute_result"
    }
   ],
   "source": [
    "5 <= 2"
   ]
  },
  {
   "cell_type": "markdown",
   "id": "01406b95",
   "metadata": {},
   "source": [
    "A tabela abaixo exemplifica os operadores em Python:\n",
    "\n",
    "| Operador | Descrição | \n",
    "|:------:|:--------:|\n",
    "| a + b  | Soma a e b    | \n",
    "| a - b  | Subtrai b de a     |\n",
    "| a * b  | Multiplica a por b     |\n",
    "| a / b  | Divide a por b      |\n",
    "| a // b  | Faz a divisão pelo piso de a por b, descartando qualquer resto fracionário   |\n",
    "| a ** b  | Eleva a a potencia de b     |\n",
    "| a and b| True se tanto a quanto b forem True; se forem inteiros é a operação bit a bit     |\n",
    "| a or b| True se ou a ou b for True     |\n",
    "| a ^ b  |  Or exclusivo, true se a ou b forem verdadeiros, porém não os dois    |\n",
    "| a == b  | True se a for igual a b     |\n",
    "| a != b  | True se a for diferente de b     |\n",
    "| a < b, a <=b  | True se a for menor (menor ou igual) a b     |\n",
    "| a > b, a >= b  | True se a for maior (maior ou igual) a b     |\n",
    "| a is b  | True se a e b referenciam o mesmo objeto     |\n",
    "| a is not b  | True se a b referenciam objetos diferentes     |\n",
    "\n"
   ]
  },
  {
   "cell_type": "markdown",
   "id": "e7aa6995",
   "metadata": {},
   "source": [
    "## 2.5 Objetos mutáveis e imutáveis\n",
    "\n",
    "A maioria dos objetos em Python é mutável, ou seja, pode ter seus valores alterados."
   ]
  },
  {
   "cell_type": "code",
   "execution_count": 11,
   "id": "db827097",
   "metadata": {},
   "outputs": [
    {
     "name": "stdout",
     "output_type": "stream",
     "text": [
      "['Elemento 1', 2, 10]\n",
      "['Elemento 1', 'Era um inteiro e agora virou uma string', 10]\n"
     ]
    }
   ],
   "source": [
    "L1 = [\"Elemento 1\", 2, 10]\n",
    "print(L1)\n",
    "L1[1] = \"Era um inteiro e agora virou uma string\"\n",
    "print(L1)"
   ]
  },
  {
   "cell_type": "markdown",
   "id": "ec5d969b",
   "metadata": {},
   "source": [
    "Outros objetos, como strings e tuplas são imutáveis."
   ]
  },
  {
   "cell_type": "code",
   "execution_count": 12,
   "id": "76c6f160",
   "metadata": {},
   "outputs": [
    {
     "name": "stdout",
     "output_type": "stream",
     "text": [
      "r\n"
     ]
    },
    {
     "ename": "TypeError",
     "evalue": "'str' object does not support item assignment",
     "output_type": "error",
     "traceback": [
      "\u001b[1;31m---------------------------------------------------------------------------\u001b[0m",
      "\u001b[1;31mTypeError\u001b[0m                                 Traceback (most recent call last)",
      "Cell \u001b[1;32mIn[12], line 3\u001b[0m\n\u001b[0;32m      1\u001b[0m s1 \u001b[38;5;241m=\u001b[39m \u001b[38;5;124m\"\u001b[39m\u001b[38;5;124mString\u001b[39m\u001b[38;5;124m\"\u001b[39m\n\u001b[0;32m      2\u001b[0m \u001b[38;5;28mprint\u001b[39m(s1[\u001b[38;5;241m2\u001b[39m])\n\u001b[1;32m----> 3\u001b[0m \u001b[43ms1\u001b[49m\u001b[43m[\u001b[49m\u001b[38;5;241;43m2\u001b[39;49m\u001b[43m]\u001b[49m \u001b[38;5;241m=\u001b[39m \u001b[38;5;124m\"\u001b[39m\u001b[38;5;124mi\u001b[39m\u001b[38;5;124m\"\u001b[39m\n",
      "\u001b[1;31mTypeError\u001b[0m: 'str' object does not support item assignment"
     ]
    }
   ],
   "source": [
    "s1 = \"String\"\n",
    "print(s1[2])\n",
    "s1[2] = \"i\""
   ]
  },
  {
   "cell_type": "markdown",
   "id": "6d218295",
   "metadata": {},
   "source": [
    "## 2.6 Tipos escalares\n",
    "\n",
    "### Tipos numéricos\n",
    "\n",
    "Os principais tipos para tratar números em Python são int e float (inteiro e real)"
   ]
  },
  {
   "cell_type": "code",
   "execution_count": 13,
   "id": "7efdbc7e",
   "metadata": {},
   "outputs": [
    {
     "name": "stdout",
     "output_type": "stream",
     "text": [
      "10000.0\n"
     ]
    }
   ],
   "source": [
    "i1 = 8    # int\n",
    "f1 = 10e3 # float em formato cientifico\n",
    "f3 = 10.3 # float\n",
    "\n",
    "print(f1)"
   ]
  },
  {
   "cell_type": "markdown",
   "id": "454d0199",
   "metadata": {},
   "source": [
    "### Strings\n",
    "\n",
    "Muitas pessoas utilizam Python devido as suas funcionalidades para o processamento de strings. String podem ser escritas com aspas 'simples' ou aspas \"duplas\""
   ]
  },
  {
   "cell_type": "code",
   "execution_count": 16,
   "id": "ccbaf533",
   "metadata": {},
   "outputs": [],
   "source": [
    "s1 = \"Uma forma de escrever uma string é esta\"\n",
    "s2 = 'Já outra forma é esta'"
   ]
  },
  {
   "cell_type": "markdown",
   "id": "420442bc",
   "metadata": {},
   "source": [
    "String que ocupam mais de uma linha podem ser escritas envoltas em aspas '''triplas'''"
   ]
  },
  {
   "cell_type": "code",
   "execution_count": 17,
   "id": "3dd6185a",
   "metadata": {},
   "outputs": [
    {
     "name": "stdout",
     "output_type": "stream",
     "text": [
      "Esta\n",
      "                é uma string\n",
      "                que ocupa 3 linhas inteiras!\n"
     ]
    }
   ],
   "source": [
    "s_gigante = '''Esta\n",
    "                é uma string\n",
    "                que ocupa 3 linhas inteiras!'''\n",
    "print(s_gigante)"
   ]
  },
  {
   "cell_type": "markdown",
   "id": "b7fbf36e",
   "metadata": {},
   "source": [
    "Podemos converter objetos em strings com a função str()"
   ]
  },
  {
   "cell_type": "code",
   "execution_count": 18,
   "id": "63864211",
   "metadata": {},
   "outputs": [
    {
     "name": "stdout",
     "output_type": "stream",
     "text": [
      "<class 'int'>\n",
      "<class 'str'>\n"
     ]
    }
   ],
   "source": [
    "n1 = 5\n",
    "print(type(n1))\n",
    "s_n1 = str(n1)\n",
    "print(type(s_n1))"
   ]
  },
  {
   "cell_type": "markdown",
   "id": "85c6b5bb",
   "metadata": {},
   "source": [
    "As strings são sequências de caracteres, de forma que podemos tratá-las como outras sequências (listas e tuplas)"
   ]
  },
  {
   "cell_type": "code",
   "execution_count": 19,
   "id": "bff5b811",
   "metadata": {},
   "outputs": [
    {
     "name": "stdout",
     "output_type": "stream",
     "text": [
      "t\n",
      "ta\n",
      "                é uma string\n",
      "                \n"
     ]
    }
   ],
   "source": [
    "print(s_gigante[2])\n",
    "print(s_gigante[2:50]) # imprime a string da posição 2 até a 50 (isso se chama fatiamento)\n"
   ]
  },
  {
   "cell_type": "markdown",
   "id": "8c672b96",
   "metadata": {},
   "source": [
    "Somar duas strings faz com que elas sejam concatenadas e uma nova string é gerada."
   ]
  },
  {
   "cell_type": "code",
   "execution_count": 20,
   "id": "65e6a21f",
   "metadata": {},
   "outputs": [
    {
     "name": "stdout",
     "output_type": "stream",
     "text": [
      "Ola, meu nome é Baltazar!\n"
     ]
    }
   ],
   "source": [
    "s1 = \"Ola, meu\"\n",
    "s2 = \" nome é Baltazar!\"\n",
    "s3 = s1 + s2\n",
    "print(s1 + s2)"
   ]
  },
  {
   "cell_type": "markdown",
   "id": "cc896d80",
   "metadata": {},
   "source": [
    "A formatação de strings é muito importante, e existem diversas formas de se fazer a formatação."
   ]
  },
  {
   "cell_type": "code",
   "execution_count": 21,
   "id": "2ed16042",
   "metadata": {},
   "outputs": [
    {
     "name": "stdout",
     "output_type": "stream",
     "text": [
      "Imprima o número 1.000000e+01 como científico e o número 20 normal\n"
     ]
    }
   ],
   "source": [
    "s1 = \"Imprima o número {:e} como científico e o número {} normal\".format(10,20)\n",
    "print(s1)"
   ]
  },
  {
   "cell_type": "markdown",
   "id": "2d64e910-5dc8-4fda-9153-e1b50d9681b0",
   "metadata": {},
   "source": [
    "### Conversões entre tipos\n",
    "\n",
    "Em algumas situações precisamos transformar uma variável de um tipo em outro, ou ainda, pode ser necessário \"forçar\" um tipo de variável (seria o equivalente a declarar uma variável de um tipo específico em outras linguagens de programação). Esse processo é chamado de `casting` (https://www.w3schools.com/python/python_casting.asp). Fazemos o *casting* com os métodos `int()`, `float()`, `str()`.\n",
    "\n",
    "O exemplo abaixo copia uma variável do tipo string em outra variável, porém forçando a mesma a ser salva como um inteiro:\n"
   ]
  },
  {
   "cell_type": "code",
   "execution_count": 23,
   "id": "f942505e-817f-49fe-b307-e8359cae572f",
   "metadata": {},
   "outputs": [
    {
     "data": {
      "text/plain": [
       "int"
      ]
     },
     "execution_count": 23,
     "metadata": {},
     "output_type": "execute_result"
    }
   ],
   "source": [
    "var_string = \"1\"\n",
    "var_int    = int(var_string)\n",
    "type(var_int)"
   ]
  },
  {
   "cell_type": "markdown",
   "id": "eb32b0d7-63a3-4f63-80b6-0e583f38d725",
   "metadata": {},
   "source": [
    "Já o exemplo abaixo cria uma variável, forçando a mesma a ser do tipo `float()`:"
   ]
  },
  {
   "cell_type": "code",
   "execution_count": 24,
   "id": "b1db2607-87bd-4b48-8cfd-c35506910bed",
   "metadata": {},
   "outputs": [],
   "source": [
    "var_real1 = float()"
   ]
  },
  {
   "cell_type": "markdown",
   "id": "773708a2-40d1-4879-8dee-3ed0e4ba72f7",
   "metadata": {},
   "source": [
    "Sempre que usamos a função 'input()', o valor lido é salvo como uma *string*. No código abaixo, mesmo que o usuário digite um número, a operação gera um erro, pois internamente estamos somando um inteiro (10) com uma string:"
   ]
  },
  {
   "cell_type": "code",
   "execution_count": 26,
   "id": "0251cae7-6c57-49cc-a335-319d9167b68e",
   "metadata": {},
   "outputs": [
    {
     "name": "stdin",
     "output_type": "stream",
     "text": [
      "Digite um número: 10\n"
     ]
    },
    {
     "ename": "TypeError",
     "evalue": "can only concatenate str (not \"int\") to str",
     "output_type": "error",
     "traceback": [
      "\u001b[1;31m---------------------------------------------------------------------------\u001b[0m",
      "\u001b[1;31mTypeError\u001b[0m                                 Traceback (most recent call last)",
      "Cell \u001b[1;32mIn[26], line 2\u001b[0m\n\u001b[0;32m      1\u001b[0m s_numero \u001b[38;5;241m=\u001b[39m \u001b[38;5;28minput\u001b[39m(\u001b[38;5;124m\"\u001b[39m\u001b[38;5;124mDigite um número:\u001b[39m\u001b[38;5;124m\"\u001b[39m)\n\u001b[1;32m----> 2\u001b[0m \u001b[38;5;28mprint\u001b[39m(\u001b[43ms_numero\u001b[49m\u001b[43m \u001b[49m\u001b[38;5;241;43m+\u001b[39;49m\u001b[43m \u001b[49m\u001b[38;5;241;43m10\u001b[39;49m)\n",
      "\u001b[1;31mTypeError\u001b[0m: can only concatenate str (not \"int\") to str"
     ]
    }
   ],
   "source": [
    "s_numero = input(\"Digite um número:\")\n",
    "print(s_numero + 10)"
   ]
  },
  {
   "cell_type": "markdown",
   "id": "28f55872-4954-4a80-b374-aa17b086bfb5",
   "metadata": {},
   "source": [
    "Podemos então ler o valor e fazer o **cast** para um tipo inteiro:"
   ]
  },
  {
   "cell_type": "code",
   "execution_count": 27,
   "id": "6079f613-1800-47a3-b887-c1787e3884d8",
   "metadata": {},
   "outputs": [
    {
     "name": "stdin",
     "output_type": "stream",
     "text": [
      "Digite um número: 10\n"
     ]
    },
    {
     "name": "stdout",
     "output_type": "stream",
     "text": [
      "20\n"
     ]
    }
   ],
   "source": [
    "s_numero = int(input(\"Digite um número:\"))\n",
    "print(s_numero + 10)"
   ]
  },
  {
   "cell_type": "markdown",
   "id": "5a775113",
   "metadata": {},
   "source": [
    "### Datas e horas\n",
    "\n",
    "O módulo embutido datetime de Python disponibiliza os tipos **datetime**, **date** e **time**. O tipo datetime combina os tipos date e time."
   ]
  },
  {
   "cell_type": "code",
   "execution_count": 28,
   "id": "786374b8",
   "metadata": {},
   "outputs": [
    {
     "name": "stdout",
     "output_type": "stream",
     "text": [
      "dia :  29\n",
      "hora :  10\n",
      "minuto :  25\n"
     ]
    }
   ],
   "source": [
    "import datetime as dt\n",
    "\n",
    "# Criando um objeto do tipo datetime - ano,mes,dia,hora,minuto,segundo\n",
    "data1 = dt.datetime(2011, 10, 29, 10, 25, 50)\n",
    "\n",
    "# Acessando o dia, hora e minutos\n",
    "print(\"dia : \",data1.day)\n",
    "print(\"hora : \",data1.hour)\n",
    "print(\"minuto : \",data1.minute)"
   ]
  },
  {
   "cell_type": "markdown",
   "id": "0f3e05df",
   "metadata": {},
   "source": [
    "Podemos formatar o datetime como uma string com o método `strftime`"
   ]
  },
  {
   "cell_type": "code",
   "execution_count": 29,
   "id": "bcf78244",
   "metadata": {},
   "outputs": [
    {
     "name": "stdout",
     "output_type": "stream",
     "text": [
      "29/10/2011\n",
      "29.10\n"
     ]
    }
   ],
   "source": [
    "# o %d/%m/%Y dita o formato d:dia m:mes Y: ano, com barras invertidas\n",
    "print(data1.strftime(\"%d/%m/%Y\"))\n",
    "\n",
    "# Formatando com um ponto, sem o ano\n",
    "print(data1.strftime(\"%d.%m\"))"
   ]
  },
  {
   "cell_type": "markdown",
   "id": "3a3be015",
   "metadata": {},
   "source": [
    "A tabela abaixo especifica todos as formatações de datas\n",
    "\n",
    "<table class=\"docutils align-default\">\n",
    "<colgroup>\n",
    "<col style=\"width: 15%\">\n",
    "<col style=\"width: 43%\">\n",
    "<col style=\"width: 32%\">\n",
    "<col style=\"width: 9%\">\n",
    "</colgroup>\n",
    "<thead>\n",
    "<tr class=\"row-odd\"><th class=\"head\"><p>Diretiva</p></th>\n",
    "<th class=\"head\"><p>Significado</p></th>\n",
    "<th class=\"head\"><p>Exemplo</p></th>\n",
    "<th class=\"head\"><p>Notas</p></th>\n",
    "</tr>\n",
    "</thead>\n",
    "<tbody>\n",
    "<tr class=\"row-even\"><td><p><code class=\"docutils literal notranslate\"><span class=\"pre\">%a</span></code></p></td>\n",
    "<td><p>Dias da semana como nomes abreviados da localidade.</p></td>\n",
    "<td><div class=\"line-block\">\n",
    "<div class=\"line\">Sun, Mon, …, Sat\n",
    "(en_US);</div>\n",
    "<div class=\"line\">So, Mo, …, Sa\n",
    "(de_DE)</div>\n",
    "</div>\n",
    "</td>\n",
    "<td><p>(1)</p></td>\n",
    "</tr>\n",
    "<tr class=\"row-odd\"><td><p><code class=\"docutils literal notranslate\"><span class=\"pre\">%A</span></code></p></td>\n",
    "<td><p>Dia da semana como nome completo da localidade.</p></td>\n",
    "<td><div class=\"line-block\">\n",
    "<div class=\"line\">Sunday, Monday, …,\n",
    "Saturday (en_US);</div>\n",
    "<div class=\"line\">Sonntag, Montag, …,\n",
    "Samstag (de_DE)</div>\n",
    "</div>\n",
    "</td>\n",
    "<td><p>(1)</p></td>\n",
    "</tr>\n",
    "<tr class=\"row-even\"><td><p><code class=\"docutils literal notranslate\"><span class=\"pre\">%w</span></code></p></td>\n",
    "<td><p>Dia da semana como um número decimal, onde 0 é domingo e 6 é sábado.</p></td>\n",
    "<td><p>0, 1, …, 6</p></td>\n",
    "<td></td>\n",
    "</tr>\n",
    "<tr class=\"row-odd\"><td><p><code class=\"docutils literal notranslate\"><span class=\"pre\">%d</span></code></p></td>\n",
    "<td><p>Dia do mês como um número decimal com zeros a esquerda.</p></td>\n",
    "<td><p>01, 02, …, 31</p></td>\n",
    "<td><p>(9)</p></td>\n",
    "</tr>\n",
    "<tr class=\"row-even\"><td><p><code class=\"docutils literal notranslate\"><span class=\"pre\">%b</span></code></p></td>\n",
    "<td><p>Mês como nome da localidade abreviado.</p></td>\n",
    "<td><div class=\"line-block\">\n",
    "<div class=\"line\">Jan, Feb, …, Dec\n",
    "(en_US);</div>\n",
    "<div class=\"line\">Jan, Feb, …, Dez\n",
    "(de_DE)</div>\n",
    "</div>\n",
    "</td>\n",
    "<td><p>(1)</p></td>\n",
    "</tr>\n",
    "<tr class=\"row-odd\"><td><p><code class=\"docutils literal notranslate\"><span class=\"pre\">%B</span></code></p></td>\n",
    "<td><p>Mês como nome completo da localidade.</p></td>\n",
    "<td><div class=\"line-block\">\n",
    "<div class=\"line\">January, February,\n",
    "…, December (en_US);</div>\n",
    "<div class=\"line\">janeiro, fevereiro, …, dezembro (pt_BR)</div>\n",
    "</div>\n",
    "</td>\n",
    "<td><p>(1)</p></td>\n",
    "</tr>\n",
    "<tr class=\"row-even\"><td><p><code class=\"docutils literal notranslate\"><span class=\"pre\">%m</span></code></p></td>\n",
    "<td><p>Mês como um número decimal com zeros a esquerda.</p></td>\n",
    "<td><p>01, 02, …, 12</p></td>\n",
    "<td><p>(9)</p></td>\n",
    "</tr>\n",
    "<tr class=\"row-odd\"><td><p><code class=\"docutils literal notranslate\"><span class=\"pre\">%y</span></code></p></td>\n",
    "<td><p>Ano sem século como um número decimal com zeros a esquerda.</p></td>\n",
    "<td><p>00, 01, …, 99</p></td>\n",
    "<td><p>(9)</p></td>\n",
    "</tr>\n",
    "<tr class=\"row-even\"><td><p><code class=\"docutils literal notranslate\"><span class=\"pre\">%Y</span></code></p></td>\n",
    "<td><p>Ano com século como um número decimal.</p></td>\n",
    "<td><p>0001, 0002, …, 2013,\n",
    "2014, …, 9998, 9999</p></td>\n",
    "<td><p>(2)</p></td>\n",
    "</tr>\n",
    "<tr class=\"row-odd\"><td><p><code class=\"docutils literal notranslate\"><span class=\"pre\">%H</span></code></p></td>\n",
    "<td><p>Hora (relógio de 24 horas) como um número decimal com zeros a esquerda.</p></td>\n",
    "<td><p>00, 01, …, 23</p></td>\n",
    "<td><p>(9)</p></td>\n",
    "</tr>\n",
    "<tr class=\"row-even\"><td><p><code class=\"docutils literal notranslate\"><span class=\"pre\">%I</span></code></p></td>\n",
    "<td><p>Hora (relógio de 12 horas) como um número decimal com zeros a esquerda.</p></td>\n",
    "<td><p>01, 02, …, 12</p></td>\n",
    "<td><p>(9)</p></td>\n",
    "</tr>\n",
    "<tr class=\"row-odd\"><td><p><code class=\"docutils literal notranslate\"><span class=\"pre\">%p</span></code></p></td>\n",
    "<td><p>Equivalente da localidade a AM ou PM.</p></td>\n",
    "<td><div class=\"line-block\">\n",
    "<div class=\"line\">AM, PM (en_US);</div>\n",
    "<div class=\"line\">am, pm (de_DE)</div>\n",
    "</div>\n",
    "</td>\n",
    "<td><p>(1),\n",
    "(3)</p></td>\n",
    "</tr>\n",
    "<tr class=\"row-even\"><td><p><code class=\"docutils literal notranslate\"><span class=\"pre\">%M</span></code></p></td>\n",
    "<td><p>Minutos como um número decimal, com zeros a esquerda.</p></td>\n",
    "<td><p>00, 01, …, 59</p></td>\n",
    "<td><p>(9)</p></td>\n",
    "</tr>\n",
    "<tr class=\"row-odd\"><td><p><code class=\"docutils literal notranslate\"><span class=\"pre\">%S</span></code></p></td>\n",
    "<td><p>Segundos como um número decimal, com zeros a esquerda.</p></td>\n",
    "<td><p>00, 01, …, 59</p></td>\n",
    "<td><p>(4),\n",
    "(9)</p></td>\n",
    "</tr>\n",
    "<tr class=\"row-even\"><td><p><code class=\"docutils literal notranslate\"><span class=\"pre\">%f</span></code></p></td>\n",
    "<td><p>Microsecond as a decimal\n",
    "number, zero-padded to 6\n",
    "digits.</p></td>\n",
    "<td><p>000000, 000001, …,\n",
    "999999</p></td>\n",
    "<td><p>(5)</p></td>\n",
    "</tr>\n",
    "<tr class=\"row-odd\"><td><p><code class=\"docutils literal notranslate\"><span class=\"pre\">%z</span></code></p></td>\n",
    "<td><p>Diferença UTC no formato <code class=\"docutils literal notranslate\"><span class=\"pre\">±HHMM[SS[.ffffff]]</span></code> (string vazia se o objeto é ingênuo).</p></td>\n",
    "<td><p>(vazio), +0000, -0400, +1030, +063415, -030712.345216</p></td>\n",
    "<td><p>(6)</p></td>\n",
    "</tr>\n",
    "<tr class=\"row-even\"><td><p><code class=\"docutils literal notranslate\"><span class=\"pre\">%Z</span></code></p></td>\n",
    "<td><p>Nome do fuso horário (string vazia se o objeto é ingênuo).</p></td>\n",
    "<td><p>(vazio), UTC, GMT</p></td>\n",
    "<td><p>(6)</p></td>\n",
    "</tr>\n",
    "<tr class=\"row-odd\"><td><p><code class=\"docutils literal notranslate\"><span class=\"pre\">%j</span></code></p></td>\n",
    "<td><p>Dia do ano como um número decimal, com zeros a esquerda.</p></td>\n",
    "<td><p>001, 002, …, 366</p></td>\n",
    "<td><p>(9)</p></td>\n",
    "</tr>\n",
    "<tr class=\"row-even\"><td><p><code class=\"docutils literal notranslate\"><span class=\"pre\">%U</span></code></p></td>\n",
    "<td><p>Week number of the year\n",
    "(Sunday as the first day of\n",
    "the week) as a zero-padded\n",
    "decimal number. All days in a\n",
    "new year preceding the first\n",
    "Sunday are considered to be in\n",
    "week 0.</p></td>\n",
    "<td><p>00, 01, …, 53</p></td>\n",
    "<td><p>(7),\n",
    "(9)</p></td>\n",
    "</tr>\n",
    "<tr class=\"row-odd\"><td><p><code class=\"docutils literal notranslate\"><span class=\"pre\">%W</span></code></p></td>\n",
    "<td><p>Week number of the year\n",
    "(Monday as the first day of\n",
    "the week) as a zero-padded\n",
    "decimal number. All days in a\n",
    "new year preceding the first\n",
    "Monday are considered to be in\n",
    "week 0.</p></td>\n",
    "<td><p>00, 01, …, 53</p></td>\n",
    "<td><p>(7),\n",
    "(9)</p></td>\n",
    "</tr>\n",
    "<tr class=\"row-even\"><td><p><code class=\"docutils literal notranslate\"><span class=\"pre\">%c</span></code></p></td>\n",
    "<td><p>Representação de data e hora apropriada da localidade.</p></td>\n",
    "<td><div class=\"line-block\">\n",
    "<div class=\"line\">Tue Aug 16 21:30:00\n",
    "1988 (en_US);</div>\n",
    "<div class=\"line\">Di 16 Aug 21:30:00\n",
    "1988 (de_DE)</div>\n",
    "</div>\n",
    "</td>\n",
    "<td><p>(1)</p></td>\n",
    "</tr>\n",
    "<tr class=\"row-odd\"><td><p><code class=\"docutils literal notranslate\"><span class=\"pre\">%x</span></code></p></td>\n",
    "<td><p>Representação de data apropriada de localidade.</p></td>\n",
    "<td><div class=\"line-block\">\n",
    "<div class=\"line\">08/16/88 (None);</div>\n",
    "<div class=\"line\">08/16/1988 (en_US);</div>\n",
    "<div class=\"line\">16.08.1988 (de_DE)</div>\n",
    "</div>\n",
    "</td>\n",
    "<td><p>(1)</p></td>\n",
    "</tr>\n",
    "<tr class=\"row-even\"><td><p><code class=\"docutils literal notranslate\"><span class=\"pre\">%X</span></code></p></td>\n",
    "<td><p>Representação de hora apropriada da localidade.</p></td>\n",
    "<td><div class=\"line-block\">\n",
    "<div class=\"line\">21:30:00 (en_US);</div>\n",
    "<div class=\"line\">21:30:00 (de_DE)</div>\n",
    "</div>\n",
    "</td>\n",
    "<td><p>(1)</p></td>\n",
    "</tr>\n",
    "<tr class=\"row-odd\"><td><p><code class=\"docutils literal notranslate\"><span class=\"pre\">%%</span></code></p></td>\n",
    "<td><p>Um caractere literal <code class=\"docutils literal notranslate\"><span class=\"pre\">'%'</span></code>.</p></td>\n",
    "<td><p>%</p></td>\n",
    "<td></td>\n",
    "</tr>\n",
    "</tbody>\n",
    "</table>"
   ]
  },
  {
   "cell_type": "code",
   "execution_count": 30,
   "id": "60072e49",
   "metadata": {},
   "outputs": [
    {
     "ename": "AttributeError",
     "evalue": "module 'datetime' has no attribute 'strftime'",
     "output_type": "error",
     "traceback": [
      "\u001b[1;31m---------------------------------------------------------------------------\u001b[0m",
      "\u001b[1;31mAttributeError\u001b[0m                            Traceback (most recent call last)",
      "Cell \u001b[1;32mIn[30], line 1\u001b[0m\n\u001b[1;32m----> 1\u001b[0m \u001b[38;5;28mprint\u001b[39m(\u001b[38;5;124m\"\u001b[39m\u001b[38;5;124mO dia da semana da data \u001b[39m\u001b[38;5;124m\"\u001b[39m, \u001b[43mdt\u001b[49m\u001b[38;5;241;43m.\u001b[39;49m\u001b[43mstrftime\u001b[49m(\u001b[38;5;124m\"\u001b[39m\u001b[38;5;132;01m%d\u001b[39;00m\u001b[38;5;124m/\u001b[39m\u001b[38;5;124m%\u001b[39m\u001b[38;5;124mm/\u001b[39m\u001b[38;5;124m%\u001b[39m\u001b[38;5;124mY\u001b[39m\u001b[38;5;124m\"\u001b[39m), \u001b[38;5;124m\"\u001b[39m\u001b[38;5;124m é \u001b[39m\u001b[38;5;124m\"\u001b[39m, dt\u001b[38;5;241m.\u001b[39mstrftime(\u001b[38;5;124m\"\u001b[39m\u001b[38;5;132;01m%a\u001b[39;00m\u001b[38;5;124m\"\u001b[39m))\n",
      "\u001b[1;31mAttributeError\u001b[0m: module 'datetime' has no attribute 'strftime'"
     ]
    }
   ],
   "source": [
    "print(\"O dia da semana da data \", dt.strftime(\"%d/%m/%Y\"), \" é \", dt.strftime(\"%a\"))"
   ]
  },
  {
   "cell_type": "markdown",
   "id": "bee60ab8",
   "metadata": {},
   "source": [
    "Também é possível converter uma string em um `datetime` com o método `strptime`. O primeiro argumento é a string com a data e o segundo o formato em que a data se encontra."
   ]
  },
  {
   "cell_type": "code",
   "execution_count": 31,
   "id": "441b502b",
   "metadata": {},
   "outputs": [
    {
     "ename": "NameError",
     "evalue": "name 'dt2' is not defined",
     "output_type": "error",
     "traceback": [
      "\u001b[1;31m---------------------------------------------------------------------------\u001b[0m",
      "\u001b[1;31mNameError\u001b[0m                                 Traceback (most recent call last)",
      "Cell \u001b[1;32mIn[31], line 3\u001b[0m\n\u001b[0;32m      1\u001b[0m string_tempo1 \u001b[38;5;241m=\u001b[39m \u001b[38;5;124m\"\u001b[39m\u001b[38;5;124m12/06/2022\u001b[39m\u001b[38;5;124m\"\u001b[39m\n\u001b[0;32m      2\u001b[0m data2 \u001b[38;5;241m=\u001b[39m dt\u001b[38;5;241m.\u001b[39mdatetime\u001b[38;5;241m.\u001b[39mstrptime(string_tempo1, \u001b[38;5;124m\"\u001b[39m\u001b[38;5;132;01m%d\u001b[39;00m\u001b[38;5;124m/\u001b[39m\u001b[38;5;124m%\u001b[39m\u001b[38;5;124mm/\u001b[39m\u001b[38;5;124m%\u001b[39m\u001b[38;5;124mY\u001b[39m\u001b[38;5;124m\"\u001b[39m)\n\u001b[1;32m----> 3\u001b[0m \u001b[38;5;28mprint\u001b[39m(\u001b[43mdt2\u001b[49m\u001b[38;5;241m.\u001b[39mday, dt2\u001b[38;5;241m.\u001b[39myear)\n\u001b[0;32m      5\u001b[0m string_tempo2 \u001b[38;5;241m=\u001b[39m \u001b[38;5;124m\"\u001b[39m\u001b[38;5;124m12-06-2022\u001b[39m\u001b[38;5;124m\"\u001b[39m\n\u001b[0;32m      6\u001b[0m data3 \u001b[38;5;241m=\u001b[39m dt\u001b[38;5;241m.\u001b[39mdatetime\u001b[38;5;241m.\u001b[39mstrptime(string_tempo2, \u001b[38;5;124m\"\u001b[39m\u001b[38;5;132;01m%d\u001b[39;00m\u001b[38;5;124m-\u001b[39m\u001b[38;5;124m%\u001b[39m\u001b[38;5;124mm-\u001b[39m\u001b[38;5;124m%\u001b[39m\u001b[38;5;124mY\u001b[39m\u001b[38;5;124m\"\u001b[39m)\n",
      "\u001b[1;31mNameError\u001b[0m: name 'dt2' is not defined"
     ]
    }
   ],
   "source": [
    "string_tempo1 = \"12/06/2022\"\n",
    "data2 = dt.datetime.strptime(string_tempo1, \"%d/%m/%Y\")\n",
    "print(dt2.day, dt2.year)\n",
    "\n",
    "string_tempo2 = \"12-06-2022\"\n",
    "data3 = dt.datetime.strptime(string_tempo2, \"%d-%m-%Y\")\n",
    "print(dt3.day, dt3.year)"
   ]
  },
  {
   "cell_type": "markdown",
   "id": "2daba16a",
   "metadata": {},
   "source": [
    "Podemos realizar operações entre os objetos datetime, sempre gerando um novo objeto. Considere a subtração de duas datas gerando um objeto do tipo **timedelta** (https://www.geeksforgeeks.org/python-datetime-timedelta-function/):"
   ]
  },
  {
   "cell_type": "code",
   "execution_count": 32,
   "id": "c698ea03",
   "metadata": {},
   "outputs": [
    {
     "name": "stdout",
     "output_type": "stream",
     "text": [
      "O tempo entre as duas datas é de :  1:40:00\n",
      "Ou ... 1.67 horas\n"
     ]
    }
   ],
   "source": [
    "s_data1    = \"10/01/2022 08:20\"\n",
    "s_data2    = \"10/01/2022 10:00\"\n",
    "\n",
    "dt_data1 = dt.datetime.strptime(s_data1,\"%d/%m/%Y %H:%M\")\n",
    "dt_data2 = dt.datetime.strptime(s_data2,\"%d/%m/%Y %H:%M\")\n",
    "\n",
    "\n",
    "# Usamos o método total_seconds() para verificar o total de segundos que se passaram\n",
    "# entre uma data e outra, e em seguida transformar para a unidade que desejarmos,\n",
    "# no caso abaixo em horas (60*60).\n",
    "\n",
    "delta_dt1_dt2 = dt_data2 - dt_data1\n",
    "print(\"O tempo entre as duas datas é de : \", delta_dt1_dt2)\n",
    "print(\"Ou ... {0:.2f} horas\".format(delta_dt1_dt2.total_seconds()/3600))"
   ]
  },
  {
   "cell_type": "markdown",
   "id": "f522d9fa",
   "metadata": {},
   "source": [
    "### Booleanos\n",
    "\n",
    "Os dois valores booleanos em Python são escritos como **True** e **False**. Comparações são avaliadas como **True** ou **False**. Valores booleanos são combinados com as palavras reservadas **and** e **or**"
   ]
  },
  {
   "cell_type": "code",
   "execution_count": 33,
   "id": "cc865900",
   "metadata": {},
   "outputs": [
    {
     "data": {
      "text/plain": [
       "True"
      ]
     },
     "execution_count": 33,
     "metadata": {},
     "output_type": "execute_result"
    }
   ],
   "source": [
    "True and True"
   ]
  },
  {
   "cell_type": "code",
   "execution_count": 34,
   "id": "87127d6a",
   "metadata": {},
   "outputs": [
    {
     "data": {
      "text/plain": [
       "True"
      ]
     },
     "execution_count": 34,
     "metadata": {},
     "output_type": "execute_result"
    }
   ],
   "source": [
    "False or True"
   ]
  },
  {
   "cell_type": "markdown",
   "id": "dbb9cc59",
   "metadata": {},
   "source": [
    "## 2.7 Controle de fluxo (if, elif e else)\n",
    "\n",
    "A instrução **if** é um dos tipos de controle mais conhecidos. Ele verifica uma condição que, se for **True**, fará o bloco que vem a seguir ser avaliado.\n",
    "\n",
    "**OBSERVAÇÃO IMPORTANTE:** Bloco de instrução é o conjunto das instruções que estejam num mesmo nível de indentação, mesmo nível hierárquico. No Pyhton os blocos são diferenciados APENAS por dois pontos (:) e pela indentação, ou seja, pelos \"recuos\" nas linhas. Diferetemente de C++, R ou mesmo JavasCript, que os blocos são delimitados por chaves!"
   ]
  },
  {
   "cell_type": "code",
   "execution_count": 36,
   "id": "19a78aec",
   "metadata": {},
   "outputs": [
    {
     "name": "stdout",
     "output_type": "stream",
     "text": [
      "X é maior do que 15\n"
     ]
    }
   ],
   "source": [
    "x = 10\n",
    "if x < 15:\n",
    "    print(\"X é maior do que 15\")"
   ]
  },
  {
   "cell_type": "markdown",
   "id": "f8b0f4ae",
   "metadata": {},
   "source": [
    "Podemos ainda encadear um if em seguida de outro:"
   ]
  },
  {
   "cell_type": "code",
   "execution_count": 37,
   "id": "9beed215",
   "metadata": {},
   "outputs": [
    {
     "name": "stdin",
     "output_type": "stream",
     "text": [
      "Digite um número inteiro : 10\n"
     ]
    },
    {
     "name": "stdout",
     "output_type": "stream",
     "text": [
      "O número está entre [10,19]\n"
     ]
    }
   ],
   "source": [
    "x = int(input(\"Digite um número inteiro :\"))\n",
    "if  x < 10:\n",
    "    print(\"O número é < 10\")\n",
    "elif x < 20:\n",
    "    print(\"O número está entre [10,19]\")\n",
    "else:\n",
    "    print(\"O número é >= 20\")"
   ]
  },
  {
   "cell_type": "markdown",
   "id": "55f206da",
   "metadata": {},
   "source": [
    "**ifs** aninhados devem manter a hierarquia da indentações:"
   ]
  },
  {
   "cell_type": "code",
   "execution_count": 38,
   "id": "99545369",
   "metadata": {},
   "outputs": [
    {
     "name": "stdout",
     "output_type": "stream",
     "text": [
      "a + b são maiores do que 30, e a > b\n"
     ]
    }
   ],
   "source": [
    "a = 21\n",
    "b = 20\n",
    "c = True\n",
    "\n",
    "if (a + b) > 30:\n",
    "    if a > b:\n",
    "        print(\"a + b são maiores do que 30, e a > b\")\n",
    "    else:\n",
    "        print(\"a + b são maiores do que 30, e a < b\")\n",
    "else:\n",
    "    if a > b:\n",
    "        print(\"a + b são menores do que 30, e a > b\")\n",
    "    else:\n",
    "        print(\"a + b são menores do que 30, e a < b\")"
   ]
  },
  {
   "cell_type": "markdown",
   "id": "e66cb7ab",
   "metadata": {},
   "source": [
    "## 2.8 Laços de repetição\n",
    "Os laços de repetição executam um bloco de ações até que uma condição seja satisfeita.\n",
    "### Laços for\n",
    "\n",
    "\n",
    "O laço **for** serve para iterar em uma coleção (como uma lista ou uma tupla)"
   ]
  },
  {
   "cell_type": "code",
   "execution_count": 39,
   "id": "376a645a",
   "metadata": {},
   "outputs": [
    {
     "name": "stdout",
     "output_type": "stream",
     "text": [
      "1\n",
      "2\n",
      "string\n",
      "True\n",
      "0.85\n"
     ]
    }
   ],
   "source": [
    "lista = [1,2,\"string\",True,0.85]\n",
    "\n",
    "# Usando for para iterar sobre os elementos da lista\n",
    "for e in lista:\n",
    "    print(e)"
   ]
  },
  {
   "cell_type": "markdown",
   "id": "56bd6632",
   "metadata": {},
   "source": [
    "Podemos parar a execução de um laço for com a palavra **break**"
   ]
  },
  {
   "cell_type": "code",
   "execution_count": 40,
   "id": "7c25ed68",
   "metadata": {},
   "outputs": [
    {
     "name": "stdout",
     "output_type": "stream",
     "text": [
      "1\n",
      "2\n",
      "string\n",
      "True\n"
     ]
    }
   ],
   "source": [
    "# Para a impressão dos elementos da lista caso algum elemento seja == 0.85\n",
    "for e in lista:\n",
    "    if e == 0.85:\n",
    "        break\n",
    "    else:\n",
    "        print(e)"
   ]
  },
  {
   "cell_type": "markdown",
   "id": "a6f760f9",
   "metadata": {},
   "source": [
    "Podemos iterar a lista pelos indices. Usamos a função **range()**. Esta função cria um iterador que produz uma sequência de inteiros uniformemente espaçados. Podemos passar o inicio e o fim-1 dos números gerados, ou somente o fim-1, e o range gera a partir do 0."
   ]
  },
  {
   "cell_type": "code",
   "execution_count": 41,
   "id": "90b4f5a2",
   "metadata": {},
   "outputs": [
    {
     "name": "stdout",
     "output_type": "stream",
     "text": [
      "0\n",
      "1\n",
      "2\n",
      "3\n",
      "4\n",
      "5\n",
      "6\n",
      "7\n",
      "8\n",
      "9\n"
     ]
    }
   ],
   "source": [
    "for i in range(0,10):\n",
    "    print(i)"
   ]
  },
  {
   "cell_type": "code",
   "execution_count": 42,
   "id": "89487b84",
   "metadata": {},
   "outputs": [
    {
     "name": "stdout",
     "output_type": "stream",
     "text": [
      "3\n",
      "4\n",
      "5\n",
      "6\n",
      "7\n",
      "8\n",
      "9\n"
     ]
    }
   ],
   "source": [
    "for i in range(3,10):\n",
    "    print(i)"
   ]
  },
  {
   "cell_type": "markdown",
   "id": "f492fb98",
   "metadata": {},
   "source": [
    "Usando indices negativos criamos um range reverso, para isso precisamos passar como argumentos o inicio,o fim e o passo (negativo). No exemplo abaixo o inicio é 10 até 0, de -1 em -1."
   ]
  },
  {
   "cell_type": "code",
   "execution_count": 43,
   "id": "e2c70992",
   "metadata": {},
   "outputs": [
    {
     "name": "stdout",
     "output_type": "stream",
     "text": [
      "10\n",
      "9\n",
      "8\n",
      "7\n",
      "6\n",
      "5\n",
      "4\n",
      "3\n",
      "2\n",
      "1\n",
      "0\n"
     ]
    }
   ],
   "source": [
    "for i in range(10,-1,-1):\n",
    "    print(i)"
   ]
  },
  {
   "cell_type": "markdown",
   "id": "f74d1a4c",
   "metadata": {},
   "source": [
    "Dessa forma, usamos a função **len()** que determina o tamanho de um objeto, junto a função range para iterarmos em uma lista:"
   ]
  },
  {
   "cell_type": "code",
   "execution_count": 44,
   "id": "5b4135e2",
   "metadata": {},
   "outputs": [
    {
     "name": "stdout",
     "output_type": "stream",
     "text": [
      "A lista contém 5 elementos, são eles: \n",
      "1\n",
      "2\n",
      "string\n",
      "True\n",
      "0.85\n"
     ]
    }
   ],
   "source": [
    "print(\"A lista contém {} elementos, são eles: \".format(len(lista)))\n",
    "for i in range(len(lista)):\n",
    "    print(lista[i])"
   ]
  },
  {
   "cell_type": "markdown",
   "id": "32a2598e",
   "metadata": {},
   "source": [
    "### Laços while\n",
    "Um laço **while** especifica uma condição e um bloco de código que deverá ser executado até a condição ser avaliada como False, ou o laço seja explicitamente encerrado com o **break**."
   ]
  },
  {
   "cell_type": "code",
   "execution_count": 45,
   "id": "b02af40c",
   "metadata": {},
   "outputs": [
    {
     "name": "stdout",
     "output_type": "stream",
     "text": [
      "13\n",
      "16\n",
      "19\n",
      "22\n",
      "25\n",
      "28\n",
      "31\n"
     ]
    }
   ],
   "source": [
    "num = 10\n",
    "while num < 30:\n",
    "    num = num + 3\n",
    "    print(num)"
   ]
  },
  {
   "cell_type": "markdown",
   "id": "14220ff0",
   "metadata": {},
   "source": [
    "O laço abaixo pede um input do usuário até que a letra \"a\" seja digitada, caso contrário o laço não para:"
   ]
  },
  {
   "cell_type": "code",
   "execution_count": 46,
   "id": "75c5e90d",
   "metadata": {},
   "outputs": [
    {
     "name": "stdin",
     "output_type": "stream",
     "text": [
      "Digite a letra mágica, que eu paro de aparecer...: b\n",
      "Digite a letra mágica, que eu paro de aparecer...: f\n",
      "Digite a letra mágica, que eu paro de aparecer...: t\n",
      "Digite a letra mágica, que eu paro de aparecer...: a\n"
     ]
    }
   ],
   "source": [
    "parada = \"\"\n",
    "while parada != \"a\":\n",
    "    parada = input(\"Digite a letra mágica, que eu paro de aparecer...:\")"
   ]
  },
  {
   "cell_type": "markdown",
   "id": "ec22e4c6",
   "metadata": {},
   "source": [
    "<div style=\"background-color:gray\">\n",
    "    <h1 style = \"text-align:center; color:white\"> Exercícios </h1>\n",
    "</div>\n",
    "\n",
    "<p style = \"text-align: justify;\">\n",
    "    <ol style = \"text-align: justify;\">\n",
    "        <li> Crie uma lista com os elementos [10,20,30,1,-1,50,800,500,-600] e imprima as seguintes informações, formatadas em uma frase. DICA: Procure os métodos das listas. OBS: As operações devem ser feitas automaticamente na lista, ou seja, se uma nova lista for passada as operações devem continuar válidas.</li>\n",
    "            <ol style = \"text-align: justify;\">\n",
    "                <li> Número de elementos da lista</li>\n",
    "                <li> Maior e menor elementos da lista </li>\n",
    "                <li> Imprima a lista em ordem crescente</li>\n",
    "                <li> Imprima a lista em ordem decrescente</li>\n",
    "            </ol>\n",
    "        <li> Faça um programa que leia 2 strings e informe o conteúdo delas seguido do seu comprimento. Informe também se as duas strings possuem o mesmo comprimento e são iguais ou diferentes no conteúdo.</li>\n",
    "        <li>Faça um programa que solicite o nome do usuário e imprima-o na vertical </li>\n",
    "        <li>Modifique o programa anterior de forma a mostrar o nome em formato de escada.</li>\n",
    "        <li> Escreva um programa que receba um aniversário como entrada e exiba a idade do usuário e o número de dias até o seu próximo aniversário</li>\n",
    "        <li> Considerando a seguinte sentença atribuida a Sêneca: \"Se vives de acordo com as leis da natureza, nunca serás pobre; se vives de acordo com as opiniões alheias, nunca serás rico.\" Salve a sentença em uma variável e realize as seguintes operações:</li>\n",
    "              <ol style = \"text-align: justify;\">\n",
    "                <li> Receba uma palavra do usuário e imprima quantas vezes a palavra aparece na frase.</li>\n",
    "                    <li> Receba duas palavras do usuário (p1 e p2) e imprima a frase substituindo todas as vezes que p1 ocorre por p2.</li>\n",
    "            </ol>\n",
    "        <li> Escreva um código que leia duas datas de nascimento de duas pessoas fornecidas pelo usuário e realize as seguintes operações:</li>\n",
    "              <ol style = \"text-align: justify;\">\n",
    "                <li> Imprima quantos anos de vida cada pessoa têm.</li>\n",
    "                <li> Imprima qual é a pessoa mais velha.</li>\n",
    "                <li> Imprima a diferença, em anos, das duas pessoas.</li>\n",
    "            </ol>\n",
    "        <li> Um mercado vende 2 tipos de maças, M1 e M2, se o cliente comprar menos de 6\n",
    "maças do tipo M1 o custo unitário/maça é de R$ 0.50, caso compre 6 ou mais o custo unitário passa\n",
    "a ser de R\\$ 0.30. A mesma coisa acontece com as maças do tipo M2, porém abaixo de 10 unidades o preço é de R\\$ 0.40 e a partir de 10 passa a ser de R\\$ 0.20. OBS: Considere que uma pessoa só possa\n",
    "comprar maças de um dos dois tipos. Escreva um algoritmo que leia o tipo de maça e a quantidade a ser comprada pelo usuário, e determine o custo total da compra</li>\n",
    "        <li> Escreva um algoritmo que realize a soma do 400 primeiros números inteiros pares (incluindo 400).</li>\n",
    "        <li> Considere a seguinte lista com as notas dos alunos do curso de Introdução à Mineração de Dados: N = \" [0.5,1.8,10,5.9,7.8,9.5,10,2.5,3,6.9,8,2.5,5.9,10,9.8,7]. Salve as notas em uma lista e calcule as seguintes estatísticas:</li>\n",
    "              <ol style = \"text-align: justify;\">\n",
    "                <li> Maior nota.</li>\n",
    "                <li> Menor nota.</li>\n",
    "                <li> Média da turma.</li>\n",
    "                <li> Para que a turma seja considerada 'boa', a média deve ser > 7. Imprima se a turma é 'boa' ou não.</li>\n",
    "                <li> Calcule o número de alunos que tiraram notas acima e abaixo da média (7).</li>\n",
    "            </ol>\n",
    "        <li> Escreva um algoritmo que leia números informados pelo usuário, e a cada número lido imprima a soma de todos os números digitados até momento, bem como o maior valor. O algoritmo deve parar a sua execução quando o usuário digitar um número negativo.</li>\n",
    "    </ol>\n",
    "</p>"
   ]
  }
 ],
 "metadata": {
  "kernelspec": {
   "display_name": "Python 3 (ipykernel)",
   "language": "python",
   "name": "python3"
  },
  "language_info": {
   "codemirror_mode": {
    "name": "ipython",
    "version": 3
   },
   "file_extension": ".py",
   "mimetype": "text/x-python",
   "name": "python",
   "nbconvert_exporter": "python",
   "pygments_lexer": "ipython3",
   "version": "3.12.4"
  }
 },
 "nbformat": 4,
 "nbformat_minor": 5
}
